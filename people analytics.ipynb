{
 "cells": [
  {
   "cell_type": "code",
   "execution_count": 1,
   "metadata": {},
   "outputs": [],
   "source": [
    "import pandas as pd\n",
    "import numpy as np\n",
    "import matplotlib.pyplot as plt\n",
    "from sklearn.preprocessing import LabelEncoder"
   ]
  },
  {
   "cell_type": "code",
   "execution_count": 2,
   "metadata": {},
   "outputs": [],
   "source": [
    "from sklearn.model_selection import train_test_split\n",
    "from sklearn.linear_model import LogisticRegression\n",
    "from sklearn.neighbors import KNeighborsClassifier\n",
    "from sklearn.model_selection import cross_val_score\n",
    "from sklearn.tree import DecisionTreeClassifier\n",
    "from sklearn.naive_bayes import GaussianNB\n",
    "from sklearn.neural_network import MLPClassifier\n",
    "from sklearn.ensemble import AdaBoostClassifier\n",
    "from sklearn.ensemble import RandomForestClassifier\n",
    "from sklearn import model_selection\n",
    "from sklearn.metrics import classification_report\n",
    "from sklearn.metrics import f1_score\n",
    "from sklearn.metrics import roc_auc_score\n",
    "from sklearn.metrics import accuracy_score\n",
    "from sklearn.svm import SVC\n",
    "from sklearn import preprocessing\n",
    "from sklearn.model_selection import KFold\n",
    "kf = KFold(n_splits=10,random_state=42,shuffle=True)"
   ]
  },
  {
   "cell_type": "code",
   "execution_count": 37,
   "metadata": {},
   "outputs": [],
   "source": [
    "data = \"People+Analytics_MerhaBankCase_2022_dataset.csv\""
   ]
  },
  {
   "cell_type": "code",
   "execution_count": 38,
   "metadata": {},
   "outputs": [
    {
     "data": {
      "text/plain": [
       "(1470, 37)"
      ]
     },
     "execution_count": 38,
     "metadata": {},
     "output_type": "execute_result"
    }
   ],
   "source": [
    "df=pd.read_csv(data,header = 0)\n",
    "df.shape"
   ]
  },
  {
   "cell_type": "code",
   "execution_count": 39,
   "metadata": {},
   "outputs": [
    {
     "data": {
      "text/plain": [
       "JobSatisfaction                    -0.644459\n",
       "JobSatisfactionCont                -0.618039\n",
       "JobLevel                           -0.169105\n",
       "Salary in euros                    -0.159840\n",
       "Age                                -0.159205\n",
       "YearsWithCurrManager               -0.156199\n",
       "RecruitmentCosts                   -0.136326\n",
       "JobInvolvement                     -0.130016\n",
       "EnvironmentSatisfaction            -0.103369\n",
       "WorkLifeBalance                    -0.063939\n",
       "TrainingTimes                      -0.059478\n",
       "ManagerSatisfaction                -0.045872\n",
       "YearsSinceLastPromotion            -0.033019\n",
       "Percentage Salary increase         -0.013478\n",
       "PerformanceRating                   0.006358\n",
       "TotalWorkingYears                   0.011558\n",
       "Sickness days                       0.014741\n",
       "NumCompaniesWorked                  0.043494\n",
       "DistanceFromHome                    0.077924\n",
       "YearsAtCompany                      0.107178\n",
       "YearsInCurrentRole                  0.211835\n",
       "Flight risk likelihood (in 2018)    0.780117\n",
       "Left the company (in 2019)          1.000000\n",
       "StandardHours                            NaN\n",
       "Name: Left the company (in 2019), dtype: float64"
      ]
     },
     "execution_count": 39,
     "metadata": {},
     "output_type": "execute_result"
    }
   ],
   "source": [
    "df.corr()['Left the company (in 2019)'].sort_values()"
   ]
  },
  {
   "cell_type": "code",
   "execution_count": 40,
   "metadata": {},
   "outputs": [
    {
     "data": {
      "text/plain": [
       "StandardHours                            NaN\n",
       "Age                                -0.159205\n",
       "DistanceFromHome                    0.077924\n",
       "JobLevel                           -0.169105\n",
       "Salary in euros                    -0.159840\n",
       "PerformanceRating                   0.006358\n",
       "Percentage Salary increase         -0.013478\n",
       "Sickness days                       0.014741\n",
       "NumCompaniesWorked                  0.043494\n",
       "TotalWorkingYears                   0.011558\n",
       "TrainingTimes                      -0.059478\n",
       "WorkLifeBalance                    -0.063939\n",
       "YearsAtCompany                      0.107178\n",
       "YearsInCurrentRole                  0.211835\n",
       "YearsSinceLastPromotion            -0.033019\n",
       "YearsWithCurrManager               -0.156199\n",
       "RecruitmentCosts                   -0.136326\n",
       "EnvironmentSatisfaction            -0.103369\n",
       "ManagerSatisfaction                -0.045872\n",
       "JobInvolvement                     -0.130016\n",
       "JobSatisfaction                    -0.644459\n",
       "JobSatisfactionCont                -0.618039\n",
       "Flight risk likelihood (in 2018)    0.780117\n",
       "Left the company (in 2019)          1.000000\n",
       "Name: Left the company (in 2019), dtype: float64"
      ]
     },
     "execution_count": 40,
     "metadata": {},
     "output_type": "execute_result"
    }
   ],
   "source": [
    "d = df.drop('EmployeeNumber',axis=1)\n",
    "d.corr()['Left the company (in 2019)']"
   ]
  },
  {
   "cell_type": "code",
   "execution_count": 41,
   "metadata": {},
   "outputs": [
    {
     "data": {
      "text/html": [
       "<div>\n",
       "<style scoped>\n",
       "    .dataframe tbody tr th:only-of-type {\n",
       "        vertical-align: middle;\n",
       "    }\n",
       "\n",
       "    .dataframe tbody tr th {\n",
       "        vertical-align: top;\n",
       "    }\n",
       "\n",
       "    .dataframe thead th {\n",
       "        text-align: right;\n",
       "    }\n",
       "</style>\n",
       "<table border=\"1\" class=\"dataframe\">\n",
       "  <thead>\n",
       "    <tr style=\"text-align: right;\">\n",
       "      <th></th>\n",
       "      <th>Age</th>\n",
       "      <th>DistanceFromHome</th>\n",
       "      <th>JobLevel</th>\n",
       "      <th>Salary in euros</th>\n",
       "      <th>PerformanceRating</th>\n",
       "      <th>Percentage Salary increase</th>\n",
       "      <th>Sickness days</th>\n",
       "      <th>NumCompaniesWorked</th>\n",
       "      <th>TotalWorkingYears</th>\n",
       "      <th>TrainingTimes</th>\n",
       "      <th>WorkLifeBalance</th>\n",
       "      <th>YearsAtCompany</th>\n",
       "      <th>YearsInCurrentRole</th>\n",
       "      <th>YearsSinceLastPromotion</th>\n",
       "      <th>YearsWithCurrManager</th>\n",
       "      <th>RecruitmentCosts</th>\n",
       "      <th>EnvironmentSatisfaction</th>\n",
       "      <th>ManagerSatisfaction</th>\n",
       "      <th>JobInvolvement</th>\n",
       "      <th>JobSatisfaction</th>\n",
       "      <th>JobSatisfactionCont</th>\n",
       "      <th>Flight risk likelihood (in 2018)</th>\n",
       "      <th>Left the company (in 2019)</th>\n",
       "    </tr>\n",
       "  </thead>\n",
       "  <tbody>\n",
       "    <tr>\n",
       "      <th>Age</th>\n",
       "      <td>1.000000</td>\n",
       "      <td>-0.001686</td>\n",
       "      <td>0.509604</td>\n",
       "      <td>0.497855</td>\n",
       "      <td>0.006451</td>\n",
       "      <td>0.003634</td>\n",
       "      <td>0.003203</td>\n",
       "      <td>0.299635</td>\n",
       "      <td>0.591386</td>\n",
       "      <td>-0.019621</td>\n",
       "      <td>-0.021490</td>\n",
       "      <td>0.215943</td>\n",
       "      <td>-0.013686</td>\n",
       "      <td>0.216513</td>\n",
       "      <td>0.202089</td>\n",
       "      <td>0.475313</td>\n",
       "      <td>0.010146</td>\n",
       "      <td>0.053535</td>\n",
       "      <td>0.029820</td>\n",
       "      <td>0.083249</td>\n",
       "      <td>0.084238</td>\n",
       "      <td>-0.131545</td>\n",
       "      <td>-0.159205</td>\n",
       "    </tr>\n",
       "    <tr>\n",
       "      <th>DistanceFromHome</th>\n",
       "      <td>-0.001686</td>\n",
       "      <td>1.000000</td>\n",
       "      <td>0.005303</td>\n",
       "      <td>-0.017014</td>\n",
       "      <td>-0.010004</td>\n",
       "      <td>0.040235</td>\n",
       "      <td>-0.047597</td>\n",
       "      <td>-0.029251</td>\n",
       "      <td>-0.010828</td>\n",
       "      <td>-0.036942</td>\n",
       "      <td>-0.026556</td>\n",
       "      <td>-0.011089</td>\n",
       "      <td>-0.023044</td>\n",
       "      <td>0.010029</td>\n",
       "      <td>0.014406</td>\n",
       "      <td>-0.037243</td>\n",
       "      <td>-0.016075</td>\n",
       "      <td>0.006557</td>\n",
       "      <td>0.008783</td>\n",
       "      <td>-0.065823</td>\n",
       "      <td>-0.065368</td>\n",
       "      <td>0.061814</td>\n",
       "      <td>0.077924</td>\n",
       "    </tr>\n",
       "    <tr>\n",
       "      <th>JobLevel</th>\n",
       "      <td>0.509604</td>\n",
       "      <td>0.005303</td>\n",
       "      <td>1.000000</td>\n",
       "      <td>0.950300</td>\n",
       "      <td>-0.013875</td>\n",
       "      <td>-0.034730</td>\n",
       "      <td>-0.029437</td>\n",
       "      <td>0.142501</td>\n",
       "      <td>0.628679</td>\n",
       "      <td>-0.018191</td>\n",
       "      <td>0.037818</td>\n",
       "      <td>0.371323</td>\n",
       "      <td>-0.017620</td>\n",
       "      <td>0.353885</td>\n",
       "      <td>0.375281</td>\n",
       "      <td>0.934402</td>\n",
       "      <td>0.001212</td>\n",
       "      <td>0.021642</td>\n",
       "      <td>-0.012630</td>\n",
       "      <td>0.129392</td>\n",
       "      <td>0.128309</td>\n",
       "      <td>-0.158797</td>\n",
       "      <td>-0.169105</td>\n",
       "    </tr>\n",
       "    <tr>\n",
       "      <th>Salary in euros</th>\n",
       "      <td>0.497855</td>\n",
       "      <td>-0.017014</td>\n",
       "      <td>0.950300</td>\n",
       "      <td>1.000000</td>\n",
       "      <td>-0.006032</td>\n",
       "      <td>-0.027269</td>\n",
       "      <td>-0.029196</td>\n",
       "      <td>0.149515</td>\n",
       "      <td>0.632749</td>\n",
       "      <td>-0.021736</td>\n",
       "      <td>0.030683</td>\n",
       "      <td>0.367511</td>\n",
       "      <td>-0.016350</td>\n",
       "      <td>0.344978</td>\n",
       "      <td>0.344079</td>\n",
       "      <td>0.961269</td>\n",
       "      <td>-0.006259</td>\n",
       "      <td>0.025873</td>\n",
       "      <td>-0.015271</td>\n",
       "      <td>0.118332</td>\n",
       "      <td>0.121226</td>\n",
       "      <td>-0.154025</td>\n",
       "      <td>-0.159840</td>\n",
       "    </tr>\n",
       "    <tr>\n",
       "      <th>PerformanceRating</th>\n",
       "      <td>0.006451</td>\n",
       "      <td>-0.010004</td>\n",
       "      <td>-0.013875</td>\n",
       "      <td>-0.006032</td>\n",
       "      <td>1.000000</td>\n",
       "      <td>0.522491</td>\n",
       "      <td>-0.030185</td>\n",
       "      <td>-0.019990</td>\n",
       "      <td>0.011550</td>\n",
       "      <td>-0.027300</td>\n",
       "      <td>-0.029152</td>\n",
       "      <td>-0.011636</td>\n",
       "      <td>0.002856</td>\n",
       "      <td>0.000386</td>\n",
       "      <td>-0.012511</td>\n",
       "      <td>0.000892</td>\n",
       "      <td>-0.040484</td>\n",
       "      <td>-0.002527</td>\n",
       "      <td>-0.011164</td>\n",
       "      <td>0.009849</td>\n",
       "      <td>0.009618</td>\n",
       "      <td>0.031830</td>\n",
       "      <td>0.006358</td>\n",
       "    </tr>\n",
       "    <tr>\n",
       "      <th>Percentage Salary increase</th>\n",
       "      <td>0.003634</td>\n",
       "      <td>0.040235</td>\n",
       "      <td>-0.034730</td>\n",
       "      <td>-0.027269</td>\n",
       "      <td>0.522491</td>\n",
       "      <td>1.000000</td>\n",
       "      <td>-0.012482</td>\n",
       "      <td>-0.010238</td>\n",
       "      <td>-0.009191</td>\n",
       "      <td>-0.005221</td>\n",
       "      <td>-0.003280</td>\n",
       "      <td>-0.023592</td>\n",
       "      <td>0.011103</td>\n",
       "      <td>-0.022154</td>\n",
       "      <td>-0.011985</td>\n",
       "      <td>-0.035159</td>\n",
       "      <td>-0.031701</td>\n",
       "      <td>-0.040490</td>\n",
       "      <td>-0.017205</td>\n",
       "      <td>-0.000514</td>\n",
       "      <td>-0.009917</td>\n",
       "      <td>-0.003148</td>\n",
       "      <td>-0.013478</td>\n",
       "    </tr>\n",
       "    <tr>\n",
       "      <th>Sickness days</th>\n",
       "      <td>0.003203</td>\n",
       "      <td>-0.047597</td>\n",
       "      <td>-0.029437</td>\n",
       "      <td>-0.029196</td>\n",
       "      <td>-0.030185</td>\n",
       "      <td>-0.012482</td>\n",
       "      <td>1.000000</td>\n",
       "      <td>0.015447</td>\n",
       "      <td>0.002183</td>\n",
       "      <td>0.005795</td>\n",
       "      <td>-0.009450</td>\n",
       "      <td>0.011957</td>\n",
       "      <td>0.014985</td>\n",
       "      <td>-0.012744</td>\n",
       "      <td>-0.041882</td>\n",
       "      <td>-0.023910</td>\n",
       "      <td>-0.011414</td>\n",
       "      <td>0.007516</td>\n",
       "      <td>0.026473</td>\n",
       "      <td>-0.051959</td>\n",
       "      <td>-0.039358</td>\n",
       "      <td>0.008523</td>\n",
       "      <td>0.014741</td>\n",
       "    </tr>\n",
       "    <tr>\n",
       "      <th>NumCompaniesWorked</th>\n",
       "      <td>0.299635</td>\n",
       "      <td>-0.029251</td>\n",
       "      <td>0.142501</td>\n",
       "      <td>0.149515</td>\n",
       "      <td>-0.019990</td>\n",
       "      <td>-0.010238</td>\n",
       "      <td>0.015447</td>\n",
       "      <td>1.000000</td>\n",
       "      <td>0.301831</td>\n",
       "      <td>-0.066054</td>\n",
       "      <td>-0.008366</td>\n",
       "      <td>-0.041586</td>\n",
       "      <td>0.055328</td>\n",
       "      <td>-0.036814</td>\n",
       "      <td>-0.110319</td>\n",
       "      <td>0.132505</td>\n",
       "      <td>0.012594</td>\n",
       "      <td>0.052733</td>\n",
       "      <td>0.015012</td>\n",
       "      <td>-0.052582</td>\n",
       "      <td>-0.050876</td>\n",
       "      <td>0.035124</td>\n",
       "      <td>0.043494</td>\n",
       "    </tr>\n",
       "    <tr>\n",
       "      <th>TotalWorkingYears</th>\n",
       "      <td>0.591386</td>\n",
       "      <td>-0.010828</td>\n",
       "      <td>0.628679</td>\n",
       "      <td>0.632749</td>\n",
       "      <td>0.011550</td>\n",
       "      <td>-0.009191</td>\n",
       "      <td>0.002183</td>\n",
       "      <td>0.301831</td>\n",
       "      <td>1.000000</td>\n",
       "      <td>-0.052851</td>\n",
       "      <td>-0.029164</td>\n",
       "      <td>0.613952</td>\n",
       "      <td>0.418043</td>\n",
       "      <td>0.223802</td>\n",
       "      <td>0.168825</td>\n",
       "      <td>0.629837</td>\n",
       "      <td>-0.034612</td>\n",
       "      <td>0.008872</td>\n",
       "      <td>-0.030024</td>\n",
       "      <td>0.005216</td>\n",
       "      <td>0.008769</td>\n",
       "      <td>0.007647</td>\n",
       "      <td>0.011558</td>\n",
       "    </tr>\n",
       "    <tr>\n",
       "      <th>TrainingTimes</th>\n",
       "      <td>-0.019621</td>\n",
       "      <td>-0.036942</td>\n",
       "      <td>-0.018191</td>\n",
       "      <td>-0.021736</td>\n",
       "      <td>-0.027300</td>\n",
       "      <td>-0.005221</td>\n",
       "      <td>0.005795</td>\n",
       "      <td>-0.066054</td>\n",
       "      <td>-0.052851</td>\n",
       "      <td>1.000000</td>\n",
       "      <td>0.028072</td>\n",
       "      <td>-0.019894</td>\n",
       "      <td>-0.025083</td>\n",
       "      <td>-0.002067</td>\n",
       "      <td>-0.004096</td>\n",
       "      <td>-0.018883</td>\n",
       "      <td>-0.019359</td>\n",
       "      <td>0.002497</td>\n",
       "      <td>-0.015338</td>\n",
       "      <td>0.055459</td>\n",
       "      <td>0.057351</td>\n",
       "      <td>-0.051170</td>\n",
       "      <td>-0.059478</td>\n",
       "    </tr>\n",
       "    <tr>\n",
       "      <th>WorkLifeBalance</th>\n",
       "      <td>-0.021490</td>\n",
       "      <td>-0.026556</td>\n",
       "      <td>0.037818</td>\n",
       "      <td>0.030683</td>\n",
       "      <td>-0.029152</td>\n",
       "      <td>-0.003280</td>\n",
       "      <td>-0.009450</td>\n",
       "      <td>-0.008366</td>\n",
       "      <td>-0.029164</td>\n",
       "      <td>0.028072</td>\n",
       "      <td>1.000000</td>\n",
       "      <td>-0.028732</td>\n",
       "      <td>-0.076541</td>\n",
       "      <td>0.008941</td>\n",
       "      <td>0.002759</td>\n",
       "      <td>0.026811</td>\n",
       "      <td>0.027627</td>\n",
       "      <td>0.019604</td>\n",
       "      <td>-0.014617</td>\n",
       "      <td>0.025509</td>\n",
       "      <td>0.031857</td>\n",
       "      <td>-0.043107</td>\n",
       "      <td>-0.063939</td>\n",
       "    </tr>\n",
       "    <tr>\n",
       "      <th>YearsAtCompany</th>\n",
       "      <td>0.215943</td>\n",
       "      <td>-0.011089</td>\n",
       "      <td>0.371323</td>\n",
       "      <td>0.367511</td>\n",
       "      <td>-0.011636</td>\n",
       "      <td>-0.023592</td>\n",
       "      <td>0.011957</td>\n",
       "      <td>-0.041586</td>\n",
       "      <td>0.613952</td>\n",
       "      <td>-0.019894</td>\n",
       "      <td>-0.028732</td>\n",
       "      <td>1.000000</td>\n",
       "      <td>0.590698</td>\n",
       "      <td>0.426248</td>\n",
       "      <td>0.439604</td>\n",
       "      <td>0.381258</td>\n",
       "      <td>-0.042839</td>\n",
       "      <td>0.000063</td>\n",
       "      <td>-0.057562</td>\n",
       "      <td>-0.067713</td>\n",
       "      <td>-0.067107</td>\n",
       "      <td>0.085671</td>\n",
       "      <td>0.107178</td>\n",
       "    </tr>\n",
       "    <tr>\n",
       "      <th>YearsInCurrentRole</th>\n",
       "      <td>-0.013686</td>\n",
       "      <td>-0.023044</td>\n",
       "      <td>-0.017620</td>\n",
       "      <td>-0.016350</td>\n",
       "      <td>0.002856</td>\n",
       "      <td>0.011103</td>\n",
       "      <td>0.014985</td>\n",
       "      <td>0.055328</td>\n",
       "      <td>0.418043</td>\n",
       "      <td>-0.025083</td>\n",
       "      <td>-0.076541</td>\n",
       "      <td>0.590698</td>\n",
       "      <td>1.000000</td>\n",
       "      <td>-0.001081</td>\n",
       "      <td>-0.051817</td>\n",
       "      <td>-0.010409</td>\n",
       "      <td>-0.057110</td>\n",
       "      <td>-0.045064</td>\n",
       "      <td>-0.021023</td>\n",
       "      <td>-0.115223</td>\n",
       "      <td>-0.113150</td>\n",
       "      <td>0.175585</td>\n",
       "      <td>0.211835</td>\n",
       "    </tr>\n",
       "    <tr>\n",
       "      <th>YearsSinceLastPromotion</th>\n",
       "      <td>0.216513</td>\n",
       "      <td>0.010029</td>\n",
       "      <td>0.353885</td>\n",
       "      <td>0.344978</td>\n",
       "      <td>0.000386</td>\n",
       "      <td>-0.022154</td>\n",
       "      <td>-0.012744</td>\n",
       "      <td>-0.036814</td>\n",
       "      <td>0.223802</td>\n",
       "      <td>-0.002067</td>\n",
       "      <td>0.008941</td>\n",
       "      <td>0.426248</td>\n",
       "      <td>-0.001081</td>\n",
       "      <td>1.000000</td>\n",
       "      <td>0.510224</td>\n",
       "      <td>0.336295</td>\n",
       "      <td>0.016194</td>\n",
       "      <td>0.033493</td>\n",
       "      <td>-0.024184</td>\n",
       "      <td>0.016807</td>\n",
       "      <td>0.011514</td>\n",
       "      <td>-0.027635</td>\n",
       "      <td>-0.033019</td>\n",
       "    </tr>\n",
       "    <tr>\n",
       "      <th>YearsWithCurrManager</th>\n",
       "      <td>0.202089</td>\n",
       "      <td>0.014406</td>\n",
       "      <td>0.375281</td>\n",
       "      <td>0.344079</td>\n",
       "      <td>-0.012511</td>\n",
       "      <td>-0.011985</td>\n",
       "      <td>-0.041882</td>\n",
       "      <td>-0.110319</td>\n",
       "      <td>0.168825</td>\n",
       "      <td>-0.004096</td>\n",
       "      <td>0.002759</td>\n",
       "      <td>0.439604</td>\n",
       "      <td>-0.051817</td>\n",
       "      <td>0.510224</td>\n",
       "      <td>1.000000</td>\n",
       "      <td>0.312763</td>\n",
       "      <td>-0.004999</td>\n",
       "      <td>-0.000867</td>\n",
       "      <td>0.025976</td>\n",
       "      <td>0.074035</td>\n",
       "      <td>0.067432</td>\n",
       "      <td>-0.148118</td>\n",
       "      <td>-0.156199</td>\n",
       "    </tr>\n",
       "    <tr>\n",
       "      <th>RecruitmentCosts</th>\n",
       "      <td>0.475313</td>\n",
       "      <td>-0.037243</td>\n",
       "      <td>0.934402</td>\n",
       "      <td>0.961269</td>\n",
       "      <td>0.000892</td>\n",
       "      <td>-0.035159</td>\n",
       "      <td>-0.023910</td>\n",
       "      <td>0.132505</td>\n",
       "      <td>0.629837</td>\n",
       "      <td>-0.018883</td>\n",
       "      <td>0.026811</td>\n",
       "      <td>0.381258</td>\n",
       "      <td>-0.010409</td>\n",
       "      <td>0.336295</td>\n",
       "      <td>0.312763</td>\n",
       "      <td>1.000000</td>\n",
       "      <td>-0.008144</td>\n",
       "      <td>0.030477</td>\n",
       "      <td>-0.014280</td>\n",
       "      <td>0.102901</td>\n",
       "      <td>0.106023</td>\n",
       "      <td>-0.137636</td>\n",
       "      <td>-0.136326</td>\n",
       "    </tr>\n",
       "    <tr>\n",
       "      <th>EnvironmentSatisfaction</th>\n",
       "      <td>0.010146</td>\n",
       "      <td>-0.016075</td>\n",
       "      <td>0.001212</td>\n",
       "      <td>-0.006259</td>\n",
       "      <td>-0.040484</td>\n",
       "      <td>-0.031701</td>\n",
       "      <td>-0.011414</td>\n",
       "      <td>0.012594</td>\n",
       "      <td>-0.034612</td>\n",
       "      <td>-0.019359</td>\n",
       "      <td>0.027627</td>\n",
       "      <td>-0.042839</td>\n",
       "      <td>-0.057110</td>\n",
       "      <td>0.016194</td>\n",
       "      <td>-0.004999</td>\n",
       "      <td>-0.008144</td>\n",
       "      <td>1.000000</td>\n",
       "      <td>0.007665</td>\n",
       "      <td>-0.008278</td>\n",
       "      <td>0.051053</td>\n",
       "      <td>0.042781</td>\n",
       "      <td>-0.086915</td>\n",
       "      <td>-0.103369</td>\n",
       "    </tr>\n",
       "    <tr>\n",
       "      <th>ManagerSatisfaction</th>\n",
       "      <td>0.053535</td>\n",
       "      <td>0.006557</td>\n",
       "      <td>0.021642</td>\n",
       "      <td>0.025873</td>\n",
       "      <td>-0.002527</td>\n",
       "      <td>-0.040490</td>\n",
       "      <td>0.007516</td>\n",
       "      <td>0.052733</td>\n",
       "      <td>0.008872</td>\n",
       "      <td>0.002497</td>\n",
       "      <td>0.019604</td>\n",
       "      <td>0.000063</td>\n",
       "      <td>-0.045064</td>\n",
       "      <td>0.033493</td>\n",
       "      <td>-0.000867</td>\n",
       "      <td>0.030477</td>\n",
       "      <td>0.007665</td>\n",
       "      <td>1.000000</td>\n",
       "      <td>0.034297</td>\n",
       "      <td>0.016928</td>\n",
       "      <td>0.013005</td>\n",
       "      <td>-0.054861</td>\n",
       "      <td>-0.045872</td>\n",
       "    </tr>\n",
       "    <tr>\n",
       "      <th>JobInvolvement</th>\n",
       "      <td>0.029820</td>\n",
       "      <td>0.008783</td>\n",
       "      <td>-0.012630</td>\n",
       "      <td>-0.015271</td>\n",
       "      <td>-0.011164</td>\n",
       "      <td>-0.017205</td>\n",
       "      <td>0.026473</td>\n",
       "      <td>0.015012</td>\n",
       "      <td>-0.030024</td>\n",
       "      <td>-0.015338</td>\n",
       "      <td>-0.014617</td>\n",
       "      <td>-0.057562</td>\n",
       "      <td>-0.021023</td>\n",
       "      <td>-0.024184</td>\n",
       "      <td>0.025976</td>\n",
       "      <td>-0.014280</td>\n",
       "      <td>-0.008278</td>\n",
       "      <td>0.034297</td>\n",
       "      <td>1.000000</td>\n",
       "      <td>0.100216</td>\n",
       "      <td>0.100193</td>\n",
       "      <td>-0.130870</td>\n",
       "      <td>-0.130016</td>\n",
       "    </tr>\n",
       "    <tr>\n",
       "      <th>JobSatisfaction</th>\n",
       "      <td>0.083249</td>\n",
       "      <td>-0.065823</td>\n",
       "      <td>0.129392</td>\n",
       "      <td>0.118332</td>\n",
       "      <td>0.009849</td>\n",
       "      <td>-0.000514</td>\n",
       "      <td>-0.051959</td>\n",
       "      <td>-0.052582</td>\n",
       "      <td>0.005216</td>\n",
       "      <td>0.055459</td>\n",
       "      <td>0.025509</td>\n",
       "      <td>-0.067713</td>\n",
       "      <td>-0.115223</td>\n",
       "      <td>0.016807</td>\n",
       "      <td>0.074035</td>\n",
       "      <td>0.102901</td>\n",
       "      <td>0.051053</td>\n",
       "      <td>0.016928</td>\n",
       "      <td>0.100216</td>\n",
       "      <td>1.000000</td>\n",
       "      <td>0.963407</td>\n",
       "      <td>-0.497411</td>\n",
       "      <td>-0.644459</td>\n",
       "    </tr>\n",
       "    <tr>\n",
       "      <th>JobSatisfactionCont</th>\n",
       "      <td>0.084238</td>\n",
       "      <td>-0.065368</td>\n",
       "      <td>0.128309</td>\n",
       "      <td>0.121226</td>\n",
       "      <td>0.009618</td>\n",
       "      <td>-0.009917</td>\n",
       "      <td>-0.039358</td>\n",
       "      <td>-0.050876</td>\n",
       "      <td>0.008769</td>\n",
       "      <td>0.057351</td>\n",
       "      <td>0.031857</td>\n",
       "      <td>-0.067107</td>\n",
       "      <td>-0.113150</td>\n",
       "      <td>0.011514</td>\n",
       "      <td>0.067432</td>\n",
       "      <td>0.106023</td>\n",
       "      <td>0.042781</td>\n",
       "      <td>0.013005</td>\n",
       "      <td>0.100193</td>\n",
       "      <td>0.963407</td>\n",
       "      <td>1.000000</td>\n",
       "      <td>-0.479711</td>\n",
       "      <td>-0.618039</td>\n",
       "    </tr>\n",
       "    <tr>\n",
       "      <th>Flight risk likelihood (in 2018)</th>\n",
       "      <td>-0.131545</td>\n",
       "      <td>0.061814</td>\n",
       "      <td>-0.158797</td>\n",
       "      <td>-0.154025</td>\n",
       "      <td>0.031830</td>\n",
       "      <td>-0.003148</td>\n",
       "      <td>0.008523</td>\n",
       "      <td>0.035124</td>\n",
       "      <td>0.007647</td>\n",
       "      <td>-0.051170</td>\n",
       "      <td>-0.043107</td>\n",
       "      <td>0.085671</td>\n",
       "      <td>0.175585</td>\n",
       "      <td>-0.027635</td>\n",
       "      <td>-0.148118</td>\n",
       "      <td>-0.137636</td>\n",
       "      <td>-0.086915</td>\n",
       "      <td>-0.054861</td>\n",
       "      <td>-0.130870</td>\n",
       "      <td>-0.497411</td>\n",
       "      <td>-0.479711</td>\n",
       "      <td>1.000000</td>\n",
       "      <td>0.780117</td>\n",
       "    </tr>\n",
       "    <tr>\n",
       "      <th>Left the company (in 2019)</th>\n",
       "      <td>-0.159205</td>\n",
       "      <td>0.077924</td>\n",
       "      <td>-0.169105</td>\n",
       "      <td>-0.159840</td>\n",
       "      <td>0.006358</td>\n",
       "      <td>-0.013478</td>\n",
       "      <td>0.014741</td>\n",
       "      <td>0.043494</td>\n",
       "      <td>0.011558</td>\n",
       "      <td>-0.059478</td>\n",
       "      <td>-0.063939</td>\n",
       "      <td>0.107178</td>\n",
       "      <td>0.211835</td>\n",
       "      <td>-0.033019</td>\n",
       "      <td>-0.156199</td>\n",
       "      <td>-0.136326</td>\n",
       "      <td>-0.103369</td>\n",
       "      <td>-0.045872</td>\n",
       "      <td>-0.130016</td>\n",
       "      <td>-0.644459</td>\n",
       "      <td>-0.618039</td>\n",
       "      <td>0.780117</td>\n",
       "      <td>1.000000</td>\n",
       "    </tr>\n",
       "  </tbody>\n",
       "</table>\n",
       "</div>"
      ],
      "text/plain": [
       "                                       Age  DistanceFromHome  JobLevel  \\\n",
       "Age                               1.000000         -0.001686  0.509604   \n",
       "DistanceFromHome                 -0.001686          1.000000  0.005303   \n",
       "JobLevel                          0.509604          0.005303  1.000000   \n",
       "Salary in euros                   0.497855         -0.017014  0.950300   \n",
       "PerformanceRating                 0.006451         -0.010004 -0.013875   \n",
       "Percentage Salary increase        0.003634          0.040235 -0.034730   \n",
       "Sickness days                     0.003203         -0.047597 -0.029437   \n",
       "NumCompaniesWorked                0.299635         -0.029251  0.142501   \n",
       "TotalWorkingYears                 0.591386         -0.010828  0.628679   \n",
       "TrainingTimes                    -0.019621         -0.036942 -0.018191   \n",
       "WorkLifeBalance                  -0.021490         -0.026556  0.037818   \n",
       "YearsAtCompany                    0.215943         -0.011089  0.371323   \n",
       "YearsInCurrentRole               -0.013686         -0.023044 -0.017620   \n",
       "YearsSinceLastPromotion           0.216513          0.010029  0.353885   \n",
       "YearsWithCurrManager              0.202089          0.014406  0.375281   \n",
       "RecruitmentCosts                  0.475313         -0.037243  0.934402   \n",
       "EnvironmentSatisfaction           0.010146         -0.016075  0.001212   \n",
       "ManagerSatisfaction               0.053535          0.006557  0.021642   \n",
       "JobInvolvement                    0.029820          0.008783 -0.012630   \n",
       "JobSatisfaction                   0.083249         -0.065823  0.129392   \n",
       "JobSatisfactionCont               0.084238         -0.065368  0.128309   \n",
       "Flight risk likelihood (in 2018) -0.131545          0.061814 -0.158797   \n",
       "Left the company (in 2019)       -0.159205          0.077924 -0.169105   \n",
       "\n",
       "                                  Salary in euros  PerformanceRating  \\\n",
       "Age                                      0.497855           0.006451   \n",
       "DistanceFromHome                        -0.017014          -0.010004   \n",
       "JobLevel                                 0.950300          -0.013875   \n",
       "Salary in euros                          1.000000          -0.006032   \n",
       "PerformanceRating                       -0.006032           1.000000   \n",
       "Percentage Salary increase              -0.027269           0.522491   \n",
       "Sickness days                           -0.029196          -0.030185   \n",
       "NumCompaniesWorked                       0.149515          -0.019990   \n",
       "TotalWorkingYears                        0.632749           0.011550   \n",
       "TrainingTimes                           -0.021736          -0.027300   \n",
       "WorkLifeBalance                          0.030683          -0.029152   \n",
       "YearsAtCompany                           0.367511          -0.011636   \n",
       "YearsInCurrentRole                      -0.016350           0.002856   \n",
       "YearsSinceLastPromotion                  0.344978           0.000386   \n",
       "YearsWithCurrManager                     0.344079          -0.012511   \n",
       "RecruitmentCosts                         0.961269           0.000892   \n",
       "EnvironmentSatisfaction                 -0.006259          -0.040484   \n",
       "ManagerSatisfaction                      0.025873          -0.002527   \n",
       "JobInvolvement                          -0.015271          -0.011164   \n",
       "JobSatisfaction                          0.118332           0.009849   \n",
       "JobSatisfactionCont                      0.121226           0.009618   \n",
       "Flight risk likelihood (in 2018)        -0.154025           0.031830   \n",
       "Left the company (in 2019)              -0.159840           0.006358   \n",
       "\n",
       "                                  Percentage Salary increase  Sickness days  \\\n",
       "Age                                                 0.003634       0.003203   \n",
       "DistanceFromHome                                    0.040235      -0.047597   \n",
       "JobLevel                                           -0.034730      -0.029437   \n",
       "Salary in euros                                    -0.027269      -0.029196   \n",
       "PerformanceRating                                   0.522491      -0.030185   \n",
       "Percentage Salary increase                          1.000000      -0.012482   \n",
       "Sickness days                                      -0.012482       1.000000   \n",
       "NumCompaniesWorked                                 -0.010238       0.015447   \n",
       "TotalWorkingYears                                  -0.009191       0.002183   \n",
       "TrainingTimes                                      -0.005221       0.005795   \n",
       "WorkLifeBalance                                    -0.003280      -0.009450   \n",
       "YearsAtCompany                                     -0.023592       0.011957   \n",
       "YearsInCurrentRole                                  0.011103       0.014985   \n",
       "YearsSinceLastPromotion                            -0.022154      -0.012744   \n",
       "YearsWithCurrManager                               -0.011985      -0.041882   \n",
       "RecruitmentCosts                                   -0.035159      -0.023910   \n",
       "EnvironmentSatisfaction                            -0.031701      -0.011414   \n",
       "ManagerSatisfaction                                -0.040490       0.007516   \n",
       "JobInvolvement                                     -0.017205       0.026473   \n",
       "JobSatisfaction                                    -0.000514      -0.051959   \n",
       "JobSatisfactionCont                                -0.009917      -0.039358   \n",
       "Flight risk likelihood (in 2018)                   -0.003148       0.008523   \n",
       "Left the company (in 2019)                         -0.013478       0.014741   \n",
       "\n",
       "                                  NumCompaniesWorked  TotalWorkingYears  \\\n",
       "Age                                         0.299635           0.591386   \n",
       "DistanceFromHome                           -0.029251          -0.010828   \n",
       "JobLevel                                    0.142501           0.628679   \n",
       "Salary in euros                             0.149515           0.632749   \n",
       "PerformanceRating                          -0.019990           0.011550   \n",
       "Percentage Salary increase                 -0.010238          -0.009191   \n",
       "Sickness days                               0.015447           0.002183   \n",
       "NumCompaniesWorked                          1.000000           0.301831   \n",
       "TotalWorkingYears                           0.301831           1.000000   \n",
       "TrainingTimes                              -0.066054          -0.052851   \n",
       "WorkLifeBalance                            -0.008366          -0.029164   \n",
       "YearsAtCompany                             -0.041586           0.613952   \n",
       "YearsInCurrentRole                          0.055328           0.418043   \n",
       "YearsSinceLastPromotion                    -0.036814           0.223802   \n",
       "YearsWithCurrManager                       -0.110319           0.168825   \n",
       "RecruitmentCosts                            0.132505           0.629837   \n",
       "EnvironmentSatisfaction                     0.012594          -0.034612   \n",
       "ManagerSatisfaction                         0.052733           0.008872   \n",
       "JobInvolvement                              0.015012          -0.030024   \n",
       "JobSatisfaction                            -0.052582           0.005216   \n",
       "JobSatisfactionCont                        -0.050876           0.008769   \n",
       "Flight risk likelihood (in 2018)            0.035124           0.007647   \n",
       "Left the company (in 2019)                  0.043494           0.011558   \n",
       "\n",
       "                                  TrainingTimes  WorkLifeBalance  \\\n",
       "Age                                   -0.019621        -0.021490   \n",
       "DistanceFromHome                      -0.036942        -0.026556   \n",
       "JobLevel                              -0.018191         0.037818   \n",
       "Salary in euros                       -0.021736         0.030683   \n",
       "PerformanceRating                     -0.027300        -0.029152   \n",
       "Percentage Salary increase            -0.005221        -0.003280   \n",
       "Sickness days                          0.005795        -0.009450   \n",
       "NumCompaniesWorked                    -0.066054        -0.008366   \n",
       "TotalWorkingYears                     -0.052851        -0.029164   \n",
       "TrainingTimes                          1.000000         0.028072   \n",
       "WorkLifeBalance                        0.028072         1.000000   \n",
       "YearsAtCompany                        -0.019894        -0.028732   \n",
       "YearsInCurrentRole                    -0.025083        -0.076541   \n",
       "YearsSinceLastPromotion               -0.002067         0.008941   \n",
       "YearsWithCurrManager                  -0.004096         0.002759   \n",
       "RecruitmentCosts                      -0.018883         0.026811   \n",
       "EnvironmentSatisfaction               -0.019359         0.027627   \n",
       "ManagerSatisfaction                    0.002497         0.019604   \n",
       "JobInvolvement                        -0.015338        -0.014617   \n",
       "JobSatisfaction                        0.055459         0.025509   \n",
       "JobSatisfactionCont                    0.057351         0.031857   \n",
       "Flight risk likelihood (in 2018)      -0.051170        -0.043107   \n",
       "Left the company (in 2019)            -0.059478        -0.063939   \n",
       "\n",
       "                                  YearsAtCompany  YearsInCurrentRole  \\\n",
       "Age                                     0.215943           -0.013686   \n",
       "DistanceFromHome                       -0.011089           -0.023044   \n",
       "JobLevel                                0.371323           -0.017620   \n",
       "Salary in euros                         0.367511           -0.016350   \n",
       "PerformanceRating                      -0.011636            0.002856   \n",
       "Percentage Salary increase             -0.023592            0.011103   \n",
       "Sickness days                           0.011957            0.014985   \n",
       "NumCompaniesWorked                     -0.041586            0.055328   \n",
       "TotalWorkingYears                       0.613952            0.418043   \n",
       "TrainingTimes                          -0.019894           -0.025083   \n",
       "WorkLifeBalance                        -0.028732           -0.076541   \n",
       "YearsAtCompany                          1.000000            0.590698   \n",
       "YearsInCurrentRole                      0.590698            1.000000   \n",
       "YearsSinceLastPromotion                 0.426248           -0.001081   \n",
       "YearsWithCurrManager                    0.439604           -0.051817   \n",
       "RecruitmentCosts                        0.381258           -0.010409   \n",
       "EnvironmentSatisfaction                -0.042839           -0.057110   \n",
       "ManagerSatisfaction                     0.000063           -0.045064   \n",
       "JobInvolvement                         -0.057562           -0.021023   \n",
       "JobSatisfaction                        -0.067713           -0.115223   \n",
       "JobSatisfactionCont                    -0.067107           -0.113150   \n",
       "Flight risk likelihood (in 2018)        0.085671            0.175585   \n",
       "Left the company (in 2019)              0.107178            0.211835   \n",
       "\n",
       "                                  YearsSinceLastPromotion  \\\n",
       "Age                                              0.216513   \n",
       "DistanceFromHome                                 0.010029   \n",
       "JobLevel                                         0.353885   \n",
       "Salary in euros                                  0.344978   \n",
       "PerformanceRating                                0.000386   \n",
       "Percentage Salary increase                      -0.022154   \n",
       "Sickness days                                   -0.012744   \n",
       "NumCompaniesWorked                              -0.036814   \n",
       "TotalWorkingYears                                0.223802   \n",
       "TrainingTimes                                   -0.002067   \n",
       "WorkLifeBalance                                  0.008941   \n",
       "YearsAtCompany                                   0.426248   \n",
       "YearsInCurrentRole                              -0.001081   \n",
       "YearsSinceLastPromotion                          1.000000   \n",
       "YearsWithCurrManager                             0.510224   \n",
       "RecruitmentCosts                                 0.336295   \n",
       "EnvironmentSatisfaction                          0.016194   \n",
       "ManagerSatisfaction                              0.033493   \n",
       "JobInvolvement                                  -0.024184   \n",
       "JobSatisfaction                                  0.016807   \n",
       "JobSatisfactionCont                              0.011514   \n",
       "Flight risk likelihood (in 2018)                -0.027635   \n",
       "Left the company (in 2019)                      -0.033019   \n",
       "\n",
       "                                  YearsWithCurrManager  RecruitmentCosts  \\\n",
       "Age                                           0.202089          0.475313   \n",
       "DistanceFromHome                              0.014406         -0.037243   \n",
       "JobLevel                                      0.375281          0.934402   \n",
       "Salary in euros                               0.344079          0.961269   \n",
       "PerformanceRating                            -0.012511          0.000892   \n",
       "Percentage Salary increase                   -0.011985         -0.035159   \n",
       "Sickness days                                -0.041882         -0.023910   \n",
       "NumCompaniesWorked                           -0.110319          0.132505   \n",
       "TotalWorkingYears                             0.168825          0.629837   \n",
       "TrainingTimes                                -0.004096         -0.018883   \n",
       "WorkLifeBalance                               0.002759          0.026811   \n",
       "YearsAtCompany                                0.439604          0.381258   \n",
       "YearsInCurrentRole                           -0.051817         -0.010409   \n",
       "YearsSinceLastPromotion                       0.510224          0.336295   \n",
       "YearsWithCurrManager                          1.000000          0.312763   \n",
       "RecruitmentCosts                              0.312763          1.000000   \n",
       "EnvironmentSatisfaction                      -0.004999         -0.008144   \n",
       "ManagerSatisfaction                          -0.000867          0.030477   \n",
       "JobInvolvement                                0.025976         -0.014280   \n",
       "JobSatisfaction                               0.074035          0.102901   \n",
       "JobSatisfactionCont                           0.067432          0.106023   \n",
       "Flight risk likelihood (in 2018)             -0.148118         -0.137636   \n",
       "Left the company (in 2019)                   -0.156199         -0.136326   \n",
       "\n",
       "                                  EnvironmentSatisfaction  \\\n",
       "Age                                              0.010146   \n",
       "DistanceFromHome                                -0.016075   \n",
       "JobLevel                                         0.001212   \n",
       "Salary in euros                                 -0.006259   \n",
       "PerformanceRating                               -0.040484   \n",
       "Percentage Salary increase                      -0.031701   \n",
       "Sickness days                                   -0.011414   \n",
       "NumCompaniesWorked                               0.012594   \n",
       "TotalWorkingYears                               -0.034612   \n",
       "TrainingTimes                                   -0.019359   \n",
       "WorkLifeBalance                                  0.027627   \n",
       "YearsAtCompany                                  -0.042839   \n",
       "YearsInCurrentRole                              -0.057110   \n",
       "YearsSinceLastPromotion                          0.016194   \n",
       "YearsWithCurrManager                            -0.004999   \n",
       "RecruitmentCosts                                -0.008144   \n",
       "EnvironmentSatisfaction                          1.000000   \n",
       "ManagerSatisfaction                              0.007665   \n",
       "JobInvolvement                                  -0.008278   \n",
       "JobSatisfaction                                  0.051053   \n",
       "JobSatisfactionCont                              0.042781   \n",
       "Flight risk likelihood (in 2018)                -0.086915   \n",
       "Left the company (in 2019)                      -0.103369   \n",
       "\n",
       "                                  ManagerSatisfaction  JobInvolvement  \\\n",
       "Age                                          0.053535        0.029820   \n",
       "DistanceFromHome                             0.006557        0.008783   \n",
       "JobLevel                                     0.021642       -0.012630   \n",
       "Salary in euros                              0.025873       -0.015271   \n",
       "PerformanceRating                           -0.002527       -0.011164   \n",
       "Percentage Salary increase                  -0.040490       -0.017205   \n",
       "Sickness days                                0.007516        0.026473   \n",
       "NumCompaniesWorked                           0.052733        0.015012   \n",
       "TotalWorkingYears                            0.008872       -0.030024   \n",
       "TrainingTimes                                0.002497       -0.015338   \n",
       "WorkLifeBalance                              0.019604       -0.014617   \n",
       "YearsAtCompany                               0.000063       -0.057562   \n",
       "YearsInCurrentRole                          -0.045064       -0.021023   \n",
       "YearsSinceLastPromotion                      0.033493       -0.024184   \n",
       "YearsWithCurrManager                        -0.000867        0.025976   \n",
       "RecruitmentCosts                             0.030477       -0.014280   \n",
       "EnvironmentSatisfaction                      0.007665       -0.008278   \n",
       "ManagerSatisfaction                          1.000000        0.034297   \n",
       "JobInvolvement                               0.034297        1.000000   \n",
       "JobSatisfaction                              0.016928        0.100216   \n",
       "JobSatisfactionCont                          0.013005        0.100193   \n",
       "Flight risk likelihood (in 2018)            -0.054861       -0.130870   \n",
       "Left the company (in 2019)                  -0.045872       -0.130016   \n",
       "\n",
       "                                  JobSatisfaction  JobSatisfactionCont  \\\n",
       "Age                                      0.083249             0.084238   \n",
       "DistanceFromHome                        -0.065823            -0.065368   \n",
       "JobLevel                                 0.129392             0.128309   \n",
       "Salary in euros                          0.118332             0.121226   \n",
       "PerformanceRating                        0.009849             0.009618   \n",
       "Percentage Salary increase              -0.000514            -0.009917   \n",
       "Sickness days                           -0.051959            -0.039358   \n",
       "NumCompaniesWorked                      -0.052582            -0.050876   \n",
       "TotalWorkingYears                        0.005216             0.008769   \n",
       "TrainingTimes                            0.055459             0.057351   \n",
       "WorkLifeBalance                          0.025509             0.031857   \n",
       "YearsAtCompany                          -0.067713            -0.067107   \n",
       "YearsInCurrentRole                      -0.115223            -0.113150   \n",
       "YearsSinceLastPromotion                  0.016807             0.011514   \n",
       "YearsWithCurrManager                     0.074035             0.067432   \n",
       "RecruitmentCosts                         0.102901             0.106023   \n",
       "EnvironmentSatisfaction                  0.051053             0.042781   \n",
       "ManagerSatisfaction                      0.016928             0.013005   \n",
       "JobInvolvement                           0.100216             0.100193   \n",
       "JobSatisfaction                          1.000000             0.963407   \n",
       "JobSatisfactionCont                      0.963407             1.000000   \n",
       "Flight risk likelihood (in 2018)        -0.497411            -0.479711   \n",
       "Left the company (in 2019)              -0.644459            -0.618039   \n",
       "\n",
       "                                  Flight risk likelihood (in 2018)  \\\n",
       "Age                                                      -0.131545   \n",
       "DistanceFromHome                                          0.061814   \n",
       "JobLevel                                                 -0.158797   \n",
       "Salary in euros                                          -0.154025   \n",
       "PerformanceRating                                         0.031830   \n",
       "Percentage Salary increase                               -0.003148   \n",
       "Sickness days                                             0.008523   \n",
       "NumCompaniesWorked                                        0.035124   \n",
       "TotalWorkingYears                                         0.007647   \n",
       "TrainingTimes                                            -0.051170   \n",
       "WorkLifeBalance                                          -0.043107   \n",
       "YearsAtCompany                                            0.085671   \n",
       "YearsInCurrentRole                                        0.175585   \n",
       "YearsSinceLastPromotion                                  -0.027635   \n",
       "YearsWithCurrManager                                     -0.148118   \n",
       "RecruitmentCosts                                         -0.137636   \n",
       "EnvironmentSatisfaction                                  -0.086915   \n",
       "ManagerSatisfaction                                      -0.054861   \n",
       "JobInvolvement                                           -0.130870   \n",
       "JobSatisfaction                                          -0.497411   \n",
       "JobSatisfactionCont                                      -0.479711   \n",
       "Flight risk likelihood (in 2018)                          1.000000   \n",
       "Left the company (in 2019)                                0.780117   \n",
       "\n",
       "                                  Left the company (in 2019)  \n",
       "Age                                                -0.159205  \n",
       "DistanceFromHome                                    0.077924  \n",
       "JobLevel                                           -0.169105  \n",
       "Salary in euros                                    -0.159840  \n",
       "PerformanceRating                                   0.006358  \n",
       "Percentage Salary increase                         -0.013478  \n",
       "Sickness days                                       0.014741  \n",
       "NumCompaniesWorked                                  0.043494  \n",
       "TotalWorkingYears                                   0.011558  \n",
       "TrainingTimes                                      -0.059478  \n",
       "WorkLifeBalance                                    -0.063939  \n",
       "YearsAtCompany                                      0.107178  \n",
       "YearsInCurrentRole                                  0.211835  \n",
       "YearsSinceLastPromotion                            -0.033019  \n",
       "YearsWithCurrManager                               -0.156199  \n",
       "RecruitmentCosts                                   -0.136326  \n",
       "EnvironmentSatisfaction                            -0.103369  \n",
       "ManagerSatisfaction                                -0.045872  \n",
       "JobInvolvement                                     -0.130016  \n",
       "JobSatisfaction                                    -0.644459  \n",
       "JobSatisfactionCont                                -0.618039  \n",
       "Flight risk likelihood (in 2018)                    0.780117  \n",
       "Left the company (in 2019)                          1.000000  "
      ]
     },
     "execution_count": 41,
     "metadata": {},
     "output_type": "execute_result"
    }
   ],
   "source": [
    "d = d.drop(['StandardHours','PensionPlan'],axis=1)\n",
    "d.corr()"
   ]
  },
  {
   "cell_type": "code",
   "execution_count": 42,
   "metadata": {},
   "outputs": [
    {
     "name": "stdout",
     "output_type": "stream",
     "text": [
      "<class 'pandas.core.frame.DataFrame'>\n",
      "RangeIndex: 1470 entries, 0 to 1469\n",
      "Data columns (total 34 columns):\n",
      " #   Column                            Non-Null Count  Dtype \n",
      "---  ------                            --------------  ----- \n",
      " 0   Type of contract                  1470 non-null   object\n",
      " 1   Age                               1470 non-null   int64 \n",
      " 2   Gender                            1470 non-null   object\n",
      " 3   MaritalStatus                     1470 non-null   object\n",
      " 4   Education                         1470 non-null   object\n",
      " 5   EducationField                    1470 non-null   object\n",
      " 6   BusinessTravel                    1470 non-null   object\n",
      " 7   DistanceFromHome                  1470 non-null   int64 \n",
      " 8   Department                        1470 non-null   object\n",
      " 9   JobLevel                          1470 non-null   int64 \n",
      " 10  JobRole                           1470 non-null   object\n",
      " 11  Salary in euros                   1470 non-null   int64 \n",
      " 12  OverTime                          1470 non-null   object\n",
      " 13  PerformanceRating                 1470 non-null   int64 \n",
      " 14  Percentage Salary increase        1470 non-null   int64 \n",
      " 15  TalentStatus                      1470 non-null   object\n",
      " 16  Sickness days                     1470 non-null   int64 \n",
      " 17  NumCompaniesWorked                1470 non-null   int64 \n",
      " 18  TotalWorkingYears                 1470 non-null   int64 \n",
      " 19  TrainingTimes                     1470 non-null   int64 \n",
      " 20  WorkLifeBalance                   1470 non-null   int64 \n",
      " 21  YearsAtCompany                    1470 non-null   int64 \n",
      " 22  YearsInCurrentRole                1470 non-null   int64 \n",
      " 23  YearsSinceLastPromotion           1470 non-null   int64 \n",
      " 24  YearsWithCurrManager              1470 non-null   int64 \n",
      " 25  YearsInCurrentRoleCat             1470 non-null   object\n",
      " 26  RecruitmentCosts                  1470 non-null   int64 \n",
      " 27  EnvironmentSatisfaction           1470 non-null   int64 \n",
      " 28  ManagerSatisfaction               1470 non-null   int64 \n",
      " 29  JobInvolvement                    1470 non-null   int64 \n",
      " 30  JobSatisfaction                   1470 non-null   int64 \n",
      " 31  JobSatisfactionCont               1470 non-null   int64 \n",
      " 32  Flight risk likelihood (in 2018)  1470 non-null   int64 \n",
      " 33  Left the company (in 2019)        1470 non-null   int64 \n",
      "dtypes: int64(23), object(11)\n",
      "memory usage: 390.6+ KB\n"
     ]
    }
   ],
   "source": [
    "d.info()"
   ]
  },
  {
   "cell_type": "code",
   "execution_count": 43,
   "metadata": {},
   "outputs": [
    {
     "data": {
      "text/html": [
       "<div>\n",
       "<style scoped>\n",
       "    .dataframe tbody tr th:only-of-type {\n",
       "        vertical-align: middle;\n",
       "    }\n",
       "\n",
       "    .dataframe tbody tr th {\n",
       "        vertical-align: top;\n",
       "    }\n",
       "\n",
       "    .dataframe thead th {\n",
       "        text-align: right;\n",
       "    }\n",
       "</style>\n",
       "<table border=\"1\" class=\"dataframe\">\n",
       "  <thead>\n",
       "    <tr style=\"text-align: right;\">\n",
       "      <th></th>\n",
       "      <th>Type of contract</th>\n",
       "      <th>Age</th>\n",
       "      <th>Gender</th>\n",
       "      <th>MaritalStatus</th>\n",
       "      <th>Education</th>\n",
       "      <th>EducationField</th>\n",
       "      <th>BusinessTravel</th>\n",
       "      <th>DistanceFromHome</th>\n",
       "      <th>Department</th>\n",
       "      <th>JobLevel</th>\n",
       "      <th>JobRole</th>\n",
       "      <th>Salary in euros</th>\n",
       "      <th>OverTime</th>\n",
       "      <th>PerformanceRating</th>\n",
       "      <th>Percentage Salary increase</th>\n",
       "      <th>TalentStatus</th>\n",
       "      <th>Sickness days</th>\n",
       "      <th>NumCompaniesWorked</th>\n",
       "      <th>TotalWorkingYears</th>\n",
       "      <th>TrainingTimes</th>\n",
       "      <th>WorkLifeBalance</th>\n",
       "      <th>YearsAtCompany</th>\n",
       "      <th>YearsInCurrentRole</th>\n",
       "      <th>YearsSinceLastPromotion</th>\n",
       "      <th>YearsWithCurrManager</th>\n",
       "      <th>YearsInCurrentRoleCat</th>\n",
       "      <th>RecruitmentCosts</th>\n",
       "      <th>EnvironmentSatisfaction</th>\n",
       "      <th>ManagerSatisfaction</th>\n",
       "      <th>JobInvolvement</th>\n",
       "      <th>JobSatisfaction</th>\n",
       "      <th>JobSatisfactionCont</th>\n",
       "      <th>Flight risk likelihood (in 2018)</th>\n",
       "      <th>Left the company (in 2019)</th>\n",
       "    </tr>\n",
       "  </thead>\n",
       "  <tbody>\n",
       "    <tr>\n",
       "      <th>0</th>\n",
       "      <td>Permanent</td>\n",
       "      <td>41</td>\n",
       "      <td>Female</td>\n",
       "      <td>Single</td>\n",
       "      <td>Associate's degree</td>\n",
       "      <td>Finance &amp; Economics</td>\n",
       "      <td>Travel_Rarely</td>\n",
       "      <td>1</td>\n",
       "      <td>Local Branch</td>\n",
       "      <td>2</td>\n",
       "      <td>Branch Representative</td>\n",
       "      <td>71916</td>\n",
       "      <td>Yes</td>\n",
       "      <td>1</td>\n",
       "      <td>11</td>\n",
       "      <td>Contributor A</td>\n",
       "      <td>7</td>\n",
       "      <td>8</td>\n",
       "      <td>17</td>\n",
       "      <td>0</td>\n",
       "      <td>1</td>\n",
       "      <td>15</td>\n",
       "      <td>14</td>\n",
       "      <td>0</td>\n",
       "      <td>5</td>\n",
       "      <td>[13-17]</td>\n",
       "      <td>5753</td>\n",
       "      <td>2</td>\n",
       "      <td>1</td>\n",
       "      <td>3</td>\n",
       "      <td>1</td>\n",
       "      <td>18</td>\n",
       "      <td>100</td>\n",
       "      <td>1</td>\n",
       "    </tr>\n",
       "    <tr>\n",
       "      <th>1</th>\n",
       "      <td>Permanent</td>\n",
       "      <td>59</td>\n",
       "      <td>Female</td>\n",
       "      <td>Married</td>\n",
       "      <td>BsC</td>\n",
       "      <td>Business Administration</td>\n",
       "      <td>Travel_Rarely</td>\n",
       "      <td>3</td>\n",
       "      <td>Local Branch</td>\n",
       "      <td>1</td>\n",
       "      <td>Call center agent</td>\n",
       "      <td>32040</td>\n",
       "      <td>Yes</td>\n",
       "      <td>4</td>\n",
       "      <td>20</td>\n",
       "      <td>Key Talent</td>\n",
       "      <td>5</td>\n",
       "      <td>4</td>\n",
       "      <td>16</td>\n",
       "      <td>3</td>\n",
       "      <td>2</td>\n",
       "      <td>5</td>\n",
       "      <td>4</td>\n",
       "      <td>0</td>\n",
       "      <td>0</td>\n",
       "      <td>[1-4]</td>\n",
       "      <td>0</td>\n",
       "      <td>3</td>\n",
       "      <td>1</td>\n",
       "      <td>4</td>\n",
       "      <td>2</td>\n",
       "      <td>30</td>\n",
       "      <td>2</td>\n",
       "      <td>0</td>\n",
       "    </tr>\n",
       "    <tr>\n",
       "      <th>2</th>\n",
       "      <td>Permanent</td>\n",
       "      <td>30</td>\n",
       "      <td>Male</td>\n",
       "      <td>Divorced</td>\n",
       "      <td>High school diploma</td>\n",
       "      <td>Finance &amp; Economics</td>\n",
       "      <td>Travel_Rarely</td>\n",
       "      <td>24</td>\n",
       "      <td>Local Branch</td>\n",
       "      <td>1</td>\n",
       "      <td>Call center agent</td>\n",
       "      <td>32316</td>\n",
       "      <td>No</td>\n",
       "      <td>4</td>\n",
       "      <td>22</td>\n",
       "      <td>Contributor B</td>\n",
       "      <td>12</td>\n",
       "      <td>1</td>\n",
       "      <td>6</td>\n",
       "      <td>2</td>\n",
       "      <td>3</td>\n",
       "      <td>6</td>\n",
       "      <td>5</td>\n",
       "      <td>0</td>\n",
       "      <td>0</td>\n",
       "      <td>[5-8]</td>\n",
       "      <td>323</td>\n",
       "      <td>4</td>\n",
       "      <td>2</td>\n",
       "      <td>3</td>\n",
       "      <td>3</td>\n",
       "      <td>71</td>\n",
       "      <td>36</td>\n",
       "      <td>0</td>\n",
       "    </tr>\n",
       "    <tr>\n",
       "      <th>3</th>\n",
       "      <td>Permanent</td>\n",
       "      <td>38</td>\n",
       "      <td>Male</td>\n",
       "      <td>Single</td>\n",
       "      <td>BsC</td>\n",
       "      <td>Finance &amp; Economics</td>\n",
       "      <td>Travel_Frequently</td>\n",
       "      <td>23</td>\n",
       "      <td>Head office</td>\n",
       "      <td>3</td>\n",
       "      <td>Marketeer</td>\n",
       "      <td>114312</td>\n",
       "      <td>No</td>\n",
       "      <td>4</td>\n",
       "      <td>21</td>\n",
       "      <td>Contributor A</td>\n",
       "      <td>7</td>\n",
       "      <td>0</td>\n",
       "      <td>10</td>\n",
       "      <td>2</td>\n",
       "      <td>3</td>\n",
       "      <td>9</td>\n",
       "      <td>3</td>\n",
       "      <td>1</td>\n",
       "      <td>8</td>\n",
       "      <td>[1-4]</td>\n",
       "      <td>9145</td>\n",
       "      <td>4</td>\n",
       "      <td>2</td>\n",
       "      <td>2</td>\n",
       "      <td>3</td>\n",
       "      <td>53</td>\n",
       "      <td>11</td>\n",
       "      <td>0</td>\n",
       "    </tr>\n",
       "    <tr>\n",
       "      <th>4</th>\n",
       "      <td>Permanent</td>\n",
       "      <td>36</td>\n",
       "      <td>Male</td>\n",
       "      <td>Married</td>\n",
       "      <td>BsC</td>\n",
       "      <td>IT &amp; Operations</td>\n",
       "      <td>Travel_Rarely</td>\n",
       "      <td>27</td>\n",
       "      <td>Head office</td>\n",
       "      <td>2</td>\n",
       "      <td>IT developer</td>\n",
       "      <td>62844</td>\n",
       "      <td>No</td>\n",
       "      <td>3</td>\n",
       "      <td>13</td>\n",
       "      <td>Rising Star</td>\n",
       "      <td>2</td>\n",
       "      <td>6</td>\n",
       "      <td>17</td>\n",
       "      <td>3</td>\n",
       "      <td>2</td>\n",
       "      <td>7</td>\n",
       "      <td>1</td>\n",
       "      <td>7</td>\n",
       "      <td>7</td>\n",
       "      <td>[1-4]</td>\n",
       "      <td>3771</td>\n",
       "      <td>3</td>\n",
       "      <td>2</td>\n",
       "      <td>3</td>\n",
       "      <td>2</td>\n",
       "      <td>43</td>\n",
       "      <td>40</td>\n",
       "      <td>0</td>\n",
       "    </tr>\n",
       "  </tbody>\n",
       "</table>\n",
       "</div>"
      ],
      "text/plain": [
       "  Type of contract  Age  Gender MaritalStatus            Education  \\\n",
       "0        Permanent   41  Female        Single   Associate's degree   \n",
       "1        Permanent   59  Female       Married                  BsC   \n",
       "2        Permanent   30    Male      Divorced  High school diploma   \n",
       "3        Permanent   38    Male        Single                  BsC   \n",
       "4        Permanent   36    Male       Married                  BsC   \n",
       "\n",
       "            EducationField     BusinessTravel  DistanceFromHome    Department  \\\n",
       "0      Finance & Economics      Travel_Rarely                 1  Local Branch   \n",
       "1  Business Administration      Travel_Rarely                 3  Local Branch   \n",
       "2      Finance & Economics      Travel_Rarely                24  Local Branch   \n",
       "3      Finance & Economics  Travel_Frequently                23   Head office   \n",
       "4          IT & Operations      Travel_Rarely                27   Head office   \n",
       "\n",
       "   JobLevel                JobRole  Salary in euros OverTime  \\\n",
       "0         2  Branch Representative            71916      Yes   \n",
       "1         1      Call center agent            32040      Yes   \n",
       "2         1      Call center agent            32316       No   \n",
       "3         3              Marketeer           114312       No   \n",
       "4         2           IT developer            62844       No   \n",
       "\n",
       "   PerformanceRating  Percentage Salary increase   TalentStatus  \\\n",
       "0                  1                          11  Contributor A   \n",
       "1                  4                          20     Key Talent   \n",
       "2                  4                          22  Contributor B   \n",
       "3                  4                          21  Contributor A   \n",
       "4                  3                          13    Rising Star   \n",
       "\n",
       "   Sickness days  NumCompaniesWorked  TotalWorkingYears  TrainingTimes  \\\n",
       "0              7                   8                 17              0   \n",
       "1              5                   4                 16              3   \n",
       "2             12                   1                  6              2   \n",
       "3              7                   0                 10              2   \n",
       "4              2                   6                 17              3   \n",
       "\n",
       "   WorkLifeBalance  YearsAtCompany  YearsInCurrentRole  \\\n",
       "0                1              15                  14   \n",
       "1                2               5                   4   \n",
       "2                3               6                   5   \n",
       "3                3               9                   3   \n",
       "4                2               7                   1   \n",
       "\n",
       "   YearsSinceLastPromotion  YearsWithCurrManager YearsInCurrentRoleCat  \\\n",
       "0                        0                     5               [13-17]   \n",
       "1                        0                     0                 [1-4]   \n",
       "2                        0                     0                 [5-8]   \n",
       "3                        1                     8                 [1-4]   \n",
       "4                        7                     7                 [1-4]   \n",
       "\n",
       "   RecruitmentCosts  EnvironmentSatisfaction  ManagerSatisfaction  \\\n",
       "0              5753                        2                    1   \n",
       "1                 0                        3                    1   \n",
       "2               323                        4                    2   \n",
       "3              9145                        4                    2   \n",
       "4              3771                        3                    2   \n",
       "\n",
       "   JobInvolvement  JobSatisfaction  JobSatisfactionCont  \\\n",
       "0               3                1                   18   \n",
       "1               4                2                   30   \n",
       "2               3                3                   71   \n",
       "3               2                3                   53   \n",
       "4               3                2                   43   \n",
       "\n",
       "   Flight risk likelihood (in 2018)  Left the company (in 2019)  \n",
       "0                               100                           1  \n",
       "1                                 2                           0  \n",
       "2                                36                           0  \n",
       "3                                11                           0  \n",
       "4                                40                           0  "
      ]
     },
     "execution_count": 43,
     "metadata": {},
     "output_type": "execute_result"
    }
   ],
   "source": [
    "pd.set_option('display.max_columns',40)\n",
    "d.head()"
   ]
  },
  {
   "cell_type": "code",
   "execution_count": 44,
   "metadata": {},
   "outputs": [],
   "source": [
    "dd = d.apply(LabelEncoder().fit_transform)"
   ]
  },
  {
   "cell_type": "code",
   "execution_count": 45,
   "metadata": {},
   "outputs": [
    {
     "name": "stdout",
     "output_type": "stream",
     "text": [
      "<class 'pandas.core.frame.DataFrame'>\n",
      "RangeIndex: 1470 entries, 0 to 1469\n",
      "Data columns (total 34 columns):\n",
      " #   Column                            Non-Null Count  Dtype\n",
      "---  ------                            --------------  -----\n",
      " 0   Type of contract                  1470 non-null   int64\n",
      " 1   Age                               1470 non-null   int64\n",
      " 2   Gender                            1470 non-null   int64\n",
      " 3   MaritalStatus                     1470 non-null   int64\n",
      " 4   Education                         1470 non-null   int64\n",
      " 5   EducationField                    1470 non-null   int64\n",
      " 6   BusinessTravel                    1470 non-null   int64\n",
      " 7   DistanceFromHome                  1470 non-null   int64\n",
      " 8   Department                        1470 non-null   int64\n",
      " 9   JobLevel                          1470 non-null   int64\n",
      " 10  JobRole                           1470 non-null   int64\n",
      " 11  Salary in euros                   1470 non-null   int64\n",
      " 12  OverTime                          1470 non-null   int64\n",
      " 13  PerformanceRating                 1470 non-null   int64\n",
      " 14  Percentage Salary increase        1470 non-null   int64\n",
      " 15  TalentStatus                      1470 non-null   int64\n",
      " 16  Sickness days                     1470 non-null   int64\n",
      " 17  NumCompaniesWorked                1470 non-null   int64\n",
      " 18  TotalWorkingYears                 1470 non-null   int64\n",
      " 19  TrainingTimes                     1470 non-null   int64\n",
      " 20  WorkLifeBalance                   1470 non-null   int64\n",
      " 21  YearsAtCompany                    1470 non-null   int64\n",
      " 22  YearsInCurrentRole                1470 non-null   int64\n",
      " 23  YearsSinceLastPromotion           1470 non-null   int64\n",
      " 24  YearsWithCurrManager              1470 non-null   int64\n",
      " 25  YearsInCurrentRoleCat             1470 non-null   int64\n",
      " 26  RecruitmentCosts                  1470 non-null   int64\n",
      " 27  EnvironmentSatisfaction           1470 non-null   int64\n",
      " 28  ManagerSatisfaction               1470 non-null   int64\n",
      " 29  JobInvolvement                    1470 non-null   int64\n",
      " 30  JobSatisfaction                   1470 non-null   int64\n",
      " 31  JobSatisfactionCont               1470 non-null   int64\n",
      " 32  Flight risk likelihood (in 2018)  1470 non-null   int64\n",
      " 33  Left the company (in 2019)        1470 non-null   int64\n",
      "dtypes: int64(34)\n",
      "memory usage: 390.6 KB\n"
     ]
    }
   ],
   "source": [
    "dd.info()"
   ]
  },
  {
   "cell_type": "code",
   "execution_count": 47,
   "metadata": {},
   "outputs": [
    {
     "data": {
      "text/plain": [
       "JobSatisfaction                    -0.644459\n",
       "JobSatisfactionCont                -0.618039\n",
       "Salary in euros                    -0.196165\n",
       "RecruitmentCosts                   -0.181189\n",
       "JobLevel                           -0.169105\n",
       "Age                                -0.159205\n",
       "YearsWithCurrManager               -0.156199\n",
       "TalentStatus                       -0.152572\n",
       "JobInvolvement                     -0.130016\n",
       "EnvironmentSatisfaction            -0.103369\n",
       "WorkLifeBalance                    -0.063939\n",
       "Department                         -0.060326\n",
       "TrainingTimes                      -0.059478\n",
       "YearsInCurrentRoleCat              -0.057551\n",
       "ManagerSatisfaction                -0.045872\n",
       "YearsSinceLastPromotion            -0.033019\n",
       "JobRole                            -0.028660\n",
       "Education                          -0.024514\n",
       "Percentage Salary increase         -0.013478\n",
       "BusinessTravel                      0.000074\n",
       "PerformanceRating                   0.006358\n",
       "TotalWorkingYears                   0.011810\n",
       "Type of contract                    0.012451\n",
       "Sickness days                       0.018114\n",
       "Gender                              0.029453\n",
       "NumCompaniesWorked                  0.043494\n",
       "EducationField                      0.049414\n",
       "DistanceFromHome                    0.077924\n",
       "YearsAtCompany                      0.107514\n",
       "MaritalStatus                       0.162070\n",
       "YearsInCurrentRole                  0.211835\n",
       "OverTime                            0.246118\n",
       "Flight risk likelihood (in 2018)    0.780117\n",
       "Left the company (in 2019)          1.000000\n",
       "Name: Left the company (in 2019), dtype: float64"
      ]
     },
     "execution_count": 47,
     "metadata": {},
     "output_type": "execute_result"
    }
   ],
   "source": [
    "dd.corr()['Left the company (in 2019)'].sort_values()"
   ]
  },
  {
   "cell_type": "code",
   "execution_count": 160,
   "metadata": {},
   "outputs": [
    {
     "name": "stdout",
     "output_type": "stream",
     "text": [
      "turnover rate is:  0.19\n"
     ]
    },
    {
     "data": {
      "image/png": "[encoded data removed]",
      "text/plain": [
       "<Figure size 432x288 with 1 Axes>"
      ]
     },
     "metadata": {
      "needs_background": "light"
     },
     "output_type": "display_data"
    }
   ],
   "source": [
    "df['Left the company (in 2019)'].value_counts().plot(kind='barh', alpha=0.5)\n",
    "plt.title(\"Number of employee leave the company\");  \n",
    "print('turnover rate is: ', round(237/1233,2))"
   ]
  },
  {
   "cell_type": "code",
   "execution_count": 157,
   "metadata": {},
   "outputs": [
    {
     "data": {
      "text/plain": [
       "0    1233\n",
       "1     237\n",
       "Name: Left the company (in 2019), dtype: int64"
      ]
     },
     "execution_count": 157,
     "metadata": {},
     "output_type": "execute_result"
    }
   ],
   "source": [
    "y.value_counts()"
   ]
  },
  {
   "cell_type": "code",
   "execution_count": 48,
   "metadata": {},
   "outputs": [
    {
     "data": {
      "image/png": "[encoded data removed]",
      "text/plain": [
       "<Figure size 432x288 with 1 Axes>"
      ]
     },
     "metadata": {
      "needs_background": "light"
     },
     "output_type": "display_data"
    }
   ],
   "source": [
    "a = dd.corr()['Left the company (in 2019)'].sort_values()\n",
    "a.plot.bar();"
   ]
  },
  {
   "cell_type": "code",
   "execution_count": 49,
   "metadata": {},
   "outputs": [
    {
     "data": {
      "text/plain": [
       "0    1233\n",
       "1     237\n",
       "Name: Left the company (in 2019), dtype: int64"
      ]
     },
     "execution_count": 49,
     "metadata": {},
     "output_type": "execute_result"
    }
   ],
   "source": [
    "df['Left the company (in 2019)'].value_counts()"
   ]
  },
  {
   "cell_type": "code",
   "execution_count": 50,
   "metadata": {},
   "outputs": [
    {
     "data": {
      "text/html": [
       "<div>\n",
       "<style scoped>\n",
       "    .dataframe tbody tr th:only-of-type {\n",
       "        vertical-align: middle;\n",
       "    }\n",
       "\n",
       "    .dataframe tbody tr th {\n",
       "        vertical-align: top;\n",
       "    }\n",
       "\n",
       "    .dataframe thead th {\n",
       "        text-align: right;\n",
       "    }\n",
       "</style>\n",
       "<table border=\"1\" class=\"dataframe\">\n",
       "  <thead>\n",
       "    <tr style=\"text-align: right;\">\n",
       "      <th></th>\n",
       "      <th>Type of contract</th>\n",
       "      <th>Age</th>\n",
       "      <th>Gender</th>\n",
       "      <th>MaritalStatus</th>\n",
       "      <th>Education</th>\n",
       "      <th>EducationField</th>\n",
       "      <th>BusinessTravel</th>\n",
       "      <th>DistanceFromHome</th>\n",
       "      <th>Department</th>\n",
       "      <th>JobLevel</th>\n",
       "      <th>JobRole</th>\n",
       "      <th>Salary in euros</th>\n",
       "      <th>OverTime</th>\n",
       "      <th>PerformanceRating</th>\n",
       "      <th>Percentage Salary increase</th>\n",
       "      <th>TalentStatus</th>\n",
       "      <th>Sickness days</th>\n",
       "      <th>NumCompaniesWorked</th>\n",
       "      <th>TotalWorkingYears</th>\n",
       "      <th>TrainingTimes</th>\n",
       "      <th>WorkLifeBalance</th>\n",
       "      <th>YearsAtCompany</th>\n",
       "      <th>YearsInCurrentRole</th>\n",
       "      <th>YearsSinceLastPromotion</th>\n",
       "      <th>YearsWithCurrManager</th>\n",
       "      <th>YearsInCurrentRoleCat</th>\n",
       "      <th>RecruitmentCosts</th>\n",
       "      <th>EnvironmentSatisfaction</th>\n",
       "      <th>ManagerSatisfaction</th>\n",
       "      <th>JobInvolvement</th>\n",
       "      <th>JobSatisfaction</th>\n",
       "      <th>Flight risk likelihood (in 2018)</th>\n",
       "      <th>Left the company (in 2019)</th>\n",
       "    </tr>\n",
       "  </thead>\n",
       "  <tbody>\n",
       "    <tr>\n",
       "      <th>0</th>\n",
       "      <td>0</td>\n",
       "      <td>23</td>\n",
       "      <td>0</td>\n",
       "      <td>2</td>\n",
       "      <td>0</td>\n",
       "      <td>1</td>\n",
       "      <td>2</td>\n",
       "      <td>0</td>\n",
       "      <td>1</td>\n",
       "      <td>1</td>\n",
       "      <td>1</td>\n",
       "      <td>809</td>\n",
       "      <td>1</td>\n",
       "      <td>0</td>\n",
       "      <td>0</td>\n",
       "      <td>0</td>\n",
       "      <td>7</td>\n",
       "      <td>8</td>\n",
       "      <td>16</td>\n",
       "      <td>0</td>\n",
       "      <td>0</td>\n",
       "      <td>14</td>\n",
       "      <td>13</td>\n",
       "      <td>0</td>\n",
       "      <td>5</td>\n",
       "      <td>1</td>\n",
       "      <td>783</td>\n",
       "      <td>1</td>\n",
       "      <td>0</td>\n",
       "      <td>2</td>\n",
       "      <td>0</td>\n",
       "      <td>100</td>\n",
       "      <td>1</td>\n",
       "    </tr>\n",
       "    <tr>\n",
       "      <th>1</th>\n",
       "      <td>0</td>\n",
       "      <td>41</td>\n",
       "      <td>0</td>\n",
       "      <td>1</td>\n",
       "      <td>1</td>\n",
       "      <td>0</td>\n",
       "      <td>2</td>\n",
       "      <td>2</td>\n",
       "      <td>1</td>\n",
       "      <td>0</td>\n",
       "      <td>2</td>\n",
       "      <td>238</td>\n",
       "      <td>1</td>\n",
       "      <td>3</td>\n",
       "      <td>9</td>\n",
       "      <td>2</td>\n",
       "      <td>5</td>\n",
       "      <td>4</td>\n",
       "      <td>15</td>\n",
       "      <td>3</td>\n",
       "      <td>1</td>\n",
       "      <td>4</td>\n",
       "      <td>3</td>\n",
       "      <td>0</td>\n",
       "      <td>0</td>\n",
       "      <td>0</td>\n",
       "      <td>0</td>\n",
       "      <td>2</td>\n",
       "      <td>0</td>\n",
       "      <td>3</td>\n",
       "      <td>1</td>\n",
       "      <td>2</td>\n",
       "      <td>0</td>\n",
       "    </tr>\n",
       "    <tr>\n",
       "      <th>2</th>\n",
       "      <td>0</td>\n",
       "      <td>12</td>\n",
       "      <td>1</td>\n",
       "      <td>0</td>\n",
       "      <td>2</td>\n",
       "      <td>1</td>\n",
       "      <td>2</td>\n",
       "      <td>23</td>\n",
       "      <td>1</td>\n",
       "      <td>0</td>\n",
       "      <td>2</td>\n",
       "      <td>246</td>\n",
       "      <td>0</td>\n",
       "      <td>3</td>\n",
       "      <td>11</td>\n",
       "      <td>1</td>\n",
       "      <td>12</td>\n",
       "      <td>1</td>\n",
       "      <td>5</td>\n",
       "      <td>2</td>\n",
       "      <td>2</td>\n",
       "      <td>5</td>\n",
       "      <td>4</td>\n",
       "      <td>0</td>\n",
       "      <td>0</td>\n",
       "      <td>2</td>\n",
       "      <td>39</td>\n",
       "      <td>3</td>\n",
       "      <td>1</td>\n",
       "      <td>2</td>\n",
       "      <td>2</td>\n",
       "      <td>36</td>\n",
       "      <td>0</td>\n",
       "    </tr>\n",
       "    <tr>\n",
       "      <th>3</th>\n",
       "      <td>0</td>\n",
       "      <td>20</td>\n",
       "      <td>1</td>\n",
       "      <td>2</td>\n",
       "      <td>1</td>\n",
       "      <td>1</td>\n",
       "      <td>1</td>\n",
       "      <td>22</td>\n",
       "      <td>0</td>\n",
       "      <td>2</td>\n",
       "      <td>6</td>\n",
       "      <td>1038</td>\n",
       "      <td>0</td>\n",
       "      <td>3</td>\n",
       "      <td>10</td>\n",
       "      <td>0</td>\n",
       "      <td>7</td>\n",
       "      <td>0</td>\n",
       "      <td>9</td>\n",
       "      <td>2</td>\n",
       "      <td>2</td>\n",
       "      <td>8</td>\n",
       "      <td>2</td>\n",
       "      <td>1</td>\n",
       "      <td>8</td>\n",
       "      <td>0</td>\n",
       "      <td>902</td>\n",
       "      <td>3</td>\n",
       "      <td>1</td>\n",
       "      <td>1</td>\n",
       "      <td>2</td>\n",
       "      <td>11</td>\n",
       "      <td>0</td>\n",
       "    </tr>\n",
       "    <tr>\n",
       "      <th>4</th>\n",
       "      <td>0</td>\n",
       "      <td>18</td>\n",
       "      <td>1</td>\n",
       "      <td>1</td>\n",
       "      <td>1</td>\n",
       "      <td>3</td>\n",
       "      <td>2</td>\n",
       "      <td>26</td>\n",
       "      <td>0</td>\n",
       "      <td>1</td>\n",
       "      <td>5</td>\n",
       "      <td>701</td>\n",
       "      <td>0</td>\n",
       "      <td>2</td>\n",
       "      <td>2</td>\n",
       "      <td>3</td>\n",
       "      <td>2</td>\n",
       "      <td>6</td>\n",
       "      <td>16</td>\n",
       "      <td>3</td>\n",
       "      <td>1</td>\n",
       "      <td>6</td>\n",
       "      <td>0</td>\n",
       "      <td>7</td>\n",
       "      <td>7</td>\n",
       "      <td>0</td>\n",
       "      <td>577</td>\n",
       "      <td>2</td>\n",
       "      <td>1</td>\n",
       "      <td>2</td>\n",
       "      <td>1</td>\n",
       "      <td>40</td>\n",
       "      <td>0</td>\n",
       "    </tr>\n",
       "    <tr>\n",
       "      <th>...</th>\n",
       "      <td>...</td>\n",
       "      <td>...</td>\n",
       "      <td>...</td>\n",
       "      <td>...</td>\n",
       "      <td>...</td>\n",
       "      <td>...</td>\n",
       "      <td>...</td>\n",
       "      <td>...</td>\n",
       "      <td>...</td>\n",
       "      <td>...</td>\n",
       "      <td>...</td>\n",
       "      <td>...</td>\n",
       "      <td>...</td>\n",
       "      <td>...</td>\n",
       "      <td>...</td>\n",
       "      <td>...</td>\n",
       "      <td>...</td>\n",
       "      <td>...</td>\n",
       "      <td>...</td>\n",
       "      <td>...</td>\n",
       "      <td>...</td>\n",
       "      <td>...</td>\n",
       "      <td>...</td>\n",
       "      <td>...</td>\n",
       "      <td>...</td>\n",
       "      <td>...</td>\n",
       "      <td>...</td>\n",
       "      <td>...</td>\n",
       "      <td>...</td>\n",
       "      <td>...</td>\n",
       "      <td>...</td>\n",
       "      <td>...</td>\n",
       "      <td>...</td>\n",
       "    </tr>\n",
       "    <tr>\n",
       "      <th>1465</th>\n",
       "      <td>1</td>\n",
       "      <td>18</td>\n",
       "      <td>0</td>\n",
       "      <td>2</td>\n",
       "      <td>2</td>\n",
       "      <td>0</td>\n",
       "      <td>1</td>\n",
       "      <td>17</td>\n",
       "      <td>1</td>\n",
       "      <td>0</td>\n",
       "      <td>2</td>\n",
       "      <td>81</td>\n",
       "      <td>0</td>\n",
       "      <td>1</td>\n",
       "      <td>2</td>\n",
       "      <td>0</td>\n",
       "      <td>6</td>\n",
       "      <td>1</td>\n",
       "      <td>9</td>\n",
       "      <td>2</td>\n",
       "      <td>2</td>\n",
       "      <td>9</td>\n",
       "      <td>8</td>\n",
       "      <td>1</td>\n",
       "      <td>7</td>\n",
       "      <td>3</td>\n",
       "      <td>0</td>\n",
       "      <td>1</td>\n",
       "      <td>0</td>\n",
       "      <td>2</td>\n",
       "      <td>2</td>\n",
       "      <td>37</td>\n",
       "      <td>0</td>\n",
       "    </tr>\n",
       "    <tr>\n",
       "      <th>1466</th>\n",
       "      <td>0</td>\n",
       "      <td>22</td>\n",
       "      <td>1</td>\n",
       "      <td>1</td>\n",
       "      <td>4</td>\n",
       "      <td>1</td>\n",
       "      <td>0</td>\n",
       "      <td>8</td>\n",
       "      <td>0</td>\n",
       "      <td>1</td>\n",
       "      <td>5</td>\n",
       "      <td>644</td>\n",
       "      <td>0</td>\n",
       "      <td>1</td>\n",
       "      <td>3</td>\n",
       "      <td>1</td>\n",
       "      <td>8</td>\n",
       "      <td>9</td>\n",
       "      <td>11</td>\n",
       "      <td>5</td>\n",
       "      <td>0</td>\n",
       "      <td>9</td>\n",
       "      <td>8</td>\n",
       "      <td>0</td>\n",
       "      <td>2</td>\n",
       "      <td>3</td>\n",
       "      <td>475</td>\n",
       "      <td>3</td>\n",
       "      <td>3</td>\n",
       "      <td>1</td>\n",
       "      <td>3</td>\n",
       "      <td>21</td>\n",
       "      <td>0</td>\n",
       "    </tr>\n",
       "    <tr>\n",
       "      <th>1467</th>\n",
       "      <td>0</td>\n",
       "      <td>28</td>\n",
       "      <td>1</td>\n",
       "      <td>0</td>\n",
       "      <td>3</td>\n",
       "      <td>3</td>\n",
       "      <td>2</td>\n",
       "      <td>0</td>\n",
       "      <td>0</td>\n",
       "      <td>2</td>\n",
       "      <td>5</td>\n",
       "      <td>1033</td>\n",
       "      <td>0</td>\n",
       "      <td>0</td>\n",
       "      <td>5</td>\n",
       "      <td>1</td>\n",
       "      <td>6</td>\n",
       "      <td>7</td>\n",
       "      <td>27</td>\n",
       "      <td>3</td>\n",
       "      <td>2</td>\n",
       "      <td>14</td>\n",
       "      <td>13</td>\n",
       "      <td>0</td>\n",
       "      <td>3</td>\n",
       "      <td>1</td>\n",
       "      <td>896</td>\n",
       "      <td>3</td>\n",
       "      <td>2</td>\n",
       "      <td>2</td>\n",
       "      <td>0</td>\n",
       "      <td>1</td>\n",
       "      <td>0</td>\n",
       "    </tr>\n",
       "    <tr>\n",
       "      <th>1468</th>\n",
       "      <td>0</td>\n",
       "      <td>14</td>\n",
       "      <td>1</td>\n",
       "      <td>1</td>\n",
       "      <td>3</td>\n",
       "      <td>0</td>\n",
       "      <td>2</td>\n",
       "      <td>3</td>\n",
       "      <td>1</td>\n",
       "      <td>2</td>\n",
       "      <td>1</td>\n",
       "      <td>1093</td>\n",
       "      <td>0</td>\n",
       "      <td>1</td>\n",
       "      <td>0</td>\n",
       "      <td>0</td>\n",
       "      <td>3</td>\n",
       "      <td>1</td>\n",
       "      <td>13</td>\n",
       "      <td>2</td>\n",
       "      <td>1</td>\n",
       "      <td>13</td>\n",
       "      <td>4</td>\n",
       "      <td>9</td>\n",
       "      <td>8</td>\n",
       "      <td>2</td>\n",
       "      <td>929</td>\n",
       "      <td>3</td>\n",
       "      <td>2</td>\n",
       "      <td>0</td>\n",
       "      <td>0</td>\n",
       "      <td>91</td>\n",
       "      <td>1</td>\n",
       "    </tr>\n",
       "    <tr>\n",
       "      <th>1469</th>\n",
       "      <td>0</td>\n",
       "      <td>12</td>\n",
       "      <td>1</td>\n",
       "      <td>2</td>\n",
       "      <td>2</td>\n",
       "      <td>1</td>\n",
       "      <td>0</td>\n",
       "      <td>0</td>\n",
       "      <td>0</td>\n",
       "      <td>2</td>\n",
       "      <td>6</td>\n",
       "      <td>994</td>\n",
       "      <td>0</td>\n",
       "      <td>3</td>\n",
       "      <td>11</td>\n",
       "      <td>0</td>\n",
       "      <td>1</td>\n",
       "      <td>1</td>\n",
       "      <td>11</td>\n",
       "      <td>2</td>\n",
       "      <td>2</td>\n",
       "      <td>10</td>\n",
       "      <td>3</td>\n",
       "      <td>5</td>\n",
       "      <td>8</td>\n",
       "      <td>0</td>\n",
       "      <td>903</td>\n",
       "      <td>2</td>\n",
       "      <td>2</td>\n",
       "      <td>1</td>\n",
       "      <td>0</td>\n",
       "      <td>27</td>\n",
       "      <td>0</td>\n",
       "    </tr>\n",
       "  </tbody>\n",
       "</table>\n",
       "<p>1470 rows × 33 columns</p>\n",
       "</div>"
      ],
      "text/plain": [
       "      Type of contract  Age  Gender  MaritalStatus  Education  EducationField  \\\n",
       "0                    0   23       0              2          0               1   \n",
       "1                    0   41       0              1          1               0   \n",
       "2                    0   12       1              0          2               1   \n",
       "3                    0   20       1              2          1               1   \n",
       "4                    0   18       1              1          1               3   \n",
       "...                ...  ...     ...            ...        ...             ...   \n",
       "1465                 1   18       0              2          2               0   \n",
       "1466                 0   22       1              1          4               1   \n",
       "1467                 0   28       1              0          3               3   \n",
       "1468                 0   14       1              1          3               0   \n",
       "1469                 0   12       1              2          2               1   \n",
       "\n",
       "      BusinessTravel  DistanceFromHome  Department  JobLevel  JobRole  \\\n",
       "0                  2                 0           1         1        1   \n",
       "1                  2                 2           1         0        2   \n",
       "2                  2                23           1         0        2   \n",
       "3                  1                22           0         2        6   \n",
       "4                  2                26           0         1        5   \n",
       "...              ...               ...         ...       ...      ...   \n",
       "1465               1                17           1         0        2   \n",
       "1466               0                 8           0         1        5   \n",
       "1467               2                 0           0         2        5   \n",
       "1468               2                 3           1         2        1   \n",
       "1469               0                 0           0         2        6   \n",
       "\n",
       "      Salary in euros  OverTime  PerformanceRating  \\\n",
       "0                 809         1                  0   \n",
       "1                 238         1                  3   \n",
       "2                 246         0                  3   \n",
       "3                1038         0                  3   \n",
       "4                 701         0                  2   \n",
       "...               ...       ...                ...   \n",
       "1465               81         0                  1   \n",
       "1466              644         0                  1   \n",
       "1467             1033         0                  0   \n",
       "1468             1093         0                  1   \n",
       "1469              994         0                  3   \n",
       "\n",
       "      Percentage Salary increase  TalentStatus  Sickness days  \\\n",
       "0                              0             0              7   \n",
       "1                              9             2              5   \n",
       "2                             11             1             12   \n",
       "3                             10             0              7   \n",
       "4                              2             3              2   \n",
       "...                          ...           ...            ...   \n",
       "1465                           2             0              6   \n",
       "1466                           3             1              8   \n",
       "1467                           5             1              6   \n",
       "1468                           0             0              3   \n",
       "1469                          11             0              1   \n",
       "\n",
       "      NumCompaniesWorked  TotalWorkingYears  TrainingTimes  WorkLifeBalance  \\\n",
       "0                      8                 16              0                0   \n",
       "1                      4                 15              3                1   \n",
       "2                      1                  5              2                2   \n",
       "3                      0                  9              2                2   \n",
       "4                      6                 16              3                1   \n",
       "...                  ...                ...            ...              ...   \n",
       "1465                   1                  9              2                2   \n",
       "1466                   9                 11              5                0   \n",
       "1467                   7                 27              3                2   \n",
       "1468                   1                 13              2                1   \n",
       "1469                   1                 11              2                2   \n",
       "\n",
       "      YearsAtCompany  YearsInCurrentRole  YearsSinceLastPromotion  \\\n",
       "0                 14                  13                        0   \n",
       "1                  4                   3                        0   \n",
       "2                  5                   4                        0   \n",
       "3                  8                   2                        1   \n",
       "4                  6                   0                        7   \n",
       "...              ...                 ...                      ...   \n",
       "1465               9                   8                        1   \n",
       "1466               9                   8                        0   \n",
       "1467              14                  13                        0   \n",
       "1468              13                   4                        9   \n",
       "1469              10                   3                        5   \n",
       "\n",
       "      YearsWithCurrManager  YearsInCurrentRoleCat  RecruitmentCosts  \\\n",
       "0                        5                      1               783   \n",
       "1                        0                      0                 0   \n",
       "2                        0                      2                39   \n",
       "3                        8                      0               902   \n",
       "4                        7                      0               577   \n",
       "...                    ...                    ...               ...   \n",
       "1465                     7                      3                 0   \n",
       "1466                     2                      3               475   \n",
       "1467                     3                      1               896   \n",
       "1468                     8                      2               929   \n",
       "1469                     8                      0               903   \n",
       "\n",
       "      EnvironmentSatisfaction  ManagerSatisfaction  JobInvolvement  \\\n",
       "0                           1                    0               2   \n",
       "1                           2                    0               3   \n",
       "2                           3                    1               2   \n",
       "3                           3                    1               1   \n",
       "4                           2                    1               2   \n",
       "...                       ...                  ...             ...   \n",
       "1465                        1                    0               2   \n",
       "1466                        3                    3               1   \n",
       "1467                        3                    2               2   \n",
       "1468                        3                    2               0   \n",
       "1469                        2                    2               1   \n",
       "\n",
       "      JobSatisfaction  Flight risk likelihood (in 2018)  \\\n",
       "0                   0                               100   \n",
       "1                   1                                 2   \n",
       "2                   2                                36   \n",
       "3                   2                                11   \n",
       "4                   1                                40   \n",
       "...               ...                               ...   \n",
       "1465                2                                37   \n",
       "1466                3                                21   \n",
       "1467                0                                 1   \n",
       "1468                0                                91   \n",
       "1469                0                                27   \n",
       "\n",
       "      Left the company (in 2019)  \n",
       "0                              1  \n",
       "1                              0  \n",
       "2                              0  \n",
       "3                              0  \n",
       "4                              0  \n",
       "...                          ...  \n",
       "1465                           0  \n",
       "1466                           0  \n",
       "1467                           0  \n",
       "1468                           1  \n",
       "1469                           0  \n",
       "\n",
       "[1470 rows x 33 columns]"
      ]
     },
     "execution_count": 50,
     "metadata": {},
     "output_type": "execute_result"
    }
   ],
   "source": [
    "dd = dd.drop('JobSatisfactionCont',axis=1)\n",
    "dd"
   ]
  },
  {
   "cell_type": "code",
   "execution_count": 61,
   "metadata": {},
   "outputs": [],
   "source": [
    "cor = dd.corr()['Left the company (in 2019)'].sort_values()"
   ]
  },
  {
   "cell_type": "code",
   "execution_count": 52,
   "metadata": {},
   "outputs": [],
   "source": [
    "y = dd['Left the company (in 2019)']\n",
    "X = dd.drop('Left the company (in 2019)',axis=1)\n",
    "X_train, X_test, y_train, y_test = train_test_split(X, y, test_size=0.2, random_state=42)"
   ]
  },
  {
   "cell_type": "code",
   "execution_count": 53,
   "metadata": {},
   "outputs": [
    {
     "data": {
      "text/plain": [
       "0    1233\n",
       "1     237\n",
       "Name: Left the company (in 2019), dtype: int64"
      ]
     },
     "execution_count": 53,
     "metadata": {},
     "output_type": "execute_result"
    }
   ],
   "source": [
    "y.value_counts()"
   ]
  },
  {
   "cell_type": "code",
   "execution_count": 54,
   "metadata": {},
   "outputs": [
    {
     "data": {
      "text/plain": [
       "0    987\n",
       "1    189\n",
       "Name: Left the company (in 2019), dtype: int64"
      ]
     },
     "execution_count": 54,
     "metadata": {},
     "output_type": "execute_result"
    }
   ],
   "source": [
    "y_train.value_counts()"
   ]
  },
  {
   "cell_type": "code",
   "execution_count": 55,
   "metadata": {},
   "outputs": [],
   "source": [
    "from imblearn.over_sampling import SMOTE\n",
    "sm = SMOTE(random_state=42)\n",
    "X_1 , y_1 = sm.fit_resample(X_train, y_train)"
   ]
  },
  {
   "cell_type": "code",
   "execution_count": 56,
   "metadata": {},
   "outputs": [
    {
     "data": {
      "text/plain": [
       "1    987\n",
       "0    987\n",
       "Name: Left the company (in 2019), dtype: int64"
      ]
     },
     "execution_count": 56,
     "metadata": {},
     "output_type": "execute_result"
    }
   ],
   "source": [
    "y_1.value_counts()"
   ]
  },
  {
   "cell_type": "code",
   "execution_count": 79,
   "metadata": {},
   "outputs": [],
   "source": [
    "from sklearn.feature_selection import SelectKBest, chi2\n",
    "X_new = SelectKBest(chi2, k=5).fit(X_1, y_1)\n",
    "\n",
    "X_new.get_support(indices=True)\n",
    "SelectKBest = pd.Series(X.columns[X_new.get_support(indices=True)])"
   ]
  },
  {
   "cell_type": "code",
   "execution_count": 80,
   "metadata": {},
   "outputs": [],
   "source": [
    "Rf =RandomForestClassifier().fit(X_1,y_1)\n",
    "importance = pd.Series(Rf.feature_importances_,index=X.columns)\n",
    "RF_model = importance.sort_values(ascending=False).head(10)"
   ]
  },
  {
   "cell_type": "code",
   "execution_count": 167,
   "metadata": {},
   "outputs": [
    {
     "data": {
      "image/png": "[encoded data removed]",
      "text/plain": [
       "<Figure size 864x432 with 1 Axes>"
      ]
     },
     "metadata": {
      "needs_background": "light"
     },
     "output_type": "display_data"
    }
   ],
   "source": [
    "importance.sort_values(ascending=False).plot.bar(figsize=(12,6)).set_title(\"Features Importance Chart\");# RF"
   ]
  },
  {
   "cell_type": "code",
   "execution_count": 82,
   "metadata": {},
   "outputs": [],
   "source": [
    "lr = LogisticRegression(max_iter = 1000)\n",
    "dt = DecisionTreeClassifier()\n",
    "from sklearn.feature_selection import RFE\n",
    "model_list = [lr,dt]"
   ]
  },
  {
   "cell_type": "code",
   "execution_count": 83,
   "metadata": {},
   "outputs": [],
   "source": [
    "feature_names = X.columns"
   ]
  },
  {
   "cell_type": "code",
   "execution_count": 91,
   "metadata": {},
   "outputs": [
    {
     "name": "stdout",
     "output_type": "stream",
     "text": [
      "-------------------------------------------------\n",
      "<class 'sklearn.linear_model._logistic.LogisticRegression'>\n"
     ]
    },
    {
     "name": "stderr",
     "output_type": "stream",
     "text": [
      "/Users/a32294/opt/anaconda3/lib/python3.8/site-packages/sklearn/linear_model/_logistic.py:814: ConvergenceWarning: lbfgs failed to converge (status=1):\n",
      "STOP: TOTAL NO. of ITERATIONS REACHED LIMIT.\n",
      "\n",
      "Increase the number of iterations (max_iter) or scale the data as shown in:\n",
      "    https://scikit-learn.org/stable/modules/preprocessing.html\n",
      "Please also refer to the documentation for alternative solver options:\n",
      "    https://scikit-learn.org/stable/modules/linear_model.html#logistic-regression\n",
      "  n_iter_i = _check_optimize_result(\n",
      "/Users/a32294/opt/anaconda3/lib/python3.8/site-packages/sklearn/linear_model/_logistic.py:814: ConvergenceWarning: lbfgs failed to converge (status=1):\n",
      "STOP: TOTAL NO. of ITERATIONS REACHED LIMIT.\n",
      "\n",
      "Increase the number of iterations (max_iter) or scale the data as shown in:\n",
      "    https://scikit-learn.org/stable/modules/preprocessing.html\n",
      "Please also refer to the documentation for alternative solver options:\n",
      "    https://scikit-learn.org/stable/modules/linear_model.html#logistic-regression\n",
      "  n_iter_i = _check_optimize_result(\n"
     ]
    },
    {
     "name": "stdout",
     "output_type": "stream",
     "text": [
      "TrainingTimes\n",
      "EnvironmentSatisfaction\n",
      "JobSatisfaction\n",
      "Flight risk likelihood (in 2018)\n",
      "\n",
      "-------------------------------------------------\n",
      "<class 'sklearn.tree._classes.DecisionTreeClassifier'>\n",
      "RecruitmentCosts\n",
      "JobInvolvement\n",
      "JobSatisfaction\n",
      "Flight risk likelihood (in 2018)\n",
      "\n"
     ]
    }
   ],
   "source": [
    "f = []\n",
    "for model in model_list:\n",
    "    \n",
    "    print(\"-------------------------------------------------\")\n",
    "    \n",
    "    rfe = RFE(estimator=model, n_features_to_select=4)\n",
    "    \n",
    "    print(model.__class__)\n",
    "    rfe.fit(X_1, y_1)\n",
    "\n",
    "    for i in range(0,32):\n",
    "        if rfe.support_[i] == True:\n",
    "            print(feature_names[i], end=\"\\n\")\n",
    "            f.append(feature_names[i])\n",
    "    print(\"\")\n"
   ]
  },
  {
   "cell_type": "code",
   "execution_count": 95,
   "metadata": {},
   "outputs": [],
   "source": [
    "lfg = f[0:4]\n",
    "dtf = f[4:8]"
   ]
  },
  {
   "cell_type": "code",
   "execution_count": 96,
   "metadata": {},
   "outputs": [
    {
     "data": {
      "text/html": [
       "<div>\n",
       "<style scoped>\n",
       "    .dataframe tbody tr th:only-of-type {\n",
       "        vertical-align: middle;\n",
       "    }\n",
       "\n",
       "    .dataframe tbody tr th {\n",
       "        vertical-align: top;\n",
       "    }\n",
       "\n",
       "    .dataframe thead th {\n",
       "        text-align: right;\n",
       "    }\n",
       "</style>\n",
       "<table border=\"1\" class=\"dataframe\">\n",
       "  <thead>\n",
       "    <tr style=\"text-align: right;\">\n",
       "      <th></th>\n",
       "      <th>lr</th>\n",
       "      <th>dt</th>\n",
       "    </tr>\n",
       "  </thead>\n",
       "  <tbody>\n",
       "    <tr>\n",
       "      <th>0</th>\n",
       "      <td>TrainingTimes</td>\n",
       "      <td>RecruitmentCosts</td>\n",
       "    </tr>\n",
       "    <tr>\n",
       "      <th>1</th>\n",
       "      <td>EnvironmentSatisfaction</td>\n",
       "      <td>JobInvolvement</td>\n",
       "    </tr>\n",
       "    <tr>\n",
       "      <th>2</th>\n",
       "      <td>JobSatisfaction</td>\n",
       "      <td>JobSatisfaction</td>\n",
       "    </tr>\n",
       "    <tr>\n",
       "      <th>3</th>\n",
       "      <td>Flight risk likelihood (in 2018)</td>\n",
       "      <td>Flight risk likelihood (in 2018)</td>\n",
       "    </tr>\n",
       "  </tbody>\n",
       "</table>\n",
       "</div>"
      ],
      "text/plain": [
       "                                 lr                                dt\n",
       "0                     TrainingTimes                  RecruitmentCosts\n",
       "1           EnvironmentSatisfaction                    JobInvolvement\n",
       "2                   JobSatisfaction                   JobSatisfaction\n",
       "3  Flight risk likelihood (in 2018)  Flight risk likelihood (in 2018)"
      ]
     },
     "execution_count": 96,
     "metadata": {},
     "output_type": "execute_result"
    }
   ],
   "source": [
    "RFE = pd.DataFrame([lfg,dtf],index = ['lr','dt']).T\n",
    "RFE"
   ]
  },
  {
   "cell_type": "code",
   "execution_count": 73,
   "metadata": {},
   "outputs": [
    {
     "data": {
      "text/plain": [
       "<bound method Series.sort_values of Type of contract                    0.001031\n",
       "Age                                 0.009145\n",
       "Gender                              0.001428\n",
       "MaritalStatus                       0.002687\n",
       "Education                           0.007394\n",
       "EducationField                      0.003270\n",
       "BusinessTravel                      0.007452\n",
       "DistanceFromHome                    0.007188\n",
       "Department                          0.008360\n",
       "JobLevel                            0.019669\n",
       "JobRole                             0.005096\n",
       "Salary in euros                     0.026361\n",
       "OverTime                            0.001910\n",
       "PerformanceRating                   0.005770\n",
       "Percentage Salary increase          0.003875\n",
       "TalentStatus                        0.028375\n",
       "Sickness days                       0.004050\n",
       "NumCompaniesWorked                  0.004198\n",
       "TotalWorkingYears                   0.005258\n",
       "TrainingTimes                       0.003266\n",
       "WorkLifeBalance                     0.006619\n",
       "YearsAtCompany                      0.005107\n",
       "YearsInCurrentRole                  0.008516\n",
       "YearsSinceLastPromotion             0.004422\n",
       "YearsWithCurrManager                0.014831\n",
       "YearsInCurrentRoleCat               0.014621\n",
       "RecruitmentCosts                    0.016229\n",
       "EnvironmentSatisfaction             0.015540\n",
       "ManagerSatisfaction                 0.005112\n",
       "JobInvolvement                      0.020025\n",
       "JobSatisfaction                     0.274244\n",
       "Flight risk likelihood (in 2018)    0.458953\n",
       "dtype: float64>"
      ]
     },
     "execution_count": 73,
     "metadata": {},
     "output_type": "execute_result"
    }
   ],
   "source": [
    "importance.sort_values"
   ]
  },
  {
   "cell_type": "code",
   "execution_count": 165,
   "metadata": {},
   "outputs": [
    {
     "data": {
      "text/html": [
       "<div>\n",
       "<style scoped>\n",
       "    .dataframe tbody tr th:only-of-type {\n",
       "        vertical-align: middle;\n",
       "    }\n",
       "\n",
       "    .dataframe tbody tr th {\n",
       "        vertical-align: top;\n",
       "    }\n",
       "\n",
       "    .dataframe thead th {\n",
       "        text-align: right;\n",
       "    }\n",
       "</style>\n",
       "<table border=\"1\" class=\"dataframe\">\n",
       "  <thead>\n",
       "    <tr style=\"text-align: right;\">\n",
       "      <th></th>\n",
       "      <th>SelectKBest</th>\n",
       "    </tr>\n",
       "  </thead>\n",
       "  <tbody>\n",
       "    <tr>\n",
       "      <th>0</th>\n",
       "      <td>Age</td>\n",
       "    </tr>\n",
       "    <tr>\n",
       "      <th>1</th>\n",
       "      <td>Salary in euros</td>\n",
       "    </tr>\n",
       "    <tr>\n",
       "      <th>2</th>\n",
       "      <td>RecruitmentCosts</td>\n",
       "    </tr>\n",
       "    <tr>\n",
       "      <th>3</th>\n",
       "      <td>JobSatisfaction</td>\n",
       "    </tr>\n",
       "    <tr>\n",
       "      <th>4</th>\n",
       "      <td>Flight risk likelihood (in 2018)</td>\n",
       "    </tr>\n",
       "  </tbody>\n",
       "</table>\n",
       "</div>"
      ],
      "text/plain": [
       "                        SelectKBest\n",
       "0                               Age\n",
       "1                   Salary in euros\n",
       "2                  RecruitmentCosts\n",
       "3                   JobSatisfaction\n",
       "4  Flight risk likelihood (in 2018)"
      ]
     },
     "execution_count": 165,
     "metadata": {},
     "output_type": "execute_result"
    }
   ],
   "source": [
    "a = pd.DataFrame(SelectKBest.values)\n",
    "a.columns = ['SelectKBest']\n",
    "a"
   ]
  },
  {
   "cell_type": "code",
   "execution_count": 162,
   "metadata": {},
   "outputs": [
    {
     "data": {
      "text/plain": [
       "Flight risk likelihood (in 2018)    0.438640\n",
       "JobSatisfaction                     0.277874\n",
       "TalentStatus                        0.041596\n",
       "Salary in euros                     0.024746\n",
       "RecruitmentCosts                    0.019593\n",
       "dtype: float64"
      ]
     },
     "execution_count": 162,
     "metadata": {},
     "output_type": "execute_result"
    }
   ],
   "source": [
    "RF_model.head()"
   ]
  },
  {
   "cell_type": "code",
   "execution_count": 163,
   "metadata": {},
   "outputs": [],
   "source": [
    "b = pd.DataFrame(RF_model.head().index)\n",
    "b.columns = ['RF_mode']"
   ]
  },
  {
   "cell_type": "code",
   "execution_count": 101,
   "metadata": {},
   "outputs": [],
   "source": [
    "RFE.columns= ['RFE_LR','RFE_DT']"
   ]
  },
  {
   "cell_type": "code",
   "execution_count": 169,
   "metadata": {},
   "outputs": [
    {
     "data": {
      "text/html": [
       "<div>\n",
       "<style scoped>\n",
       "    .dataframe tbody tr th:only-of-type {\n",
       "        vertical-align: middle;\n",
       "    }\n",
       "\n",
       "    .dataframe tbody tr th {\n",
       "        vertical-align: top;\n",
       "    }\n",
       "\n",
       "    .dataframe thead th {\n",
       "        text-align: right;\n",
       "    }\n",
       "</style>\n",
       "<table border=\"1\" class=\"dataframe\">\n",
       "  <thead>\n",
       "    <tr style=\"text-align: right;\">\n",
       "      <th></th>\n",
       "      <th>SelectKBest</th>\n",
       "      <th>RF_mode</th>\n",
       "      <th>RFE_LR</th>\n",
       "      <th>RFE_DT</th>\n",
       "    </tr>\n",
       "  </thead>\n",
       "  <tbody>\n",
       "    <tr>\n",
       "      <th>0</th>\n",
       "      <td>Age</td>\n",
       "      <td>Flight risk likelihood (in 2018)</td>\n",
       "      <td>TrainingTimes</td>\n",
       "      <td>RecruitmentCosts</td>\n",
       "    </tr>\n",
       "    <tr>\n",
       "      <th>1</th>\n",
       "      <td>Salary in euros</td>\n",
       "      <td>JobSatisfaction</td>\n",
       "      <td>EnvironmentSatisfaction</td>\n",
       "      <td>JobInvolvement</td>\n",
       "    </tr>\n",
       "    <tr>\n",
       "      <th>2</th>\n",
       "      <td>RecruitmentCosts</td>\n",
       "      <td>TalentStatus</td>\n",
       "      <td>JobSatisfaction</td>\n",
       "      <td>JobSatisfaction</td>\n",
       "    </tr>\n",
       "    <tr>\n",
       "      <th>3</th>\n",
       "      <td>JobSatisfaction</td>\n",
       "      <td>Salary in euros</td>\n",
       "      <td>Flight risk likelihood (in 2018)</td>\n",
       "      <td>Flight risk likelihood (in 2018)</td>\n",
       "    </tr>\n",
       "    <tr>\n",
       "      <th>4</th>\n",
       "      <td>Flight risk likelihood (in 2018)</td>\n",
       "      <td>RecruitmentCosts</td>\n",
       "      <td>NaN</td>\n",
       "      <td>NaN</td>\n",
       "    </tr>\n",
       "  </tbody>\n",
       "</table>\n",
       "</div>"
      ],
      "text/plain": [
       "                        SelectKBest                           RF_mode  \\\n",
       "0                               Age  Flight risk likelihood (in 2018)   \n",
       "1                   Salary in euros                   JobSatisfaction   \n",
       "2                  RecruitmentCosts                      TalentStatus   \n",
       "3                   JobSatisfaction                   Salary in euros   \n",
       "4  Flight risk likelihood (in 2018)                  RecruitmentCosts   \n",
       "\n",
       "                             RFE_LR                            RFE_DT  \n",
       "0                     TrainingTimes                  RecruitmentCosts  \n",
       "1           EnvironmentSatisfaction                    JobInvolvement  \n",
       "2                   JobSatisfaction                   JobSatisfaction  \n",
       "3  Flight risk likelihood (in 2018)  Flight risk likelihood (in 2018)  \n",
       "4                               NaN                               NaN  "
      ]
     },
     "execution_count": 169,
     "metadata": {},
     "output_type": "execute_result"
    }
   ],
   "source": [
    "qq = pd.concat([a,b,RFE],axis=1)\n",
    "qq"
   ]
  },
  {
   "cell_type": "code",
   "execution_count": 103,
   "metadata": {},
   "outputs": [],
   "source": [
    "f = []\n",
    "for i in pd.Series(SelectKBest.values):\n",
    "    f.append(i)"
   ]
  },
  {
   "cell_type": "code",
   "execution_count": 104,
   "metadata": {},
   "outputs": [],
   "source": [
    "for i in pd.Series(RF_model.index):\n",
    "    f.append(i)"
   ]
  },
  {
   "cell_type": "code",
   "execution_count": 105,
   "metadata": {},
   "outputs": [],
   "source": [
    "for i in pd.Series(RFE['RFE_LR']):\n",
    "    f.append(i)"
   ]
  },
  {
   "cell_type": "code",
   "execution_count": 106,
   "metadata": {},
   "outputs": [],
   "source": [
    "for i in pd.Series(RFE['RFE_LR']):\n",
    "    f.append(i)"
   ]
  },
  {
   "cell_type": "code",
   "execution_count": 107,
   "metadata": {},
   "outputs": [
    {
     "data": {
      "text/plain": [
       "JobSatisfaction                     4\n",
       "Flight risk likelihood (in 2018)    4\n",
       "EnvironmentSatisfaction             3\n",
       "TrainingTimes                       2\n",
       "Age                                 2\n",
       "RecruitmentCosts                    2\n",
       "Salary in euros                     2\n",
       "JobInvolvement                      1\n",
       "YearsWithCurrManager                1\n",
       "TalentStatus                        1\n",
       "YearsInCurrentRoleCat               1\n",
       "dtype: int64"
      ]
     },
     "execution_count": 107,
     "metadata": {},
     "output_type": "execute_result"
    }
   ],
   "source": [
    "pd.Series(f).value_counts().sort_values(ascending=False)"
   ]
  },
  {
   "cell_type": "code",
   "execution_count": 132,
   "metadata": {},
   "outputs": [
    {
     "data": {
      "text/plain": [
       "Index(['JobSatisfaction', 'Flight risk likelihood (in 2018)',\n",
       "       'EnvironmentSatisfaction'],\n",
       "      dtype='object')"
      ]
     },
     "execution_count": 132,
     "metadata": {},
     "output_type": "execute_result"
    }
   ],
   "source": [
    "ff = pd.Series(f).value_counts().sort_values(ascending=False)[0:3].index\n",
    "ff"
   ]
  },
  {
   "cell_type": "code",
   "execution_count": 134,
   "metadata": {},
   "outputs": [
    {
     "data": {
      "text/html": [
       "<div>\n",
       "<style scoped>\n",
       "    .dataframe tbody tr th:only-of-type {\n",
       "        vertical-align: middle;\n",
       "    }\n",
       "\n",
       "    .dataframe tbody tr th {\n",
       "        vertical-align: top;\n",
       "    }\n",
       "\n",
       "    .dataframe thead th {\n",
       "        text-align: right;\n",
       "    }\n",
       "</style>\n",
       "<table border=\"1\" class=\"dataframe\">\n",
       "  <thead>\n",
       "    <tr style=\"text-align: right;\">\n",
       "      <th></th>\n",
       "      <th>0</th>\n",
       "    </tr>\n",
       "  </thead>\n",
       "  <tbody>\n",
       "    <tr>\n",
       "      <th>0</th>\n",
       "      <td>JobSatisfaction</td>\n",
       "    </tr>\n",
       "    <tr>\n",
       "      <th>1</th>\n",
       "      <td>Flight risk likelihood (in 2018)</td>\n",
       "    </tr>\n",
       "    <tr>\n",
       "      <th>2</th>\n",
       "      <td>EnvironmentSatisfaction</td>\n",
       "    </tr>\n",
       "  </tbody>\n",
       "</table>\n",
       "</div>"
      ],
      "text/plain": [
       "                                  0\n",
       "0                   JobSatisfaction\n",
       "1  Flight risk likelihood (in 2018)\n",
       "2           EnvironmentSatisfaction"
      ]
     },
     "execution_count": 134,
     "metadata": {},
     "output_type": "execute_result"
    }
   ],
   "source": [
    "a = pd.DataFrame(ff)\n",
    "a"
   ]
  },
  {
   "cell_type": "code",
   "execution_count": 135,
   "metadata": {},
   "outputs": [
    {
     "data": {
      "text/plain": [
       "0                     JobSatisfaction\n",
       "1    Flight risk likelihood (in 2018)\n",
       "2             EnvironmentSatisfaction\n",
       "dtype: object"
      ]
     },
     "execution_count": 135,
     "metadata": {},
     "output_type": "execute_result"
    }
   ],
   "source": [
    "pd.Series(ff)"
   ]
  },
  {
   "cell_type": "code",
   "execution_count": 113,
   "metadata": {},
   "outputs": [],
   "source": [
    "models = []\n",
    "models.append(('LR', LogisticRegression(max_iter = 1000)))\n",
    "models.append(('KNN', KNeighborsClassifier()))\n",
    "models.append(('DT', DecisionTreeClassifier()))\n",
    "models.append(('NB', GaussianNB()))\n",
    "models.append(('NN', MLPClassifier(max_iter = 1000)))\n",
    "models.append(('AB', AdaBoostClassifier()))\n",
    "models.append(('RF', RandomForestClassifier()))"
   ]
  },
  {
   "cell_type": "code",
   "execution_count": 43,
   "metadata": {},
   "outputs": [],
   "source": [
    "from sklearn.model_selection import RandomizedSearchCV # Use RandomizedSearchCV for hyperparameter tuning\n",
    "from sklearn.metrics import accuracy_score\n",
    "\n",
    "n_estimators = [int(x) for x in np.linspace(100,1000,num=10)]\n",
    "max_depth=[int(x) for x in np.linspace(10,50,10)]\n",
    "min_samples_split=[x for x in np.linspace(0.0001,0.01,10)]\n",
    "min_samples_leaf=[x for x in np.linspace(0.00001,0.1,15)]"
   ]
  },
  {
   "cell_type": "code",
   "execution_count": 44,
   "metadata": {},
   "outputs": [
    {
     "data": {
      "text/plain": [
       "{'n_estimators': 600,\n",
       " 'min_samples_split': 0.005600000000000001,\n",
       " 'min_samples_leaf': 1e-05,\n",
       " 'max_depth': 32}"
      ]
     },
     "execution_count": 44,
     "metadata": {},
     "output_type": "execute_result"
    }
   ],
   "source": [
    "random_grid = {'n_estimators': n_estimators,\n",
    "               'max_depth': max_depth,\n",
    "               'min_samples_split': min_samples_split,\n",
    "               'min_samples_leaf': min_samples_leaf}\n",
    "\n",
    "\n",
    "best_model_random = RandomizedSearchCV(estimator = RandomForestClassifier(), param_distributions = random_grid, \n",
    "                                       n_iter = 100, cv = 2, random_state=42, n_jobs = -1)\n",
    "best_model_random.fit(X_1,y_1)\n",
    "best_model_random.best_params_ "
   ]
  },
  {
   "cell_type": "code",
   "execution_count": 45,
   "metadata": {},
   "outputs": [
    {
     "name": "stderr",
     "output_type": "stream",
     "text": [
      "/Users/a32294/opt/anaconda3/lib/python3.8/site-packages/sklearn/model_selection/_search.py:292: UserWarning: The total space of parameters 80 is smaller than n_iter=100. Running 80 iterations. For exhaustive searches, use GridSearchCV.\n",
      "  warnings.warn(\n"
     ]
    },
    {
     "data": {
      "text/plain": [
       "{'weights': 'uniform', 'n_neighbors': 2, 'algorithm': 'auto'}"
      ]
     },
     "execution_count": 45,
     "metadata": {},
     "output_type": "execute_result"
    }
   ],
   "source": [
    "n_neighbors = [1,2,3,4,5,6,7,8,9,10]\n",
    "weights = ['uniform', 'distance']\n",
    "algorithm = ['auto', 'ball_tree', 'kd_tree', 'brute']\n",
    "\n",
    "random_grid = {'n_neighbors': n_neighbors,\n",
    "               'weights': weights,\n",
    "               'algorithm': algorithm}\n",
    "best_model_random = RandomizedSearchCV(estimator =KNeighborsClassifier() , param_distributions = random_grid, \n",
    "                                       n_iter = 100, cv = 2, random_state=42, n_jobs = -1)\n",
    "best_model_random.fit(X_1,y_1)\n",
    "best_model_random.best_params_ "
   ]
  },
  {
   "cell_type": "code",
   "execution_count": 46,
   "metadata": {},
   "outputs": [
    {
     "data": {
      "text/plain": [
       "{'n_estimators': 109, 'learning_rate': 1.0605263157894738}"
      ]
     },
     "execution_count": 46,
     "metadata": {},
     "output_type": "execute_result"
    }
   ],
   "source": [
    "n_estimators  = [int(x) for x in np.linspace(5,500,20)]\n",
    "learning_rate = [x for x in np.linspace(0.01,5,20)]\n",
    "\n",
    "\n",
    "random_grid = {'n_estimators': n_estimators,\n",
    "               'learning_rate': learning_rate}\n",
    "best_model_random = RandomizedSearchCV(estimator =AdaBoostClassifier() , param_distributions = random_grid, \n",
    "                                       n_iter = 100, cv = 2, random_state=42, n_jobs = -1)\n",
    "best_model_random.fit(X_1,y_1)\n",
    "best_model_random.best_params_ "
   ]
  },
  {
   "cell_type": "code",
   "execution_count": 47,
   "metadata": {},
   "outputs": [
    {
     "name": "stderr",
     "output_type": "stream",
     "text": [
      "/Users/a32294/opt/anaconda3/lib/python3.8/site-packages/sklearn/model_selection/_validation.py:372: FitFailedWarning: \n",
      "162 fits failed out of a total of 200.\n",
      "The score on these train-test partitions for these parameters will be set to nan.\n",
      "If these failures are not expected, you can try to debug them by setting error_score='raise'.\n",
      "\n",
      "Below are more details about the failures:\n",
      "--------------------------------------------------------------------------------\n",
      "162 fits failed with the following error:\n",
      "Traceback (most recent call last):\n",
      "  File \"/Users/a32294/opt/anaconda3/lib/python3.8/site-packages/sklearn/model_selection/_validation.py\", line 680, in _fit_and_score\n",
      "    estimator.fit(X_train, y_train, **fit_params)\n",
      "  File \"/Users/a32294/opt/anaconda3/lib/python3.8/site-packages/sklearn/tree/_classes.py\", line 937, in fit\n",
      "    super().fit(\n",
      "  File \"/Users/a32294/opt/anaconda3/lib/python3.8/site-packages/sklearn/tree/_classes.py\", line 308, in fit\n",
      "    raise ValueError(\"max_features must be in (0, n_features]\")\n",
      "ValueError: max_features must be in (0, n_features]\n",
      "\n",
      "  warnings.warn(some_fits_failed_message, FitFailedWarning)\n",
      "/Users/a32294/opt/anaconda3/lib/python3.8/site-packages/sklearn/model_selection/_search.py:969: UserWarning: One or more of the test scores are non-finite: [       nan        nan 0.83029382        nan        nan        nan\n",
      "        nan 0.91438703        nan        nan        nan        nan\n",
      "        nan        nan        nan        nan        nan        nan\n",
      "        nan        nan        nan        nan        nan        nan\n",
      "        nan 0.93110436        nan        nan        nan        nan\n",
      "        nan        nan        nan        nan 0.76241135        nan\n",
      "        nan        nan        nan        nan        nan        nan\n",
      "        nan        nan        nan        nan        nan        nan\n",
      "        nan        nan        nan        nan        nan        nan\n",
      "        nan        nan 0.87386018        nan        nan        nan\n",
      "        nan        nan 0.99797366        nan        nan        nan\n",
      "        nan        nan 0.83485309        nan 0.99189463        nan\n",
      "        nan 0.99797366        nan        nan        nan        nan\n",
      " 0.57852077 0.99037487        nan        nan        nan        nan\n",
      " 0.99746707        nan 0.99848024        nan 0.93009119 0.99797366\n",
      "        nan 0.99898683 0.99797366        nan 0.88145897        nan\n",
      "        nan        nan        nan 0.73150963]\n",
      "  warnings.warn(\n"
     ]
    },
    {
     "data": {
      "text/plain": [
       "{'max_features': 0.5644444444444445, 'max_depth': 7, 'criterion': 'entropy'}"
      ]
     },
     "execution_count": 47,
     "metadata": {},
     "output_type": "execute_result"
    }
   ],
   "source": [
    "max_depth=[int(x) for x in np.linspace(1,15,10)]\n",
    "max_features = [x for x in np.linspace(0.01,5,10)]\n",
    "criterion = [\"gini\", \"entropy\"]\n",
    "random_grid = {'max_depth': max_depth,\n",
    "               'max_features': max_features,\n",
    "               'criterion': criterion}\n",
    "best_model_random = RandomizedSearchCV(estimator =DecisionTreeClassifier() , param_distributions = random_grid, \n",
    "                                       n_iter = 100, cv = 2, random_state=42, n_jobs = -1)\n",
    "best_model_random.fit(X_1,y_1)\n",
    "best_model_random.best_params_ "
   ]
  },
  {
   "cell_type": "code",
   "execution_count": 48,
   "metadata": {},
   "outputs": [
    {
     "name": "stderr",
     "output_type": "stream",
     "text": [
      "/Users/a32294/opt/anaconda3/lib/python3.8/site-packages/sklearn/model_selection/_search.py:292: UserWarning: The total space of parameters 16 is smaller than n_iter=100. Running 16 iterations. For exhaustive searches, use GridSearchCV.\n",
      "  warnings.warn(\n",
      "/Users/a32294/opt/anaconda3/lib/python3.8/site-packages/sklearn/model_selection/_validation.py:372: FitFailedWarning: \n",
      "16 fits failed out of a total of 32.\n",
      "The score on these train-test partitions for these parameters will be set to nan.\n",
      "If these failures are not expected, you can try to debug them by setting error_score='raise'.\n",
      "\n",
      "Below are more details about the failures:\n",
      "--------------------------------------------------------------------------------\n",
      "16 fits failed with the following error:\n",
      "Traceback (most recent call last):\n",
      "  File \"/Users/a32294/opt/anaconda3/lib/python3.8/site-packages/sklearn/model_selection/_validation.py\", line 680, in _fit_and_score\n",
      "    estimator.fit(X_train, y_train, **fit_params)\n",
      "  File \"/Users/a32294/opt/anaconda3/lib/python3.8/site-packages/sklearn/linear_model/_logistic.py\", line 1461, in fit\n",
      "    solver = _check_solver(self.solver, self.penalty, self.dual)\n",
      "  File \"/Users/a32294/opt/anaconda3/lib/python3.8/site-packages/sklearn/linear_model/_logistic.py\", line 447, in _check_solver\n",
      "    raise ValueError(\n",
      "ValueError: Solver lbfgs supports only 'l2' or 'none' penalties, got l1 penalty.\n",
      "\n",
      "  warnings.warn(some_fits_failed_message, FitFailedWarning)\n",
      "/Users/a32294/opt/anaconda3/lib/python3.8/site-packages/sklearn/model_selection/_search.py:969: UserWarning: One or more of the test scores are non-finite: [       nan 0.98733536        nan 0.9893617         nan 0.98986829\n",
      "        nan 0.98834853        nan 0.98733536        nan 0.98784195\n",
      "        nan 0.98378926        nan 0.9858156 ]\n",
      "  warnings.warn(\n",
      "/Users/a32294/opt/anaconda3/lib/python3.8/site-packages/sklearn/linear_model/_logistic.py:814: ConvergenceWarning: lbfgs failed to converge (status=1):\n",
      "STOP: TOTAL NO. of ITERATIONS REACHED LIMIT.\n",
      "\n",
      "Increase the number of iterations (max_iter) or scale the data as shown in:\n",
      "    https://scikit-learn.org/stable/modules/preprocessing.html\n",
      "Please also refer to the documentation for alternative solver options:\n",
      "    https://scikit-learn.org/stable/modules/linear_model.html#logistic-regression\n",
      "  n_iter_i = _check_optimize_result(\n"
     ]
    },
    {
     "data": {
      "text/plain": [
       "{'penalty': 'l2', 'fit_intercept': True, 'C': 0.1}"
      ]
     },
     "execution_count": 48,
     "metadata": {},
     "output_type": "execute_result"
    }
   ],
   "source": [
    "penalty = ['l1','l2']\n",
    "C = [0.25,0.1,0.75,1]\n",
    "fit_intercept=[True,False]\n",
    "random_grid = {'penalty': penalty,\n",
    "               'C': C,\n",
    "               'fit_intercept': fit_intercept}\n",
    "best_model_random = RandomizedSearchCV(estimator =LogisticRegression() , param_distributions = random_grid, \n",
    "                                       n_iter = 100, cv = 2, random_state=42, n_jobs = -1)\n",
    "best_model_random.fit(X_1,y_1)\n",
    "best_model_random.best_params_ "
   ]
  },
  {
   "cell_type": "code",
   "execution_count": 49,
   "metadata": {},
   "outputs": [
    {
     "name": "stderr",
     "output_type": "stream",
     "text": [
      "/Users/a32294/opt/anaconda3/lib/python3.8/site-packages/sklearn/model_selection/_search.py:292: UserWarning: The total space of parameters 9 is smaller than n_iter=100. Running 9 iterations. For exhaustive searches, use GridSearchCV.\n",
      "  warnings.warn(\n"
     ]
    },
    {
     "data": {
      "text/plain": [
       "{'solver': 'adam', 'learning_rate': 'adaptive'}"
      ]
     },
     "execution_count": 49,
     "metadata": {},
     "output_type": "execute_result"
    }
   ],
   "source": [
    "solver = ['lbfgs', 'sgd', 'adam']\n",
    "learning_rate = ['constant', 'invscaling', 'adaptive']\n",
    "random_grid = {'solver': solver,\n",
    "               'learning_rate': learning_rate}\n",
    "best_model_random = RandomizedSearchCV(estimator =MLPClassifier() , param_distributions = random_grid, \n",
    "                                       n_iter = 100, cv = 2, random_state=42, n_jobs = -1)\n",
    "best_model_random.fit(X_1,y_1)\n",
    "best_model_random.best_params_ "
   ]
  },
  {
   "cell_type": "code",
   "execution_count": 50,
   "metadata": {},
   "outputs": [],
   "source": [
    "models_new = []\n",
    "models_new.append(('LR', LogisticRegression(penalty ='l2', fit_intercept = True,C= 0.25)))\n",
    "models_new.append(('KNN', KNeighborsClassifier(weights= 'uniform', n_neighbors = 1, algorithm= 'auto')))\n",
    "models_new.append(('DT', DecisionTreeClassifier(max_features=0.5644444444444445, \n",
    "                                                max_depth = 7, criterion= 'entropy')))\n",
    "models_new.append(('NB', GaussianNB()))\n",
    "models_new.append(('NN', MLPClassifier(solver= 'adam',learning_rate= 'constant')))\n",
    "models_new.append(('AB', AdaBoostClassifier(n_estimators=57, learning_rate= 1.0605263157894738)))\n",
    "\n",
    "models_new.append(('RF', RandomForestClassifier(n_estimators = 600,min_samples_split= 0.0001,\n",
    "                                                min_samples_leaf=1e-05,\n",
    "                                                max_depth=18)))\n"
   ]
  },
  {
   "cell_type": "code",
   "execution_count": 191,
   "metadata": {},
   "outputs": [
    {
     "data": {
      "text/html": [
       "<div>\n",
       "<style scoped>\n",
       "    .dataframe tbody tr th:only-of-type {\n",
       "        vertical-align: middle;\n",
       "    }\n",
       "\n",
       "    .dataframe tbody tr th {\n",
       "        vertical-align: top;\n",
       "    }\n",
       "\n",
       "    .dataframe thead th {\n",
       "        text-align: right;\n",
       "    }\n",
       "</style>\n",
       "<table border=\"1\" class=\"dataframe\">\n",
       "  <thead>\n",
       "    <tr style=\"text-align: right;\">\n",
       "      <th></th>\n",
       "      <th>SelectKBest</th>\n",
       "      <th>RF_mode</th>\n",
       "      <th>RFE_LR</th>\n",
       "      <th>RFE_DT</th>\n",
       "    </tr>\n",
       "  </thead>\n",
       "  <tbody>\n",
       "    <tr>\n",
       "      <th>0</th>\n",
       "      <td>Age</td>\n",
       "      <td>Flight risk likelihood (in 2018)</td>\n",
       "      <td>TrainingTimes</td>\n",
       "      <td>RecruitmentCosts</td>\n",
       "    </tr>\n",
       "    <tr>\n",
       "      <th>1</th>\n",
       "      <td>Salary in euros</td>\n",
       "      <td>JobSatisfaction</td>\n",
       "      <td>EnvironmentSatisfaction</td>\n",
       "      <td>JobInvolvement</td>\n",
       "    </tr>\n",
       "    <tr>\n",
       "      <th>2</th>\n",
       "      <td>RecruitmentCosts</td>\n",
       "      <td>TalentStatus</td>\n",
       "      <td>JobSatisfaction</td>\n",
       "      <td>JobSatisfaction</td>\n",
       "    </tr>\n",
       "    <tr>\n",
       "      <th>3</th>\n",
       "      <td>JobSatisfaction</td>\n",
       "      <td>Salary in euros</td>\n",
       "      <td>Flight risk likelihood (in 2018)</td>\n",
       "      <td>Flight risk likelihood (in 2018)</td>\n",
       "    </tr>\n",
       "    <tr>\n",
       "      <th>4</th>\n",
       "      <td>Flight risk likelihood (in 2018)</td>\n",
       "      <td>RecruitmentCosts</td>\n",
       "      <td>NaN</td>\n",
       "      <td>NaN</td>\n",
       "    </tr>\n",
       "  </tbody>\n",
       "</table>\n",
       "</div>"
      ],
      "text/plain": [
       "                        SelectKBest                           RF_mode  \\\n",
       "0                               Age  Flight risk likelihood (in 2018)   \n",
       "1                   Salary in euros                   JobSatisfaction   \n",
       "2                  RecruitmentCosts                      TalentStatus   \n",
       "3                   JobSatisfaction                   Salary in euros   \n",
       "4  Flight risk likelihood (in 2018)                  RecruitmentCosts   \n",
       "\n",
       "                             RFE_LR                            RFE_DT  \n",
       "0                     TrainingTimes                  RecruitmentCosts  \n",
       "1           EnvironmentSatisfaction                    JobInvolvement  \n",
       "2                   JobSatisfaction                   JobSatisfaction  \n",
       "3  Flight risk likelihood (in 2018)  Flight risk likelihood (in 2018)  \n",
       "4                               NaN                               NaN  "
      ]
     },
     "execution_count": 191,
     "metadata": {},
     "output_type": "execute_result"
    }
   ],
   "source": [
    "qq"
   ]
  },
  {
   "cell_type": "code",
   "execution_count": 422,
   "metadata": {},
   "outputs": [
    {
     "data": {
      "text/html": [
       "<div>\n",
       "<style scoped>\n",
       "    .dataframe tbody tr th:only-of-type {\n",
       "        vertical-align: middle;\n",
       "    }\n",
       "\n",
       "    .dataframe tbody tr th {\n",
       "        vertical-align: top;\n",
       "    }\n",
       "\n",
       "    .dataframe thead th {\n",
       "        text-align: right;\n",
       "    }\n",
       "</style>\n",
       "<table border=\"1\" class=\"dataframe\">\n",
       "  <thead>\n",
       "    <tr style=\"text-align: right;\">\n",
       "      <th></th>\n",
       "      <th>LR</th>\n",
       "      <th>KNN</th>\n",
       "      <th>DT</th>\n",
       "      <th>NB</th>\n",
       "      <th>NN</th>\n",
       "      <th>AB</th>\n",
       "      <th>RF</th>\n",
       "    </tr>\n",
       "  </thead>\n",
       "  <tbody>\n",
       "    <tr>\n",
       "      <th>0</th>\n",
       "      <td>1.0</td>\n",
       "      <td>0.911565</td>\n",
       "      <td>1.0</td>\n",
       "      <td>0.972789</td>\n",
       "      <td>0.972789</td>\n",
       "      <td>1.0</td>\n",
       "      <td>1.0</td>\n",
       "    </tr>\n",
       "  </tbody>\n",
       "</table>\n",
       "</div>"
      ],
      "text/plain": [
       "    LR       KNN   DT        NB        NN   AB   RF\n",
       "0  1.0  0.911565  1.0  0.972789  0.972789  1.0  1.0"
      ]
     },
     "execution_count": 422,
     "metadata": {},
     "output_type": "execute_result"
    }
   ],
   "source": [
    "scaler = preprocessing.StandardScaler().fit(X_1[qq['RF_mode']])\n",
    "X_scaled = scaler.transform(X_1[qq['RF_mode']])\n",
    "\n",
    "scaler1 = preprocessing.StandardScaler().fit(X_test[qq['RF_mode']])\n",
    "X_scaled1 = scaler1.transform(X_test[qq['RF_mode']])\n",
    "\n",
    "scores = []\n",
    "names = []\n",
    "for name,model in models:\n",
    "    m = model.fit(X_1[qq['RF_mode']],y_1)\n",
    "    scores.append(m.score(X_test[qq['RF_mode']],y_test))\n",
    "    names.append(name)\n",
    "results = pd.DataFrame(scores,index = names).T\n",
    "results"
   ]
  },
  {
   "cell_type": "code",
   "execution_count": 421,
   "metadata": {},
   "outputs": [
    {
     "data": {
      "text/html": [
       "<div>\n",
       "<style scoped>\n",
       "    .dataframe tbody tr th:only-of-type {\n",
       "        vertical-align: middle;\n",
       "    }\n",
       "\n",
       "    .dataframe tbody tr th {\n",
       "        vertical-align: top;\n",
       "    }\n",
       "\n",
       "    .dataframe thead th {\n",
       "        text-align: right;\n",
       "    }\n",
       "</style>\n",
       "<table border=\"1\" class=\"dataframe\">\n",
       "  <thead>\n",
       "    <tr style=\"text-align: right;\">\n",
       "      <th></th>\n",
       "      <th>LR</th>\n",
       "      <th>KNN</th>\n",
       "      <th>DT</th>\n",
       "      <th>NB</th>\n",
       "      <th>NN</th>\n",
       "      <th>AB</th>\n",
       "      <th>RF</th>\n",
       "    </tr>\n",
       "  </thead>\n",
       "  <tbody>\n",
       "    <tr>\n",
       "      <th>0</th>\n",
       "      <td>1.0</td>\n",
       "      <td>0.908163</td>\n",
       "      <td>1.0</td>\n",
       "      <td>0.969388</td>\n",
       "      <td>0.979592</td>\n",
       "      <td>1.0</td>\n",
       "      <td>1.0</td>\n",
       "    </tr>\n",
       "  </tbody>\n",
       "</table>\n",
       "</div>"
      ],
      "text/plain": [
       "    LR       KNN   DT        NB        NN   AB   RF\n",
       "0  1.0  0.908163  1.0  0.969388  0.979592  1.0  1.0"
      ]
     },
     "execution_count": 421,
     "metadata": {},
     "output_type": "execute_result"
    }
   ],
   "source": [
    "scaler = preprocessing.StandardScaler().fit(X_1[qq['SelectKBest']])\n",
    "X_scaled = scaler.transform(X_1[qq['SelectKBest']])\n",
    "\n",
    "scaler1 = preprocessing.StandardScaler().fit(X_test[qq['SelectKBest']])\n",
    "X_scaled1 = scaler1.transform(X_test[qq['SelectKBest']])\n",
    "\n",
    "scores1 = []\n",
    "names1 = []\n",
    "for name,model in models:\n",
    "    m = model.fit(X_1[qq['SelectKBest']],y_1)\n",
    "    scores1.append(m.score(X_test[qq['SelectKBest']],y_test))\n",
    "    names1.append(name)\n",
    "results1 = pd.DataFrame(scores1,index = names1).T\n",
    "results1"
   ]
  },
  {
   "cell_type": "code",
   "execution_count": 420,
   "metadata": {},
   "outputs": [
    {
     "data": {
      "text/html": [
       "<div>\n",
       "<style scoped>\n",
       "    .dataframe tbody tr th:only-of-type {\n",
       "        vertical-align: middle;\n",
       "    }\n",
       "\n",
       "    .dataframe tbody tr th {\n",
       "        vertical-align: top;\n",
       "    }\n",
       "\n",
       "    .dataframe thead th {\n",
       "        text-align: right;\n",
       "    }\n",
       "</style>\n",
       "<table border=\"1\" class=\"dataframe\">\n",
       "  <thead>\n",
       "    <tr style=\"text-align: right;\">\n",
       "      <th></th>\n",
       "      <th>LR</th>\n",
       "      <th>KNN</th>\n",
       "      <th>DT</th>\n",
       "      <th>NB</th>\n",
       "      <th>NN</th>\n",
       "      <th>AB</th>\n",
       "      <th>RF</th>\n",
       "    </tr>\n",
       "  </thead>\n",
       "  <tbody>\n",
       "    <tr>\n",
       "      <th>0</th>\n",
       "      <td>1.0</td>\n",
       "      <td>1.0</td>\n",
       "      <td>1.0</td>\n",
       "      <td>0.972789</td>\n",
       "      <td>0.979592</td>\n",
       "      <td>0.996599</td>\n",
       "      <td>1.0</td>\n",
       "    </tr>\n",
       "  </tbody>\n",
       "</table>\n",
       "</div>"
      ],
      "text/plain": [
       "    LR  KNN   DT        NB        NN        AB   RF\n",
       "0  1.0  1.0  1.0  0.972789  0.979592  0.996599  1.0"
      ]
     },
     "execution_count": 420,
     "metadata": {},
     "output_type": "execute_result"
    }
   ],
   "source": [
    "scaler = preprocessing.StandardScaler().fit(X_1[qq['RFE_LR'].dropna()])\n",
    "X_scaled = scaler.transform(X_1[qq['RFE_LR'].dropna()])\n",
    "\n",
    "scaler1 = preprocessing.StandardScaler().fit(X_test[qq['RFE_LR'].dropna()])\n",
    "X_scaled1 = scaler1.transform(X_test[qq['RFE_LR'].dropna()])\n",
    "\n",
    "scores2 = []\n",
    "names2 = []\n",
    "for name,model in models:\n",
    "    m = model.fit(X_1[qq['RFE_LR'].dropna()],y_1)\n",
    "    scores2.append(m.score(X_test[qq['RFE_LR'].dropna()],y_test))\n",
    "    names2.append(name)\n",
    "results2 = pd.DataFrame(scores2,index = names2).T\n",
    "results2"
   ]
  },
  {
   "cell_type": "code",
   "execution_count": 419,
   "metadata": {},
   "outputs": [
    {
     "data": {
      "text/html": [
       "<div>\n",
       "<style scoped>\n",
       "    .dataframe tbody tr th:only-of-type {\n",
       "        vertical-align: middle;\n",
       "    }\n",
       "\n",
       "    .dataframe tbody tr th {\n",
       "        vertical-align: top;\n",
       "    }\n",
       "\n",
       "    .dataframe thead th {\n",
       "        text-align: right;\n",
       "    }\n",
       "</style>\n",
       "<table border=\"1\" class=\"dataframe\">\n",
       "  <thead>\n",
       "    <tr style=\"text-align: right;\">\n",
       "      <th></th>\n",
       "      <th>LR</th>\n",
       "      <th>KNN</th>\n",
       "      <th>DT</th>\n",
       "      <th>NB</th>\n",
       "      <th>NN</th>\n",
       "      <th>AB</th>\n",
       "      <th>RF</th>\n",
       "    </tr>\n",
       "  </thead>\n",
       "  <tbody>\n",
       "    <tr>\n",
       "      <th>0</th>\n",
       "      <td>1.0</td>\n",
       "      <td>0.97619</td>\n",
       "      <td>1.0</td>\n",
       "      <td>0.969388</td>\n",
       "      <td>0.969388</td>\n",
       "      <td>1.0</td>\n",
       "      <td>1.0</td>\n",
       "    </tr>\n",
       "  </tbody>\n",
       "</table>\n",
       "</div>"
      ],
      "text/plain": [
       "    LR      KNN   DT        NB        NN   AB   RF\n",
       "0  1.0  0.97619  1.0  0.969388  0.969388  1.0  1.0"
      ]
     },
     "execution_count": 419,
     "metadata": {},
     "output_type": "execute_result"
    }
   ],
   "source": [
    "scaler = preprocessing.StandardScaler().fit(X_1[qq['RFE_DT'].dropna()])\n",
    "X_scaled = scaler.transform(X_1[qq['RFE_DT'].dropna()])\n",
    "\n",
    "scaler1 = preprocessing.StandardScaler().fit(X_test[qq['RFE_DT'].dropna()])\n",
    "X_scaled1 = scaler1.transform(X_test[qq['RFE_DT'].dropna()])\n",
    "\n",
    "scores3 = []\n",
    "names3 = []\n",
    "for name,model in models:\n",
    "    m = model.fit(X_1[qq['RFE_DT'].dropna()],y_1)\n",
    "    scores3.append(m.score(X_test[qq['RFE_DT'].dropna()],y_test))\n",
    "    names3.append(name)\n",
    "results3 = pd.DataFrame(scores3,index = names3).T\n",
    "results3"
   ]
  },
  {
   "cell_type": "code",
   "execution_count": 423,
   "metadata": {},
   "outputs": [
    {
     "data": {
      "text/html": [
       "<div>\n",
       "<style scoped>\n",
       "    .dataframe tbody tr th:only-of-type {\n",
       "        vertical-align: middle;\n",
       "    }\n",
       "\n",
       "    .dataframe tbody tr th {\n",
       "        vertical-align: top;\n",
       "    }\n",
       "\n",
       "    .dataframe thead th {\n",
       "        text-align: right;\n",
       "    }\n",
       "</style>\n",
       "<table border=\"1\" class=\"dataframe\">\n",
       "  <thead>\n",
       "    <tr style=\"text-align: right;\">\n",
       "      <th></th>\n",
       "      <th>LR</th>\n",
       "      <th>KNN</th>\n",
       "      <th>DT</th>\n",
       "      <th>NB</th>\n",
       "      <th>NN</th>\n",
       "      <th>AB</th>\n",
       "      <th>RF</th>\n",
       "    </tr>\n",
       "  </thead>\n",
       "  <tbody>\n",
       "    <tr>\n",
       "      <th>RF_model</th>\n",
       "      <td>1.0</td>\n",
       "      <td>0.911565</td>\n",
       "      <td>1.0</td>\n",
       "      <td>0.972789</td>\n",
       "      <td>0.972789</td>\n",
       "      <td>1.000000</td>\n",
       "      <td>1.0</td>\n",
       "    </tr>\n",
       "    <tr>\n",
       "      <th>SelectKBest</th>\n",
       "      <td>1.0</td>\n",
       "      <td>0.908163</td>\n",
       "      <td>1.0</td>\n",
       "      <td>0.969388</td>\n",
       "      <td>0.979592</td>\n",
       "      <td>1.000000</td>\n",
       "      <td>1.0</td>\n",
       "    </tr>\n",
       "    <tr>\n",
       "      <th>RFE_LR</th>\n",
       "      <td>1.0</td>\n",
       "      <td>1.000000</td>\n",
       "      <td>1.0</td>\n",
       "      <td>0.972789</td>\n",
       "      <td>0.979592</td>\n",
       "      <td>0.996599</td>\n",
       "      <td>1.0</td>\n",
       "    </tr>\n",
       "    <tr>\n",
       "      <th>RFE_DT</th>\n",
       "      <td>1.0</td>\n",
       "      <td>0.976190</td>\n",
       "      <td>1.0</td>\n",
       "      <td>0.969388</td>\n",
       "      <td>0.969388</td>\n",
       "      <td>1.000000</td>\n",
       "      <td>1.0</td>\n",
       "    </tr>\n",
       "  </tbody>\n",
       "</table>\n",
       "</div>"
      ],
      "text/plain": [
       "              LR       KNN   DT        NB        NN        AB   RF\n",
       "RF_model     1.0  0.911565  1.0  0.972789  0.972789  1.000000  1.0\n",
       "SelectKBest  1.0  0.908163  1.0  0.969388  0.979592  1.000000  1.0\n",
       "RFE_LR       1.0  1.000000  1.0  0.972789  0.979592  0.996599  1.0\n",
       "RFE_DT       1.0  0.976190  1.0  0.969388  0.969388  1.000000  1.0"
      ]
     },
     "execution_count": 423,
     "metadata": {},
     "output_type": "execute_result"
    }
   ],
   "source": [
    "acc = pd.concat([results,results1,results2,results3],\n",
    "                axis=0)\n",
    "acc.index =['RF_model','SelectKBest','RFE_LR','RFE_DT']\n",
    "acc"
   ]
  },
  {
   "cell_type": "code",
   "execution_count": 253,
   "metadata": {},
   "outputs": [],
   "source": [
    "acc.to_excel('fitting.xlsx')"
   ]
  },
  {
   "cell_type": "code",
   "execution_count": 252,
   "metadata": {},
   "outputs": [],
   "source": [
    "?pd.DataFrame.to_excel"
   ]
  },
  {
   "cell_type": "code",
   "execution_count": 234,
   "metadata": {},
   "outputs": [
    {
     "data": {
      "text/html": [
       "<div>\n",
       "<style scoped>\n",
       "    .dataframe tbody tr th:only-of-type {\n",
       "        vertical-align: middle;\n",
       "    }\n",
       "\n",
       "    .dataframe tbody tr th {\n",
       "        vertical-align: top;\n",
       "    }\n",
       "\n",
       "    .dataframe thead th {\n",
       "        text-align: right;\n",
       "    }\n",
       "</style>\n",
       "<table border=\"1\" class=\"dataframe\">\n",
       "  <thead>\n",
       "    <tr style=\"text-align: right;\">\n",
       "      <th></th>\n",
       "      <th>LR</th>\n",
       "      <th>KNN</th>\n",
       "      <th>DT</th>\n",
       "      <th>NB</th>\n",
       "      <th>NN</th>\n",
       "      <th>AB</th>\n",
       "      <th>RF</th>\n",
       "    </tr>\n",
       "  </thead>\n",
       "  <tbody>\n",
       "    <tr>\n",
       "      <th>0</th>\n",
       "      <td>0.996454</td>\n",
       "      <td>0.994428</td>\n",
       "      <td>1.0</td>\n",
       "      <td>0.985816</td>\n",
       "      <td>0.99848</td>\n",
       "      <td>1.0</td>\n",
       "      <td>1.0</td>\n",
       "    </tr>\n",
       "  </tbody>\n",
       "</table>\n",
       "</div>"
      ],
      "text/plain": [
       "         LR       KNN   DT        NB       NN   AB   RF\n",
       "0  0.996454  0.994428  1.0  0.985816  0.99848  1.0  1.0"
      ]
     },
     "execution_count": 234,
     "metadata": {},
     "output_type": "execute_result"
    }
   ],
   "source": [
    "scaler = preprocessing.StandardScaler().fit(X_1[qq['RFE_DT'].dropna()])\n",
    "X_scaled = scaler.transform(X_1[qq['RFE_DT'].dropna()])\n",
    "\n",
    "scaler1 = preprocessing.StandardScaler().fit(X_test[qq['RFE_DT'].dropna()])\n",
    "X_scaled1 = scaler1.transform(X_test[qq['RFE_DT'].dropna()])\n",
    "\n",
    "scores33 = []\n",
    "names33 = []\n",
    "for name,model in models:\n",
    "    m = model.fit(X_scaled,y_1)\n",
    "    scores33.append(m.score(X_scaled,y_1))\n",
    "    names33.append(name)\n",
    "results33 = pd.DataFrame(scores33,index = names33).T\n",
    "results33"
   ]
  },
  {
   "cell_type": "code",
   "execution_count": 235,
   "metadata": {},
   "outputs": [
    {
     "data": {
      "text/html": [
       "<div>\n",
       "<style scoped>\n",
       "    .dataframe tbody tr th:only-of-type {\n",
       "        vertical-align: middle;\n",
       "    }\n",
       "\n",
       "    .dataframe tbody tr th {\n",
       "        vertical-align: top;\n",
       "    }\n",
       "\n",
       "    .dataframe thead th {\n",
       "        text-align: right;\n",
       "    }\n",
       "</style>\n",
       "<table border=\"1\" class=\"dataframe\">\n",
       "  <thead>\n",
       "    <tr style=\"text-align: right;\">\n",
       "      <th></th>\n",
       "      <th>LR</th>\n",
       "      <th>KNN</th>\n",
       "      <th>DT</th>\n",
       "      <th>NB</th>\n",
       "      <th>NN</th>\n",
       "      <th>AB</th>\n",
       "      <th>RF</th>\n",
       "    </tr>\n",
       "  </thead>\n",
       "  <tbody>\n",
       "    <tr>\n",
       "      <th>0</th>\n",
       "      <td>0.99696</td>\n",
       "      <td>0.992401</td>\n",
       "      <td>1.0</td>\n",
       "      <td>0.985309</td>\n",
       "      <td>0.997974</td>\n",
       "      <td>1.0</td>\n",
       "      <td>1.0</td>\n",
       "    </tr>\n",
       "  </tbody>\n",
       "</table>\n",
       "</div>"
      ],
      "text/plain": [
       "        LR       KNN   DT        NB        NN   AB   RF\n",
       "0  0.99696  0.992401  1.0  0.985309  0.997974  1.0  1.0"
      ]
     },
     "execution_count": 235,
     "metadata": {},
     "output_type": "execute_result"
    }
   ],
   "source": [
    "scaler = preprocessing.StandardScaler().fit(X_1[qq['RFE_LR'].dropna()])\n",
    "X_scaled = scaler.transform(X_1[qq['RFE_LR'].dropna()])\n",
    "\n",
    "scaler1 = preprocessing.StandardScaler().fit(X_test[qq['RFE_LR'].dropna()])\n",
    "X_scaled1 = scaler1.transform(X_test[qq['RFE_LR'].dropna()])\n",
    "\n",
    "scores22 = []\n",
    "names22 = []\n",
    "for name,model in models:\n",
    "    m = model.fit(X_scaled,y_1)\n",
    "    scores22.append(m.score(X_scaled,y_1))\n",
    "    names22.append(name)\n",
    "results22 = pd.DataFrame(scores22,index = names22).T\n",
    "results22"
   ]
  },
  {
   "cell_type": "code",
   "execution_count": 239,
   "metadata": {},
   "outputs": [
    {
     "data": {
      "text/html": [
       "<div>\n",
       "<style scoped>\n",
       "    .dataframe tbody tr th:only-of-type {\n",
       "        vertical-align: middle;\n",
       "    }\n",
       "\n",
       "    .dataframe tbody tr th {\n",
       "        vertical-align: top;\n",
       "    }\n",
       "\n",
       "    .dataframe thead th {\n",
       "        text-align: right;\n",
       "    }\n",
       "</style>\n",
       "<table border=\"1\" class=\"dataframe\">\n",
       "  <thead>\n",
       "    <tr style=\"text-align: right;\">\n",
       "      <th></th>\n",
       "      <th>LR</th>\n",
       "      <th>KNN</th>\n",
       "      <th>DT</th>\n",
       "      <th>NB</th>\n",
       "      <th>NN</th>\n",
       "      <th>AB</th>\n",
       "      <th>RF</th>\n",
       "    </tr>\n",
       "  </thead>\n",
       "  <tbody>\n",
       "    <tr>\n",
       "      <th>0</th>\n",
       "      <td>0.99696</td>\n",
       "      <td>0.993414</td>\n",
       "      <td>1.0</td>\n",
       "      <td>0.985816</td>\n",
       "      <td>0.998987</td>\n",
       "      <td>1.0</td>\n",
       "      <td>1.0</td>\n",
       "    </tr>\n",
       "  </tbody>\n",
       "</table>\n",
       "</div>"
      ],
      "text/plain": [
       "        LR       KNN   DT        NB        NN   AB   RF\n",
       "0  0.99696  0.993414  1.0  0.985816  0.998987  1.0  1.0"
      ]
     },
     "execution_count": 239,
     "metadata": {},
     "output_type": "execute_result"
    }
   ],
   "source": [
    "scaler = preprocessing.StandardScaler().fit(X_1[qq['SelectKBest']])\n",
    "X_scaled = scaler.transform(X_1[qq['SelectKBest'].dropna()])\n",
    "\n",
    "scaler1 = preprocessing.StandardScaler().fit(X_test[qq['SelectKBest'].dropna()])\n",
    "X_scaled1 = scaler1.transform(X_test[qq['SelectKBest'].dropna()])\n",
    "\n",
    "scores11 = []\n",
    "names11 = []\n",
    "for name,model in models:\n",
    "    m = model.fit(X_scaled,y_1)\n",
    "    scores11.append(m.score(X_scaled,y_1))\n",
    "    names11.append(name)\n",
    "results11 = pd.DataFrame(scores11,index = names11).T\n",
    "results11"
   ]
  },
  {
   "cell_type": "code",
   "execution_count": 241,
   "metadata": {},
   "outputs": [
    {
     "data": {
      "text/html": [
       "<div>\n",
       "<style scoped>\n",
       "    .dataframe tbody tr th:only-of-type {\n",
       "        vertical-align: middle;\n",
       "    }\n",
       "\n",
       "    .dataframe tbody tr th {\n",
       "        vertical-align: top;\n",
       "    }\n",
       "\n",
       "    .dataframe thead th {\n",
       "        text-align: right;\n",
       "    }\n",
       "</style>\n",
       "<table border=\"1\" class=\"dataframe\">\n",
       "  <thead>\n",
       "    <tr style=\"text-align: right;\">\n",
       "      <th></th>\n",
       "      <th>LR</th>\n",
       "      <th>KNN</th>\n",
       "      <th>DT</th>\n",
       "      <th>NB</th>\n",
       "      <th>NN</th>\n",
       "      <th>AB</th>\n",
       "      <th>RF</th>\n",
       "    </tr>\n",
       "  </thead>\n",
       "  <tbody>\n",
       "    <tr>\n",
       "      <th>0</th>\n",
       "      <td>0.995441</td>\n",
       "      <td>0.990881</td>\n",
       "      <td>1.0</td>\n",
       "      <td>0.980243</td>\n",
       "      <td>0.99848</td>\n",
       "      <td>1.0</td>\n",
       "      <td>1.0</td>\n",
       "    </tr>\n",
       "  </tbody>\n",
       "</table>\n",
       "</div>"
      ],
      "text/plain": [
       "         LR       KNN   DT        NB       NN   AB   RF\n",
       "0  0.995441  0.990881  1.0  0.980243  0.99848  1.0  1.0"
      ]
     },
     "execution_count": 241,
     "metadata": {},
     "output_type": "execute_result"
    }
   ],
   "source": [
    "scaler = preprocessing.StandardScaler().fit(X_1[qq['RF_mode']])\n",
    "X_scaled = scaler.transform(X_1[qq['RF_mode'].dropna()])\n",
    "\n",
    "scaler1 = preprocessing.StandardScaler().fit(X_test[qq['RF_mode'].dropna()])\n",
    "X_scaled1 = scaler1.transform(X_test[qq['RF_mode'].dropna()])\n",
    "\n",
    "scores00 = []\n",
    "names00 = []\n",
    "for name,model in models:\n",
    "    m = model.fit(X_scaled,y_1)\n",
    "    scores00.append(m.score(X_scaled,y_1))\n",
    "    names00.append(name)\n",
    "results00 = pd.DataFrame(scores00,index = names00).T\n",
    "results00"
   ]
  },
  {
   "cell_type": "code",
   "execution_count": 244,
   "metadata": {},
   "outputs": [
    {
     "data": {
      "text/html": [
       "<div>\n",
       "<style scoped>\n",
       "    .dataframe tbody tr th:only-of-type {\n",
       "        vertical-align: middle;\n",
       "    }\n",
       "\n",
       "    .dataframe tbody tr th {\n",
       "        vertical-align: top;\n",
       "    }\n",
       "\n",
       "    .dataframe thead th {\n",
       "        text-align: right;\n",
       "    }\n",
       "</style>\n",
       "<table border=\"1\" class=\"dataframe\">\n",
       "  <thead>\n",
       "    <tr style=\"text-align: right;\">\n",
       "      <th></th>\n",
       "      <th>LR</th>\n",
       "      <th>KNN</th>\n",
       "      <th>DT</th>\n",
       "      <th>NB</th>\n",
       "      <th>NN</th>\n",
       "      <th>AB</th>\n",
       "      <th>RF</th>\n",
       "    </tr>\n",
       "  </thead>\n",
       "  <tbody>\n",
       "    <tr>\n",
       "      <th>RF_model</th>\n",
       "      <td>0.995441</td>\n",
       "      <td>0.990881</td>\n",
       "      <td>1.0</td>\n",
       "      <td>0.980243</td>\n",
       "      <td>0.998480</td>\n",
       "      <td>1.0</td>\n",
       "      <td>1.0</td>\n",
       "    </tr>\n",
       "    <tr>\n",
       "      <th>SelectKBest</th>\n",
       "      <td>0.996960</td>\n",
       "      <td>0.993414</td>\n",
       "      <td>1.0</td>\n",
       "      <td>0.985816</td>\n",
       "      <td>0.998987</td>\n",
       "      <td>1.0</td>\n",
       "      <td>1.0</td>\n",
       "    </tr>\n",
       "    <tr>\n",
       "      <th>RFE_LR</th>\n",
       "      <td>0.996960</td>\n",
       "      <td>0.992401</td>\n",
       "      <td>1.0</td>\n",
       "      <td>0.985309</td>\n",
       "      <td>0.997974</td>\n",
       "      <td>1.0</td>\n",
       "      <td>1.0</td>\n",
       "    </tr>\n",
       "    <tr>\n",
       "      <th>RFE_DT</th>\n",
       "      <td>0.996454</td>\n",
       "      <td>0.994428</td>\n",
       "      <td>1.0</td>\n",
       "      <td>0.985816</td>\n",
       "      <td>0.998480</td>\n",
       "      <td>1.0</td>\n",
       "      <td>1.0</td>\n",
       "    </tr>\n",
       "  </tbody>\n",
       "</table>\n",
       "</div>"
      ],
      "text/plain": [
       "                   LR       KNN   DT        NB        NN   AB   RF\n",
       "RF_model     0.995441  0.990881  1.0  0.980243  0.998480  1.0  1.0\n",
       "SelectKBest  0.996960  0.993414  1.0  0.985816  0.998987  1.0  1.0\n",
       "RFE_LR       0.996960  0.992401  1.0  0.985309  0.997974  1.0  1.0\n",
       "RFE_DT       0.996454  0.994428  1.0  0.985816  0.998480  1.0  1.0"
      ]
     },
     "execution_count": 244,
     "metadata": {},
     "output_type": "execute_result"
    }
   ],
   "source": [
    "fit = pd.concat([results00,results11,results22,results33],axis=0)\n",
    "fit.index = ['RF_model','SelectKBest','RFE_LR','RFE_DT']\n",
    "fit"
   ]
  },
  {
   "cell_type": "code",
   "execution_count": 254,
   "metadata": {},
   "outputs": [],
   "source": [
    "fit.to_excel('fitting.xlsx')"
   ]
  },
  {
   "cell_type": "code",
   "execution_count": null,
   "metadata": {},
   "outputs": [],
   "source": [
    "scaler = preprocessing.StandardScaler().fit(X_1[qq['RFE_DT'].dropna()])\n",
    "X_scaled = scaler.transform(X_1[qq['RFE_DT'].dropna()])\n",
    "\n",
    "scaler1 = preprocessing.StandardScaler().fit(X_test[qq['RFE_LR'].dropna()])\n",
    "X_scaled1 = scaler1.transform(X_test[qq['RFE_DT'].dropna()])\n",
    "\n",
    "scores11 = []\n",
    "names22 = []\n",
    "for name,model in models:\n",
    "    m = model.fit(X_scaled,y_1)\n",
    "    scores22.append(m.score(X_scaled,y_1))\n",
    "    names22.append(name)\n",
    "results22 = pd.DataFrame(scores22,index = names22).T\n",
    "results22"
   ]
  },
  {
   "cell_type": "code",
   "execution_count": 210,
   "metadata": {},
   "outputs": [],
   "source": [
    "from sklearn.metrics import f1_score"
   ]
  },
  {
   "cell_type": "code",
   "execution_count": 424,
   "metadata": {},
   "outputs": [
    {
     "data": {
      "text/html": [
       "<div>\n",
       "<style scoped>\n",
       "    .dataframe tbody tr th:only-of-type {\n",
       "        vertical-align: middle;\n",
       "    }\n",
       "\n",
       "    .dataframe tbody tr th {\n",
       "        vertical-align: top;\n",
       "    }\n",
       "\n",
       "    .dataframe thead th {\n",
       "        text-align: right;\n",
       "    }\n",
       "</style>\n",
       "<table border=\"1\" class=\"dataframe\">\n",
       "  <thead>\n",
       "    <tr style=\"text-align: right;\">\n",
       "      <th></th>\n",
       "      <th>LR</th>\n",
       "      <th>KNN</th>\n",
       "      <th>DT</th>\n",
       "      <th>NB</th>\n",
       "      <th>NN</th>\n",
       "      <th>AB</th>\n",
       "      <th>RF</th>\n",
       "    </tr>\n",
       "  </thead>\n",
       "  <tbody>\n",
       "    <tr>\n",
       "      <th>0</th>\n",
       "      <td>1.0</td>\n",
       "      <td>0.976089</td>\n",
       "      <td>1.0</td>\n",
       "      <td>0.969258</td>\n",
       "      <td>0.983064</td>\n",
       "      <td>1.0</td>\n",
       "      <td>1.0</td>\n",
       "    </tr>\n",
       "  </tbody>\n",
       "</table>\n",
       "</div>"
      ],
      "text/plain": [
       "    LR       KNN   DT        NB        NN   AB   RF\n",
       "0  1.0  0.976089  1.0  0.969258  0.983064  1.0  1.0"
      ]
     },
     "execution_count": 424,
     "metadata": {},
     "output_type": "execute_result"
    }
   ],
   "source": [
    "scaler = preprocessing.StandardScaler().fit(X_1[qq['RFE_DT'].dropna()])\n",
    "X_scaled = scaler.transform(X_1[qq['RFE_DT'].dropna()])\n",
    "\n",
    "scaler1 = preprocessing.StandardScaler().fit(X_test[qq['RFE_DT'].dropna()])\n",
    "X_scaled1 = scaler1.transform(X_test[qq['RFE_DT'].dropna()])\n",
    "\n",
    "f3 = []\n",
    "names3 = []\n",
    "for name,model in models:\n",
    "    m = model.fit(X_1[qq['RFE_DT'].dropna()],y_1)\n",
    "    p = model.predict(X_test[qq['RFE_DT'].dropna()])\n",
    "    f3.append(f1_score(y_test,p,average='weighted'))\n",
    "    names3.append(name)\n",
    "ff3 = pd.DataFrame(f3,index = names3).T\n",
    "ff3"
   ]
  },
  {
   "cell_type": "code",
   "execution_count": 425,
   "metadata": {},
   "outputs": [
    {
     "data": {
      "text/html": [
       "<div>\n",
       "<style scoped>\n",
       "    .dataframe tbody tr th:only-of-type {\n",
       "        vertical-align: middle;\n",
       "    }\n",
       "\n",
       "    .dataframe tbody tr th {\n",
       "        vertical-align: top;\n",
       "    }\n",
       "\n",
       "    .dataframe thead th {\n",
       "        text-align: right;\n",
       "    }\n",
       "</style>\n",
       "<table border=\"1\" class=\"dataframe\">\n",
       "  <thead>\n",
       "    <tr style=\"text-align: right;\">\n",
       "      <th></th>\n",
       "      <th>LR</th>\n",
       "      <th>KNN</th>\n",
       "      <th>DT</th>\n",
       "      <th>NB</th>\n",
       "      <th>NN</th>\n",
       "      <th>AB</th>\n",
       "      <th>RF</th>\n",
       "    </tr>\n",
       "  </thead>\n",
       "  <tbody>\n",
       "    <tr>\n",
       "      <th>0</th>\n",
       "      <td>1.0</td>\n",
       "      <td>1.0</td>\n",
       "      <td>1.0</td>\n",
       "      <td>0.972789</td>\n",
       "      <td>0.989919</td>\n",
       "      <td>0.996584</td>\n",
       "      <td>1.0</td>\n",
       "    </tr>\n",
       "  </tbody>\n",
       "</table>\n",
       "</div>"
      ],
      "text/plain": [
       "    LR  KNN   DT        NB        NN        AB   RF\n",
       "0  1.0  1.0  1.0  0.972789  0.989919  0.996584  1.0"
      ]
     },
     "execution_count": 425,
     "metadata": {},
     "output_type": "execute_result"
    }
   ],
   "source": [
    "scaler = preprocessing.StandardScaler().fit(X_1[qq['RFE_LR'].dropna()])\n",
    "X_scaled = scaler.transform(X_1[qq['RFE_LR'].dropna()])\n",
    "\n",
    "scaler1 = preprocessing.StandardScaler().fit(X_test[qq['RFE_LR'].dropna()])\n",
    "X_scaled1 = scaler1.transform(X_test[qq['RFE_LR'].dropna()])\n",
    "\n",
    "f2 = []\n",
    "names2 = []\n",
    "for name,model in models:\n",
    "    m = model.fit(X_1[qq['RFE_LR'].dropna()],y_1)\n",
    "    p = model.predict(X_test[qq['RFE_LR'].dropna()])\n",
    "    f2.append(f1_score(y_test,p,average='weighted'))\n",
    "    names2.append(name)\n",
    "ff2 = pd.DataFrame(f2,index = names2).T\n",
    "ff2"
   ]
  },
  {
   "cell_type": "code",
   "execution_count": 426,
   "metadata": {},
   "outputs": [
    {
     "data": {
      "text/html": [
       "<div>\n",
       "<style scoped>\n",
       "    .dataframe tbody tr th:only-of-type {\n",
       "        vertical-align: middle;\n",
       "    }\n",
       "\n",
       "    .dataframe tbody tr th {\n",
       "        vertical-align: top;\n",
       "    }\n",
       "\n",
       "    .dataframe thead th {\n",
       "        text-align: right;\n",
       "    }\n",
       "</style>\n",
       "<table border=\"1\" class=\"dataframe\">\n",
       "  <thead>\n",
       "    <tr style=\"text-align: right;\">\n",
       "      <th></th>\n",
       "      <th>LR</th>\n",
       "      <th>KNN</th>\n",
       "      <th>DT</th>\n",
       "      <th>NB</th>\n",
       "      <th>NN</th>\n",
       "      <th>AB</th>\n",
       "      <th>RF</th>\n",
       "    </tr>\n",
       "  </thead>\n",
       "  <tbody>\n",
       "    <tr>\n",
       "      <th>0</th>\n",
       "      <td>1.0</td>\n",
       "      <td>0.909965</td>\n",
       "      <td>1.0</td>\n",
       "      <td>0.969258</td>\n",
       "      <td>0.96384</td>\n",
       "      <td>1.0</td>\n",
       "      <td>1.0</td>\n",
       "    </tr>\n",
       "  </tbody>\n",
       "</table>\n",
       "</div>"
      ],
      "text/plain": [
       "    LR       KNN   DT        NB       NN   AB   RF\n",
       "0  1.0  0.909965  1.0  0.969258  0.96384  1.0  1.0"
      ]
     },
     "execution_count": 426,
     "metadata": {},
     "output_type": "execute_result"
    }
   ],
   "source": [
    "scaler = preprocessing.StandardScaler().fit(X_1[qq['SelectKBest'].dropna()])\n",
    "X_scaled = scaler.transform(X_1[qq['SelectKBest'].dropna()])\n",
    "\n",
    "scaler1 = preprocessing.StandardScaler().fit(X_test[qq['SelectKBest'].dropna()])\n",
    "X_scaled1 = scaler1.transform(X_test[qq['SelectKBest'].dropna()])\n",
    "\n",
    "f1 = []\n",
    "names1 = []\n",
    "for name,model in models:\n",
    "    m = model.fit(X_1[qq['SelectKBest'].dropna()],y_1)\n",
    "    p = model.predict(X_test[qq['SelectKBest'].dropna()])\n",
    "    f1.append(f1_score(y_test,p,average='weighted'))\n",
    "    names1.append(name)\n",
    "ff1 = pd.DataFrame(f1,index = names1).T\n",
    "ff1"
   ]
  },
  {
   "cell_type": "code",
   "execution_count": 427,
   "metadata": {},
   "outputs": [
    {
     "data": {
      "text/html": [
       "<div>\n",
       "<style scoped>\n",
       "    .dataframe tbody tr th:only-of-type {\n",
       "        vertical-align: middle;\n",
       "    }\n",
       "\n",
       "    .dataframe tbody tr th {\n",
       "        vertical-align: top;\n",
       "    }\n",
       "\n",
       "    .dataframe thead th {\n",
       "        text-align: right;\n",
       "    }\n",
       "</style>\n",
       "<table border=\"1\" class=\"dataframe\">\n",
       "  <thead>\n",
       "    <tr style=\"text-align: right;\">\n",
       "      <th></th>\n",
       "      <th>LR</th>\n",
       "      <th>KNN</th>\n",
       "      <th>DT</th>\n",
       "      <th>NB</th>\n",
       "      <th>NN</th>\n",
       "      <th>AB</th>\n",
       "      <th>RF</th>\n",
       "    </tr>\n",
       "  </thead>\n",
       "  <tbody>\n",
       "    <tr>\n",
       "      <th>0</th>\n",
       "      <td>1.0</td>\n",
       "      <td>0.909965</td>\n",
       "      <td>1.0</td>\n",
       "      <td>0.969258</td>\n",
       "      <td>0.96384</td>\n",
       "      <td>1.0</td>\n",
       "      <td>1.0</td>\n",
       "    </tr>\n",
       "  </tbody>\n",
       "</table>\n",
       "</div>"
      ],
      "text/plain": [
       "    LR       KNN   DT        NB       NN   AB   RF\n",
       "0  1.0  0.909965  1.0  0.969258  0.96384  1.0  1.0"
      ]
     },
     "execution_count": 427,
     "metadata": {},
     "output_type": "execute_result"
    }
   ],
   "source": [
    "scaler = preprocessing.StandardScaler().fit(X_1[qq['RF_mode'].dropna()])\n",
    "X_scaled = scaler.transform(X_1[qq['RF_mode'].dropna()])\n",
    "\n",
    "scaler1 = preprocessing.StandardScaler().fit(X_test[qq['RF_mode'].dropna()])\n",
    "X_scaled1 = scaler1.transform(X_test[qq['RF_mode'].dropna()])\n",
    "\n",
    "f0 = []\n",
    "names0 = []\n",
    "for name,model in models:\n",
    "    m = model.fit(X_1[qq['RF_mode'].dropna()],y_1)\n",
    "    p = model.predict(X_test[qq['RF_mode'].dropna()])\n",
    "    f0.append(f1_score(y_test,p,average='weighted'))\n",
    "    names0.append(name)\n",
    "ff0 = pd.DataFrame(f1,index = names1).T\n",
    "ff0"
   ]
  },
  {
   "cell_type": "code",
   "execution_count": 218,
   "metadata": {},
   "outputs": [
    {
     "data": {
      "text/plain": [
       "0.8124328501686991"
      ]
     },
     "execution_count": 218,
     "metadata": {},
     "output_type": "execute_result"
    }
   ],
   "source": [
    "scaler = preprocessing.StandardScaler().fit(X_1[qq['RF_mode']])\n",
    "X_scaled = scaler.transform(X_1[qq['RF_mode']])\n",
    "\n",
    "scaler1 = preprocessing.StandardScaler().fit(X_test[qq['RF_mode']])\n",
    "X_scaled1 = scaler1.transform(X_test[qq['RF_mode']])\n",
    "\n",
    "lr = LogisticRegression(max_iter=1000)\n",
    "lr.fit(X_scaled,y_1)\n",
    "\n",
    "pre = lr.predict(X_scaled1)\n",
    "f1_score(y_test,pre,average='weighted')"
   ]
  },
  {
   "cell_type": "code",
   "execution_count": 271,
   "metadata": {
    "scrolled": true
   },
   "outputs": [
    {
     "data": {
      "text/plain": [
       "RFE_DT         0.783655\n",
       "RF_model       0.786919\n",
       "SelectKBest    0.786919\n",
       "RFE_LR         0.791400\n",
       "dtype: float64"
      ]
     },
     "execution_count": 271,
     "metadata": {},
     "output_type": "execute_result"
    }
   ],
   "source": [
    "f1.mean(axis=1).sort_values()"
   ]
  },
  {
   "cell_type": "code",
   "execution_count": 463,
   "metadata": {},
   "outputs": [
    {
     "data": {
      "text/plain": [
       "array([[246,   0],\n",
       "       [  1,  47]])"
      ]
     },
     "execution_count": 463,
     "metadata": {},
     "output_type": "execute_result"
    }
   ],
   "source": [
    "lr = LogisticRegression(penalty='l2',C=0.01,tol = 0.1,dual=False,solver='newton-cg',fit_intercept=True)\n",
    "lr.fit(X[qq['RFE_LR'].dropna()],y_1)\n",
    "\n",
    "#pred_prob = lr.predict_proba(X_1)\n",
    "#f1_score(y_test,pre,average='weighted')\n",
    "\n",
    "pre = lr.predict(X_test[qq['RFE_LR'].dropna()])\n",
    "\n",
    "confusion_matrix(y_test,pre)"
   ]
  },
  {
   "cell_type": "code",
   "execution_count": 446,
   "metadata": {},
   "outputs": [],
   "source": [
    "?LogisticRegression"
   ]
  },
  {
   "cell_type": "code",
   "execution_count": 464,
   "metadata": {},
   "outputs": [
    {
     "name": "stdout",
     "output_type": "stream",
     "text": [
      "              precision    recall  f1-score   support\n",
      "\n",
      "           0       1.00      1.00      1.00       246\n",
      "           1       1.00      0.98      0.99        48\n",
      "\n",
      "    accuracy                           1.00       294\n",
      "   macro avg       1.00      0.99      0.99       294\n",
      "weighted avg       1.00      1.00      1.00       294\n",
      "\n"
     ]
    }
   ],
   "source": [
    "print(classification_report(y_test,pre))"
   ]
  },
  {
   "cell_type": "code",
   "execution_count": 468,
   "metadata": {},
   "outputs": [
    {
     "data": {
      "text/html": [
       "<div>\n",
       "<style scoped>\n",
       "    .dataframe tbody tr th:only-of-type {\n",
       "        vertical-align: middle;\n",
       "    }\n",
       "\n",
       "    .dataframe tbody tr th {\n",
       "        vertical-align: top;\n",
       "    }\n",
       "\n",
       "    .dataframe thead th {\n",
       "        text-align: right;\n",
       "    }\n",
       "</style>\n",
       "<table border=\"1\" class=\"dataframe\">\n",
       "  <thead>\n",
       "    <tr style=\"text-align: right;\">\n",
       "      <th></th>\n",
       "      <th>value</th>\n",
       "    </tr>\n",
       "  </thead>\n",
       "  <tbody>\n",
       "    <tr>\n",
       "      <th>TrainingTimes</th>\n",
       "      <td>-0.095400</td>\n",
       "    </tr>\n",
       "    <tr>\n",
       "      <th>EnvironmentSatisfaction</th>\n",
       "      <td>-0.130267</td>\n",
       "    </tr>\n",
       "    <tr>\n",
       "      <th>JobSatisfaction</th>\n",
       "      <td>-0.284256</td>\n",
       "    </tr>\n",
       "    <tr>\n",
       "      <th>Flight risk likelihood (in 2018)</th>\n",
       "      <td>0.583952</td>\n",
       "    </tr>\n",
       "  </tbody>\n",
       "</table>\n",
       "</div>"
      ],
      "text/plain": [
       "                                     value\n",
       "TrainingTimes                    -0.095400\n",
       "EnvironmentSatisfaction          -0.130267\n",
       "JobSatisfaction                  -0.284256\n",
       "Flight risk likelihood (in 2018)  0.583952"
      ]
     },
     "execution_count": 468,
     "metadata": {},
     "output_type": "execute_result"
    }
   ],
   "source": [
    "aa = pd.DataFrame(lr.coef_).T\n",
    "aa.index=X_test[qq['RFE_LR'].dropna()].columns\n",
    "aa.columns = ['value']\n",
    "aa"
   ]
  },
  {
   "cell_type": "code",
   "execution_count": 469,
   "metadata": {},
   "outputs": [
    {
     "data": {
      "text/html": [
       "<div>\n",
       "<style scoped>\n",
       "    .dataframe tbody tr th:only-of-type {\n",
       "        vertical-align: middle;\n",
       "    }\n",
       "\n",
       "    .dataframe tbody tr th {\n",
       "        vertical-align: top;\n",
       "    }\n",
       "\n",
       "    .dataframe thead th {\n",
       "        text-align: right;\n",
       "    }\n",
       "</style>\n",
       "<table border=\"1\" class=\"dataframe\">\n",
       "  <thead>\n",
       "    <tr style=\"text-align: right;\">\n",
       "      <th></th>\n",
       "      <th>TrainingTimes</th>\n",
       "      <th>EnvironmentSatisfaction</th>\n",
       "      <th>JobSatisfaction</th>\n",
       "      <th>Flight risk likelihood (in 2018)</th>\n",
       "    </tr>\n",
       "  </thead>\n",
       "  <tbody>\n",
       "    <tr>\n",
       "      <th>value</th>\n",
       "      <td>-0.0954</td>\n",
       "      <td>-0.130267</td>\n",
       "      <td>-0.284256</td>\n",
       "      <td>0.583952</td>\n",
       "    </tr>\n",
       "  </tbody>\n",
       "</table>\n",
       "</div>"
      ],
      "text/plain": [
       "       TrainingTimes  EnvironmentSatisfaction  JobSatisfaction  \\\n",
       "value        -0.0954                -0.130267        -0.284256   \n",
       "\n",
       "       Flight risk likelihood (in 2018)  \n",
       "value                          0.583952  "
      ]
     },
     "execution_count": 469,
     "metadata": {},
     "output_type": "execute_result"
    }
   ],
   "source": [
    "aa.sort_values(by='value').loc[qq['RFE_LR'].dropna()].T"
   ]
  },
  {
   "cell_type": "code",
   "execution_count": 470,
   "metadata": {},
   "outputs": [
    {
     "data": {
      "text/plain": [
       "0                       TrainingTimes\n",
       "1             EnvironmentSatisfaction\n",
       "2                     JobSatisfaction\n",
       "3    Flight risk likelihood (in 2018)\n",
       "Name: RFE_LR, dtype: object"
      ]
     },
     "execution_count": 470,
     "metadata": {},
     "output_type": "execute_result"
    }
   ],
   "source": [
    "qq['RFE_LR'].dropna()"
   ]
  },
  {
   "cell_type": "code",
   "execution_count": null,
   "metadata": {},
   "outputs": [],
   "source": [
    "print(classification_report(y_t,pre))"
   ]
  },
  {
   "cell_type": "code",
   "execution_count": 270,
   "metadata": {},
   "outputs": [
    {
     "data": {
      "text/plain": [
       "RFE_LR         0.752672\n",
       "SelectKBest    0.756074\n",
       "RF_model       0.760447\n",
       "RFE_DT         0.761419\n",
       "dtype: float64"
      ]
     },
     "execution_count": 270,
     "metadata": {},
     "output_type": "execute_result"
    }
   ],
   "source": [
    "acc.mean(axis=1).sort_values()"
   ]
  },
  {
   "cell_type": "code",
   "execution_count": 428,
   "metadata": {},
   "outputs": [
    {
     "data": {
      "text/html": [
       "<div>\n",
       "<style scoped>\n",
       "    .dataframe tbody tr th:only-of-type {\n",
       "        vertical-align: middle;\n",
       "    }\n",
       "\n",
       "    .dataframe tbody tr th {\n",
       "        vertical-align: top;\n",
       "    }\n",
       "\n",
       "    .dataframe thead th {\n",
       "        text-align: right;\n",
       "    }\n",
       "</style>\n",
       "<table border=\"1\" class=\"dataframe\">\n",
       "  <thead>\n",
       "    <tr style=\"text-align: right;\">\n",
       "      <th></th>\n",
       "      <th>LR</th>\n",
       "      <th>KNN</th>\n",
       "      <th>DT</th>\n",
       "      <th>NB</th>\n",
       "      <th>NN</th>\n",
       "      <th>AB</th>\n",
       "      <th>RF</th>\n",
       "    </tr>\n",
       "  </thead>\n",
       "  <tbody>\n",
       "    <tr>\n",
       "      <th>RF_model</th>\n",
       "      <td>1.0</td>\n",
       "      <td>0.909965</td>\n",
       "      <td>1.0</td>\n",
       "      <td>0.969258</td>\n",
       "      <td>0.963840</td>\n",
       "      <td>1.000000</td>\n",
       "      <td>1.0</td>\n",
       "    </tr>\n",
       "    <tr>\n",
       "      <th>SelectKBest</th>\n",
       "      <td>1.0</td>\n",
       "      <td>0.909965</td>\n",
       "      <td>1.0</td>\n",
       "      <td>0.969258</td>\n",
       "      <td>0.963840</td>\n",
       "      <td>1.000000</td>\n",
       "      <td>1.0</td>\n",
       "    </tr>\n",
       "    <tr>\n",
       "      <th>RFE_LR</th>\n",
       "      <td>1.0</td>\n",
       "      <td>1.000000</td>\n",
       "      <td>1.0</td>\n",
       "      <td>0.972789</td>\n",
       "      <td>0.989919</td>\n",
       "      <td>0.996584</td>\n",
       "      <td>1.0</td>\n",
       "    </tr>\n",
       "    <tr>\n",
       "      <th>RFE_DT</th>\n",
       "      <td>1.0</td>\n",
       "      <td>0.976089</td>\n",
       "      <td>1.0</td>\n",
       "      <td>0.969258</td>\n",
       "      <td>0.983064</td>\n",
       "      <td>1.000000</td>\n",
       "      <td>1.0</td>\n",
       "    </tr>\n",
       "  </tbody>\n",
       "</table>\n",
       "</div>"
      ],
      "text/plain": [
       "              LR       KNN   DT        NB        NN        AB   RF\n",
       "RF_model     1.0  0.909965  1.0  0.969258  0.963840  1.000000  1.0\n",
       "SelectKBest  1.0  0.909965  1.0  0.969258  0.963840  1.000000  1.0\n",
       "RFE_LR       1.0  1.000000  1.0  0.972789  0.989919  0.996584  1.0\n",
       "RFE_DT       1.0  0.976089  1.0  0.969258  0.983064  1.000000  1.0"
      ]
     },
     "execution_count": 428,
     "metadata": {},
     "output_type": "execute_result"
    }
   ],
   "source": [
    "f1 = pd.concat([ff0,ff1,ff2,ff3],axis = 0)\n",
    "f1.index = ['RF_model','SelectKBest','RFE_LR','RFE_DT']\n",
    "f1.to_excel('f1_measurement.xlsx')\n",
    "f1"
   ]
  },
  {
   "cell_type": "code",
   "execution_count": 431,
   "metadata": {},
   "outputs": [
    {
     "data": {
      "text/plain": [
       "SelectKBest    0.979592\n",
       "RF_model       0.979592\n",
       "RFE_DT         0.987852\n",
       "RFE_LR         0.992711\n",
       "dtype: float64"
      ]
     },
     "execution_count": 431,
     "metadata": {},
     "output_type": "execute_result"
    }
   ],
   "source": [
    "acc.mean(axis=1).sort_values()"
   ]
  },
  {
   "cell_type": "code",
   "execution_count": 433,
   "metadata": {},
   "outputs": [],
   "source": [
    "acc.to_excel('accuracy.xlsx')\n",
    "f1.to_excel('f1.xlsx')"
   ]
  },
  {
   "cell_type": "code",
   "execution_count": 432,
   "metadata": {},
   "outputs": [
    {
     "data": {
      "text/plain": [
       "RF_model       0.977580\n",
       "SelectKBest    0.977580\n",
       "RFE_DT         0.989773\n",
       "RFE_LR         0.994185\n",
       "dtype: float64"
      ]
     },
     "execution_count": 432,
     "metadata": {},
     "output_type": "execute_result"
    }
   ],
   "source": [
    "f1.mean(axis=1).sort_values()"
   ]
  },
  {
   "cell_type": "code",
   "execution_count": 181,
   "metadata": {},
   "outputs": [
    {
     "data": {
      "image/png": "[encoded data removed]",
      "text/plain": [
       "<Figure size 864x576 with 1 Axes>"
      ]
     },
     "metadata": {
      "needs_background": "light"
     },
     "output_type": "display_data"
    }
   ],
   "source": [
    "scaler = preprocessing.StandardScaler().fit(X_1[qq['RF_mode']])\n",
    "X_scaled = scaler.transform(X_1[qq['RF_mode']])\n",
    "\n",
    "scores = []\n",
    "names = []\n",
    "for name,model in models:\n",
    "    crossval_scores = cross_val_score(model, X_scaled, y_1, scoring='accuracy', cv=kf)\n",
    "    scores.append(crossval_scores)\n",
    "    names.append(name)\n",
    "    \n",
    "results1 = pd.DataFrame(scores,index = names).T\n",
    "results1\n",
    "\n",
    "results1.boxplot(figsize=(12,8)); "
   ]
  },
  {
   "cell_type": "code",
   "execution_count": 136,
   "metadata": {},
   "outputs": [
    {
     "data": {
      "image/png": "[encoded data removed]",
      "text/plain": [
       "<Figure size 864x576 with 1 Axes>"
      ]
     },
     "metadata": {
      "needs_background": "light"
     },
     "output_type": "display_data"
    }
   ],
   "source": [
    "scaler = preprocessing.StandardScaler().fit(X_1[ff])\n",
    "X_scaled = scaler.transform(X_1[ff])\n",
    "\n",
    "scores = []\n",
    "names = []\n",
    "for name,model in models:\n",
    "    crossval_scores = cross_val_score(model, X_scaled, y_1, scoring='accuracy', cv=kf)\n",
    "    scores.append(crossval_scores)\n",
    "    names.append(name)\n",
    "    \n",
    "results1 = pd.DataFrame(scores,index = names).T\n",
    "results1\n",
    "\n",
    "results1.boxplot(figsize=(12,8)); "
   ]
  },
  {
   "cell_type": "code",
   "execution_count": 128,
   "metadata": {},
   "outputs": [
    {
     "data": {
      "image/png": "[encoded data removed]",
      "text/plain": [
       "<Figure size 864x576 with 1 Axes>"
      ]
     },
     "metadata": {
      "needs_background": "light"
     },
     "output_type": "display_data"
    }
   ],
   "source": [
    "scaler = preprocessing.StandardScaler().fit(X_1[ff])\n",
    "X_scaled = scaler.transform(X_1[ff])\n",
    "\n",
    "scores = []\n",
    "names = []\n",
    "for name,model in models:\n",
    "    crossval_scores = cross_val_score(model, X_scaled, y_1, scoring='f1', cv=kf)\n",
    "    scores.append(crossval_scores)\n",
    "    names.append(name)\n",
    "    \n",
    "results2 = pd.DataFrame(scores,index = names).T\n",
    "results2\n",
    "\n",
    "results2.boxplot(figsize=(12,8)); "
   ]
  },
  {
   "cell_type": "code",
   "execution_count": 127,
   "metadata": {},
   "outputs": [
    {
     "ename": "NameError",
     "evalue": "name 'results2' is not defined",
     "output_type": "error",
     "traceback": [
      "\u001b[0;31m---------------------------------------------------------------------------\u001b[0m",
      "\u001b[0;31mNameError\u001b[0m                                 Traceback (most recent call last)",
      "\u001b[0;32m<ipython-input-127-79e0b0e3edc0>\u001b[0m in \u001b[0;36m<module>\u001b[0;34m\u001b[0m\n\u001b[1;32m     12\u001b[0m \u001b[0mresults3\u001b[0m\u001b[0;34m\u001b[0m\u001b[0;34m\u001b[0m\u001b[0m\n\u001b[1;32m     13\u001b[0m \u001b[0;34m\u001b[0m\u001b[0m\n\u001b[0;32m---> 14\u001b[0;31m \u001b[0mresults2\u001b[0m\u001b[0;34m.\u001b[0m\u001b[0mboxplot\u001b[0m\u001b[0;34m(\u001b[0m\u001b[0mfigsize\u001b[0m\u001b[0;34m=\u001b[0m\u001b[0;34m(\u001b[0m\u001b[0;36m12\u001b[0m\u001b[0;34m,\u001b[0m\u001b[0;36m8\u001b[0m\u001b[0;34m)\u001b[0m\u001b[0;34m)\u001b[0m\u001b[0;34m;\u001b[0m\u001b[0;34m\u001b[0m\u001b[0;34m\u001b[0m\u001b[0m\n\u001b[0m",
      "\u001b[0;31mNameError\u001b[0m: name 'results2' is not defined"
     ]
    }
   ],
   "source": [
    "scaler = preprocessing.StandardScaler().fit(X_1[ff])\n",
    "X_scaled = scaler.transform(X_1[ff])\n",
    "\n",
    "scores = []\n",
    "names = []\n",
    "for name,model in models:\n",
    "    crossval_scores = cross_val_score(model, X_scaled, y_1, scoring='average_precision', cv=kf)\n",
    "    scores.append(crossval_scores)\n",
    "    names.append(name)\n",
    "    \n",
    "results3 = pd.DataFrame(scores,index = names).T\n",
    "results3\n",
    "\n",
    "results2.boxplot(figsize=(12,8)); "
   ]
  },
  {
   "cell_type": "code",
   "execution_count": 217,
   "metadata": {},
   "outputs": [
    {
     "data": {
      "image/png": "[encoded data removed]",
      "text/plain": [
       "<Figure size 864x576 with 1 Axes>"
      ]
     },
     "metadata": {
      "needs_background": "light"
     },
     "output_type": "display_data"
    }
   ],
   "source": [
    "scaler = preprocessing.StandardScaler().fit(X_1[ff])\n",
    "X_scaled = scaler.transform(X_1[ff])\n",
    "\n",
    "scores = []\n",
    "names = []\n",
    "for name,model in models:\n",
    "    crossval_scores = cross_val_score(model, X_scaled, y_1, scoring='roc_auc', cv=kf)\n",
    "    scores.append(crossval_scores)\n",
    "    names.append(name)\n",
    "    \n",
    "results4 = pd.DataFrame(scores,index = names).T\n",
    "results4\n",
    "\n",
    "results4.boxplot(figsize=(12,8)); "
   ]
  },
  {
   "cell_type": "code",
   "execution_count": 218,
   "metadata": {},
   "outputs": [
    {
     "data": {
      "image/png": "[encoded data removed]",
      "text/plain": [
       "<Figure size 432x288 with 1 Axes>"
      ]
     },
     "metadata": {
      "needs_background": "light"
     },
     "output_type": "display_data"
    }
   ],
   "source": [
    "results4.boxplot(figsize=(6,4));"
   ]
  },
  {
   "cell_type": "code",
   "execution_count": 219,
   "metadata": {},
   "outputs": [
    {
     "data": {
      "text/html": [
       "<div>\n",
       "<style scoped>\n",
       "    .dataframe tbody tr th:only-of-type {\n",
       "        vertical-align: middle;\n",
       "    }\n",
       "\n",
       "    .dataframe tbody tr th {\n",
       "        vertical-align: top;\n",
       "    }\n",
       "\n",
       "    .dataframe thead th {\n",
       "        text-align: right;\n",
       "    }\n",
       "</style>\n",
       "<table border=\"1\" class=\"dataframe\">\n",
       "  <thead>\n",
       "    <tr style=\"text-align: right;\">\n",
       "      <th></th>\n",
       "      <th>Accuracy</th>\n",
       "      <th>F1</th>\n",
       "      <th>Precision</th>\n",
       "      <th>Roc_auc</th>\n",
       "    </tr>\n",
       "  </thead>\n",
       "  <tbody>\n",
       "    <tr>\n",
       "      <th>LR</th>\n",
       "      <td>0.996965</td>\n",
       "      <td>0.996972</td>\n",
       "      <td>0.999700</td>\n",
       "      <td>0.999700</td>\n",
       "    </tr>\n",
       "    <tr>\n",
       "      <th>KNN</th>\n",
       "      <td>0.989871</td>\n",
       "      <td>0.989927</td>\n",
       "      <td>0.995119</td>\n",
       "      <td>0.996548</td>\n",
       "    </tr>\n",
       "    <tr>\n",
       "      <th>DT</th>\n",
       "      <td>0.999495</td>\n",
       "      <td>0.999526</td>\n",
       "      <td>0.999057</td>\n",
       "      <td>0.999462</td>\n",
       "    </tr>\n",
       "    <tr>\n",
       "      <th>NB</th>\n",
       "      <td>0.978219</td>\n",
       "      <td>0.977811</td>\n",
       "      <td>0.997782</td>\n",
       "      <td>0.997445</td>\n",
       "    </tr>\n",
       "    <tr>\n",
       "      <th>NN</th>\n",
       "      <td>0.996457</td>\n",
       "      <td>0.996972</td>\n",
       "      <td>0.999857</td>\n",
       "      <td>0.999866</td>\n",
       "    </tr>\n",
       "    <tr>\n",
       "      <th>AB</th>\n",
       "      <td>0.998990</td>\n",
       "      <td>0.999057</td>\n",
       "      <td>1.000000</td>\n",
       "      <td>1.000000</td>\n",
       "    </tr>\n",
       "    <tr>\n",
       "      <th>RF</th>\n",
       "      <td>0.999495</td>\n",
       "      <td>1.000000</td>\n",
       "      <td>1.000000</td>\n",
       "      <td>1.000000</td>\n",
       "    </tr>\n",
       "  </tbody>\n",
       "</table>\n",
       "</div>"
      ],
      "text/plain": [
       "     Accuracy        F1  Precision   Roc_auc\n",
       "LR   0.996965  0.996972   0.999700  0.999700\n",
       "KNN  0.989871  0.989927   0.995119  0.996548\n",
       "DT   0.999495  0.999526   0.999057  0.999462\n",
       "NB   0.978219  0.977811   0.997782  0.997445\n",
       "NN   0.996457  0.996972   0.999857  0.999866\n",
       "AB   0.998990  0.999057   1.000000  1.000000\n",
       "RF   0.999495  1.000000   1.000000  1.000000"
      ]
     },
     "execution_count": 219,
     "metadata": {},
     "output_type": "execute_result"
    }
   ],
   "source": [
    "pd.DataFrame([results1.mean(),results2.mean(),results3.mean(),results4.mean()],\n",
    "             index = ['Accuracy','F1','Precision','Roc_auc']).T"
   ]
  },
  {
   "cell_type": "code",
   "execution_count": 220,
   "metadata": {},
   "outputs": [
    {
     "data": {
      "image/png": "[encoded data removed]",
      "text/plain": [
       "<Figure size 864x576 with 1 Axes>"
      ]
     },
     "metadata": {
      "needs_background": "light"
     },
     "output_type": "display_data"
    }
   ],
   "source": [
    "scaler = preprocessing.StandardScaler().fit(X_test[ff])\n",
    "X_scaled = scaler.transform(X_test[ff])\n",
    "\n",
    "scores = []\n",
    "names = []\n",
    "for name,model in models:\n",
    "    crossval_scores = cross_val_score(model, X_scaled, y_test, scoring='accuracy', cv=kf)\n",
    "    scores.append(crossval_scores)\n",
    "    names.append(name)\n",
    "    \n",
    "results5 = pd.DataFrame(scores,index = names).T\n",
    "results5\n",
    "\n",
    "results5.boxplot(figsize=(12,8)); "
   ]
  },
  {
   "cell_type": "code",
   "execution_count": 221,
   "metadata": {},
   "outputs": [
    {
     "data": {
      "image/png": "[encoded data removed]",
      "text/plain": [
       "<Figure size 864x576 with 1 Axes>"
      ]
     },
     "metadata": {
      "needs_background": "light"
     },
     "output_type": "display_data"
    }
   ],
   "source": [
    "scaler = preprocessing.StandardScaler().fit(X_test[ff])\n",
    "X_scaled = scaler.transform(X_test[ff])\n",
    "\n",
    "scores = []\n",
    "names = []\n",
    "for name,model in models:\n",
    "    crossval_scores = cross_val_score(model, X_scaled, y_test, scoring='f1', cv=kf)\n",
    "    scores.append(crossval_scores)\n",
    "    names.append(name)\n",
    "    \n",
    "results6 = pd.DataFrame(scores,index = names).T\n",
    "results6\n",
    "\n",
    "results6.boxplot(figsize=(12,8)); "
   ]
  },
  {
   "cell_type": "code",
   "execution_count": 222,
   "metadata": {},
   "outputs": [
    {
     "data": {
      "image/png": "[encoded data removed]",
      "text/plain": [
       "<Figure size 864x576 with 1 Axes>"
      ]
     },
     "metadata": {
      "needs_background": "light"
     },
     "output_type": "display_data"
    }
   ],
   "source": [
    "scaler = preprocessing.StandardScaler().fit(X_test[ff])\n",
    "X_scaled = scaler.transform(X_test[ff])\n",
    "\n",
    "scores = []\n",
    "names = []\n",
    "for name,model in models:\n",
    "    crossval_scores = cross_val_score(model, X_scaled, y_test, scoring='average_precision', cv=kf)\n",
    "    scores.append(crossval_scores)\n",
    "    names.append(name)\n",
    "    \n",
    "results7 = pd.DataFrame(scores,index = names).T\n",
    "results7\n",
    "\n",
    "results7.boxplot(figsize=(12,8)); "
   ]
  },
  {
   "cell_type": "code",
   "execution_count": 223,
   "metadata": {},
   "outputs": [
    {
     "data": {
      "image/png": "[encoded data removed]",
      "text/plain": [
       "<Figure size 864x576 with 1 Axes>"
      ]
     },
     "metadata": {
      "needs_background": "light"
     },
     "output_type": "display_data"
    }
   ],
   "source": [
    "scaler = preprocessing.StandardScaler().fit(X_test[ff])\n",
    "X_scaled = scaler.transform(X_test[ff])\n",
    "\n",
    "scores = []\n",
    "names = []\n",
    "for name,model in models:\n",
    "    crossval_scores = cross_val_score(model, X_scaled, y_test, scoring='roc_auc', cv=kf)\n",
    "    scores.append(crossval_scores)\n",
    "    names.append(name)\n",
    "    \n",
    "results8 = pd.DataFrame(scores,index = names).T\n",
    "results8\n",
    "\n",
    "results8.boxplot(figsize=(12,8)); "
   ]
  },
  {
   "cell_type": "code",
   "execution_count": 224,
   "metadata": {},
   "outputs": [
    {
     "data": {
      "text/html": [
       "<div>\n",
       "<style scoped>\n",
       "    .dataframe tbody tr th:only-of-type {\n",
       "        vertical-align: middle;\n",
       "    }\n",
       "\n",
       "    .dataframe tbody tr th {\n",
       "        vertical-align: top;\n",
       "    }\n",
       "\n",
       "    .dataframe thead th {\n",
       "        text-align: right;\n",
       "    }\n",
       "</style>\n",
       "<table border=\"1\" class=\"dataframe\">\n",
       "  <thead>\n",
       "    <tr style=\"text-align: right;\">\n",
       "      <th></th>\n",
       "      <th>Accuracy</th>\n",
       "      <th>F1</th>\n",
       "      <th>Precision</th>\n",
       "      <th>Roc_auc</th>\n",
       "    </tr>\n",
       "  </thead>\n",
       "  <tbody>\n",
       "    <tr>\n",
       "      <th>LR</th>\n",
       "      <td>0.986322</td>\n",
       "      <td>0.958846</td>\n",
       "      <td>0.998611</td>\n",
       "      <td>0.999405</td>\n",
       "    </tr>\n",
       "    <tr>\n",
       "      <th>KNN</th>\n",
       "      <td>0.975977</td>\n",
       "      <td>0.937820</td>\n",
       "      <td>0.964242</td>\n",
       "      <td>0.985665</td>\n",
       "    </tr>\n",
       "    <tr>\n",
       "      <th>DT</th>\n",
       "      <td>0.993103</td>\n",
       "      <td>0.971429</td>\n",
       "      <td>0.975000</td>\n",
       "      <td>0.996154</td>\n",
       "    </tr>\n",
       "    <tr>\n",
       "      <th>NB</th>\n",
       "      <td>0.979310</td>\n",
       "      <td>0.936941</td>\n",
       "      <td>0.997049</td>\n",
       "      <td>0.998810</td>\n",
       "    </tr>\n",
       "    <tr>\n",
       "      <th>NN</th>\n",
       "      <td>0.993218</td>\n",
       "      <td>0.976623</td>\n",
       "      <td>1.000000</td>\n",
       "      <td>1.000000</td>\n",
       "    </tr>\n",
       "    <tr>\n",
       "      <th>AB</th>\n",
       "      <td>0.996552</td>\n",
       "      <td>0.985714</td>\n",
       "      <td>1.000000</td>\n",
       "      <td>1.000000</td>\n",
       "    </tr>\n",
       "    <tr>\n",
       "      <th>RF</th>\n",
       "      <td>1.000000</td>\n",
       "      <td>1.000000</td>\n",
       "      <td>1.000000</td>\n",
       "      <td>1.000000</td>\n",
       "    </tr>\n",
       "  </tbody>\n",
       "</table>\n",
       "</div>"
      ],
      "text/plain": [
       "     Accuracy        F1  Precision   Roc_auc\n",
       "LR   0.986322  0.958846   0.998611  0.999405\n",
       "KNN  0.975977  0.937820   0.964242  0.985665\n",
       "DT   0.993103  0.971429   0.975000  0.996154\n",
       "NB   0.979310  0.936941   0.997049  0.998810\n",
       "NN   0.993218  0.976623   1.000000  1.000000\n",
       "AB   0.996552  0.985714   1.000000  1.000000\n",
       "RF   1.000000  1.000000   1.000000  1.000000"
      ]
     },
     "execution_count": 224,
     "metadata": {},
     "output_type": "execute_result"
    }
   ],
   "source": [
    "pd.DataFrame([results5.mean(),results6.mean(),results7.mean(),results8.mean()],\n",
    "             index = ['Accuracy','F1','Precision','Roc_auc']).T"
   ]
  },
  {
   "cell_type": "code",
   "execution_count": 225,
   "metadata": {},
   "outputs": [
    {
     "data": {
      "text/html": [
       "<div>\n",
       "<style scoped>\n",
       "    .dataframe tbody tr th:only-of-type {\n",
       "        vertical-align: middle;\n",
       "    }\n",
       "\n",
       "    .dataframe tbody tr th {\n",
       "        vertical-align: top;\n",
       "    }\n",
       "\n",
       "    .dataframe thead th {\n",
       "        text-align: right;\n",
       "    }\n",
       "</style>\n",
       "<table border=\"1\" class=\"dataframe\">\n",
       "  <thead>\n",
       "    <tr style=\"text-align: right;\">\n",
       "      <th></th>\n",
       "      <th>Accuracy</th>\n",
       "      <th>F1</th>\n",
       "      <th>Precision</th>\n",
       "      <th>Roc_auc</th>\n",
       "    </tr>\n",
       "  </thead>\n",
       "  <tbody>\n",
       "    <tr>\n",
       "      <th>LR</th>\n",
       "      <td>0.996965</td>\n",
       "      <td>0.996972</td>\n",
       "      <td>0.999700</td>\n",
       "      <td>0.999700</td>\n",
       "    </tr>\n",
       "    <tr>\n",
       "      <th>KNN</th>\n",
       "      <td>0.989871</td>\n",
       "      <td>0.989927</td>\n",
       "      <td>0.995119</td>\n",
       "      <td>0.996548</td>\n",
       "    </tr>\n",
       "    <tr>\n",
       "      <th>DT</th>\n",
       "      <td>0.999495</td>\n",
       "      <td>0.999526</td>\n",
       "      <td>0.999057</td>\n",
       "      <td>0.999462</td>\n",
       "    </tr>\n",
       "    <tr>\n",
       "      <th>NB</th>\n",
       "      <td>0.978219</td>\n",
       "      <td>0.977811</td>\n",
       "      <td>0.997782</td>\n",
       "      <td>0.997445</td>\n",
       "    </tr>\n",
       "    <tr>\n",
       "      <th>NN</th>\n",
       "      <td>0.996457</td>\n",
       "      <td>0.996972</td>\n",
       "      <td>0.999857</td>\n",
       "      <td>0.999866</td>\n",
       "    </tr>\n",
       "    <tr>\n",
       "      <th>AB</th>\n",
       "      <td>0.998990</td>\n",
       "      <td>0.999057</td>\n",
       "      <td>1.000000</td>\n",
       "      <td>1.000000</td>\n",
       "    </tr>\n",
       "    <tr>\n",
       "      <th>RF</th>\n",
       "      <td>0.999495</td>\n",
       "      <td>1.000000</td>\n",
       "      <td>1.000000</td>\n",
       "      <td>1.000000</td>\n",
       "    </tr>\n",
       "  </tbody>\n",
       "</table>\n",
       "</div>"
      ],
      "text/plain": [
       "     Accuracy        F1  Precision   Roc_auc\n",
       "LR   0.996965  0.996972   0.999700  0.999700\n",
       "KNN  0.989871  0.989927   0.995119  0.996548\n",
       "DT   0.999495  0.999526   0.999057  0.999462\n",
       "NB   0.978219  0.977811   0.997782  0.997445\n",
       "NN   0.996457  0.996972   0.999857  0.999866\n",
       "AB   0.998990  0.999057   1.000000  1.000000\n",
       "RF   0.999495  1.000000   1.000000  1.000000"
      ]
     },
     "execution_count": 225,
     "metadata": {},
     "output_type": "execute_result"
    }
   ],
   "source": [
    "pd.DataFrame([results1.mean(),results2.mean(),results3.mean(),results4.mean()],\n",
    "             index = ['Accuracy','F1','Precision','Roc_auc']).T"
   ]
  },
  {
   "cell_type": "code",
   "execution_count": null,
   "metadata": {},
   "outputs": [],
   "source": [
    "for model in models_new:   "
   ]
  },
  {
   "cell_type": "code",
   "execution_count": null,
   "metadata": {},
   "outputs": [],
   "source": [
    "results"
   ]
  },
  {
   "cell_type": "code",
   "execution_count": null,
   "metadata": {},
   "outputs": [],
   "source": [
    "dt = DecisionTreeClassifier(max_features=0.5644444444444445, max_depth = 7, criterion= 'entropy')\n",
    "dt.fit(X_1,y_1)\n",
    "(dt.predict(X_test) - y_test).value_counts()"
   ]
  },
  {
   "cell_type": "code",
   "execution_count": null,
   "metadata": {},
   "outputs": [],
   "source": [
    "dt = DecisionTreeClassifier()\n",
    "dt.fit(X_1,y_1)\n",
    "(dt.predict(X_test) - y_test).value_counts()"
   ]
  },
  {
   "cell_type": "code",
   "execution_count": null,
   "metadata": {},
   "outputs": [],
   "source": [
    "s = {}\n",
    "for name,model in models_new:\n",
    "    mo = model.fit(X_1,y_1)\n",
    "    f = f1_score(y_test, mo.predict(X_test), average='weighted')\n",
    "    s.update({name:f})\n",
    "s"
   ]
  },
  {
   "cell_type": "code",
   "execution_count": null,
   "metadata": {},
   "outputs": [],
   "source": [
    "t = {}\n",
    "for name,model in models_new:\n",
    "    mo = model.fit(X_1,y_1)\n",
    "    f = roc_auc_score(y_test, mo.predict(X_test))\n",
    "    t.update({name:f})\n",
    "t"
   ]
  },
  {
   "cell_type": "code",
   "execution_count": null,
   "metadata": {},
   "outputs": [],
   "source": [
    "d = {}\n",
    "for name,model in models_new:\n",
    "    mo = model.fit(X_1,y_1)\n",
    "    f = accuracy_score(y_test, mo.predict(X_test))\n",
    "    d.update({name:f})\n",
    "d"
   ]
  },
  {
   "cell_type": "code",
   "execution_count": null,
   "metadata": {},
   "outputs": [],
   "source": [
    "pd.DataFrame([s,t,d],index = ['F1','AUC','accuracy'])"
   ]
  },
  {
   "cell_type": "code",
   "execution_count": null,
   "metadata": {},
   "outputs": [],
   "source": [
    "scaler = preprocessing.StandardScaler().fit(X_1)\n",
    "X_scaled = scaler.transform(X_1)\n",
    "\n",
    "scores = []\n",
    "names = []\n",
    "for name,model in models:\n",
    "    crossval_scores = cross_val_score(model, X_scaled, y_1, scoring='accuracy', cv=kf)\n",
    "    scores.append(crossval_scores)\n",
    "    names.append(name)\n",
    "    \n",
    "results2 = pd.DataFrame(scores,index = names).T\n",
    "results2\n",
    "\n",
    "results2.boxplot(figsize=(12,8)); # RandomForest is the best"
   ]
  },
  {
   "cell_type": "code",
   "execution_count": null,
   "metadata": {},
   "outputs": [],
   "source": [
    "X_train, X_test, y_train, y_test = train_test_split(X, y, test_size=0.2, random_state=42)"
   ]
  },
  {
   "cell_type": "code",
   "execution_count": null,
   "metadata": {},
   "outputs": [],
   "source": [
    "scaler = preprocessing.StandardScaler().fit(X_train)\n",
    "X_scaled = scaler.transform(X_train)\n",
    "\n",
    "scores = []\n",
    "names = []\n",
    "for name,model in models:\n",
    "    crossval_scores = cross_val_score(model, X_scaled, y_train.values.ravel(), scoring='accuracy', cv=kf)\n",
    "    scores.append(crossval_scores)\n",
    "    names.append(name)\n",
    "    \n",
    "results = pd.DataFrame(scores,index = names).T\n",
    "results"
   ]
  },
  {
   "cell_type": "code",
   "execution_count": null,
   "metadata": {},
   "outputs": [],
   "source": [
    "from sklearn.model_selection import RandomizedSearchCV\n",
    "from sklearn.metrics import accuracy_score\n",
    "best_model = DecisionTreeClassifier()\n",
    "n_estimators = [int(x) for x in np.linspace(5,30,num=25)]\n",
    "random_grid = {'k': n_estimators}"
   ]
  },
  {
   "cell_type": "code",
   "execution_count": null,
   "metadata": {},
   "outputs": [],
   "source": [
    "best_model_random = RandomizedSearchCV(estimator = best_model, param_distributions = random_grid, \n",
    "                                       random_state=42, n_jobs = -1)"
   ]
  },
  {
   "cell_type": "code",
   "execution_count": null,
   "metadata": {},
   "outputs": [],
   "source": [
    "final_model = best_model.fit(X_train,y_train)"
   ]
  },
  {
   "cell_type": "code",
   "execution_count": null,
   "metadata": {},
   "outputs": [],
   "source": [
    "importance = pd.Series(final_model.feature_importances_,index=X_test.columns)\n",
    "importance.sort_values(ascending=False)"
   ]
  },
  {
   "cell_type": "code",
   "execution_count": null,
   "metadata": {},
   "outputs": [],
   "source": [
    "importance.plot.bar(figsize=(12,6)).set_title(\"Features Importance Chart\");# RF"
   ]
  },
  {
   "cell_type": "code",
   "execution_count": null,
   "metadata": {},
   "outputs": [],
   "source": [
    "importance = pd.Series(final_model.feature_importances_,index=X_test.columns)\n",
    "importance.plot.bar(figsize=(12,6)).set_title(\"Features Importance Chart\");# DT"
   ]
  },
  {
   "cell_type": "code",
   "execution_count": null,
   "metadata": {},
   "outputs": [],
   "source": [
    "importance = pd.Series(final_model.feature_importances_,index=X_test.columns)\n",
    "importance.plot.bar(figsize=(12,6)).set_title(\"Features Importance Chart\");# LR"
   ]
  },
  {
   "cell_type": "code",
   "execution_count": null,
   "metadata": {},
   "outputs": [],
   "source": [
    "from sklearn.feature_selection import SelectKBest, chi2\n",
    "\n",
    "X_new = SelectKBest(chi2, k=10).fit_transform(X, y)\n",
    "X_new.shape"
   ]
  },
  {
   "cell_type": "code",
   "execution_count": null,
   "metadata": {},
   "outputs": [],
   "source": [
    "X_new[0]"
   ]
  },
  {
   "cell_type": "code",
   "execution_count": 382,
   "metadata": {},
   "outputs": [
    {
     "data": {
      "text/plain": [
       "[1, 19, 3]"
      ]
     },
     "execution_count": 382,
     "metadata": {},
     "output_type": "execute_result"
    }
   ],
   "source": []
  },
  {
   "cell_type": "code",
   "execution_count": null,
   "metadata": {
    "scrolled": true
   },
   "outputs": [],
   "source": [
    "d.corr().iloc[:,-1].sort_values()"
   ]
  },
  {
   "cell_type": "code",
   "execution_count": 471,
   "metadata": {},
   "outputs": [],
   "source": [
    "final_model = DecisionTreeClassifier().fit(X,y)"
   ]
  },
  {
   "cell_type": "code",
   "execution_count": 374,
   "metadata": {},
   "outputs": [
    {
     "name": "stdout",
     "output_type": "stream",
     "text": [
      "Requirement already satisfied: graphviz in /Users/a32294/opt/anaconda3/lib/python3.8/site-packages (0.17)\n",
      "Note: you may need to restart the kernel to use updated packages.\n"
     ]
    }
   ],
   "source": [
    "pip install graphviz"
   ]
  },
  {
   "cell_type": "code",
   "execution_count": 472,
   "metadata": {},
   "outputs": [
    {
     "data": {
      "image/png": "[encoded data removed]",
      "text/plain": [
       "<Figure size 2160x720 with 1 Axes>"
      ]
     },
     "metadata": {
      "needs_background": "light"
     },
     "output_type": "display_data"
    }
   ],
   "source": [
    "from sklearn import tree\n",
    "plt.figure(figsize=(30,10))  \n",
    "_ = tree.plot_tree(final_model, feature_names = X.columns, \n",
    "             filled=True, rounded = True)\n",
    "plt.show()"
   ]
  },
  {
   "cell_type": "code",
   "execution_count": 495,
   "metadata": {},
   "outputs": [],
   "source": [
    "lab = X['JobSatisfaction']"
   ]
  },
  {
   "cell_type": "code",
   "execution_count": 496,
   "metadata": {},
   "outputs": [],
   "source": [
    "qq = X.copy()\n",
    "fea = qq.drop(['JobSatisfaction','Flight risk likelihood (in 2018)'],\n",
    "              axis=1)"
   ]
  },
  {
   "cell_type": "code",
   "execution_count": 498,
   "metadata": {},
   "outputs": [
    {
     "data": {
      "text/plain": [
       "Salary in euros               0.071379\n",
       "RecruitmentCosts              0.067252\n",
       "Age                           0.063400\n",
       "DistanceFromHome              0.055140\n",
       "TotalWorkingYears             0.049082\n",
       "Percentage Salary increase    0.047012\n",
       "YearsAtCompany                0.046925\n",
       "YearsInCurrentRole            0.046754\n",
       "Sickness days                 0.045855\n",
       "YearsWithCurrManager          0.043234\n",
       "NumCompaniesWorked            0.039751\n",
       "YearsSinceLastPromotion       0.034273\n",
       "TrainingTimes                 0.034234\n",
       "JobRole                       0.029589\n",
       "EducationField                0.028859\n",
       "Education                     0.028283\n",
       "PerformanceRating             0.027476\n",
       "EnvironmentSatisfaction       0.027294\n",
       "ManagerSatisfaction           0.026934\n",
       "WorkLifeBalance               0.023832\n",
       "JobInvolvement                0.023637\n",
       "TalentStatus                  0.022170\n",
       "YearsInCurrentRoleCat         0.020023\n",
       "BusinessTravel                0.017021\n",
       "MaritalStatus                 0.016944\n",
       "OverTime                      0.016830\n",
       "JobLevel                      0.013601\n",
       "Gender                        0.012249\n",
       "Department                    0.011607\n",
       "Type of contract              0.009360\n",
       "dtype: float64"
      ]
     },
     "execution_count": 498,
     "metadata": {},
     "output_type": "execute_result"
    }
   ],
   "source": [
    "scale = preprocessing.StandardScaler().fit(fea)\n",
    "fea_scaled = scale.transform(fea)\n",
    "\n",
    "rf1 =RandomForestClassifier().fit(fea_scaled,lab)\n",
    "imp = pd.Series(rf1.feature_importances_,index=fea.columns)\n",
    "mod = imp.sort_values(ascending=False)\n",
    "mod"
   ]
  },
  {
   "cell_type": "code",
   "execution_count": 512,
   "metadata": {},
   "outputs": [
    {
     "data": {
      "text/plain": [
       "Index(['Salary in euros', 'RecruitmentCosts', 'Age'], dtype='object')"
      ]
     },
     "execution_count": 512,
     "metadata": {},
     "output_type": "execute_result"
    }
   ],
   "source": [
    "mod.head(3).index"
   ]
  },
  {
   "cell_type": "code",
   "execution_count": 499,
   "metadata": {},
   "outputs": [
    {
     "data": {
      "image/png": "[encoded data removed]",
      "text/plain": [
       "<Figure size 864x432 with 1 Axes>"
      ]
     },
     "metadata": {
      "needs_background": "light"
     },
     "output_type": "display_data"
    }
   ],
   "source": [
    "mod.sort_values(ascending=False).plot.bar(figsize=(12,6)).set_title(\"Features Importance Chart\");# RF"
   ]
  },
  {
   "cell_type": "code",
   "execution_count": 504,
   "metadata": {},
   "outputs": [
    {
     "name": "stdout",
     "output_type": "stream",
     "text": [
      "-------------------------------------------------\n",
      "<class 'sklearn.linear_model._logistic.LogisticRegression'>\n"
     ]
    },
    {
     "name": "stderr",
     "output_type": "stream",
     "text": [
      "/Users/a32294/opt/anaconda3/lib/python3.8/site-packages/sklearn/linear_model/_logistic.py:814: ConvergenceWarning: lbfgs failed to converge (status=1):\n",
      "STOP: TOTAL NO. of ITERATIONS REACHED LIMIT.\n",
      "\n",
      "Increase the number of iterations (max_iter) or scale the data as shown in:\n",
      "    https://scikit-learn.org/stable/modules/preprocessing.html\n",
      "Please also refer to the documentation for alternative solver options:\n",
      "    https://scikit-learn.org/stable/modules/linear_model.html#logistic-regression\n",
      "  n_iter_i = _check_optimize_result(\n",
      "/Users/a32294/opt/anaconda3/lib/python3.8/site-packages/sklearn/linear_model/_logistic.py:814: ConvergenceWarning: lbfgs failed to converge (status=1):\n",
      "STOP: TOTAL NO. of ITERATIONS REACHED LIMIT.\n",
      "\n",
      "Increase the number of iterations (max_iter) or scale the data as shown in:\n",
      "    https://scikit-learn.org/stable/modules/preprocessing.html\n",
      "Please also refer to the documentation for alternative solver options:\n",
      "    https://scikit-learn.org/stable/modules/linear_model.html#logistic-regression\n",
      "  n_iter_i = _check_optimize_result(\n"
     ]
    },
    {
     "name": "stdout",
     "output_type": "stream",
     "text": [
      "OverTime\n",
      "TalentStatus\n",
      "JobInvolvement\n",
      "\n",
      "-------------------------------------------------\n",
      "<class 'sklearn.tree._classes.DecisionTreeClassifier'>\n",
      "Age\n",
      "Salary in euros\n",
      "RecruitmentCosts\n",
      "\n"
     ]
    }
   ],
   "source": [
    "lr = LogisticRegression(max_iter = 1000)\n",
    "dt = DecisionTreeClassifier()\n",
    "from sklearn.feature_selection import RFE\n",
    "model_list = [lr,dt]\n",
    "\n",
    "feature_names = fea.columns\n",
    "\n",
    "f = []\n",
    "for model in model_list:\n",
    "    \n",
    "    print(\"-------------------------------------------------\")\n",
    "    \n",
    "    rfe = RFE(estimator=model, n_features_to_select=3)\n",
    "    \n",
    "    print(model.__class__)\n",
    "    rfe.fit(fea, lab)\n",
    "\n",
    "    for i in range(0,30):\n",
    "        if rfe.support_[i] == True:\n",
    "            print(feature_names[i], end=\"\\n\")\n",
    "            f.append(feature_names[i])\n",
    "    print(\"\")\n",
    "\n",
    "\n"
   ]
  },
  {
   "cell_type": "code",
   "execution_count": 510,
   "metadata": {},
   "outputs": [
    {
     "data": {
      "text/plain": [
       "0       Salary in euros\n",
       "1    YearsInCurrentRole\n",
       "2      RecruitmentCosts\n",
       "dtype: object"
      ]
     },
     "execution_count": 510,
     "metadata": {},
     "output_type": "execute_result"
    }
   ],
   "source": [
    "from sklearn.feature_selection import SelectKBest, chi2\n",
    "X_new = SelectKBest(chi2, k=3).fit(fea, lab)\n",
    "\n",
    "X_new.get_support(indices=True)\n",
    "SelectKBest = pd.Series(fea.columns[X_new.get_support(indices=True)])\n",
    "SelectKBest"
   ]
  },
  {
   "cell_type": "code",
   "execution_count": 517,
   "metadata": {},
   "outputs": [],
   "source": [
    "SelectKBest[1]='RecruitmentCosts'\n",
    "SelectKBest[2]='YearsInCurrentRole'"
   ]
  },
  {
   "cell_type": "code",
   "execution_count": 528,
   "metadata": {},
   "outputs": [
    {
     "data": {
      "text/html": [
       "<div>\n",
       "<style scoped>\n",
       "    .dataframe tbody tr th:only-of-type {\n",
       "        vertical-align: middle;\n",
       "    }\n",
       "\n",
       "    .dataframe tbody tr th {\n",
       "        vertical-align: top;\n",
       "    }\n",
       "\n",
       "    .dataframe thead th {\n",
       "        text-align: right;\n",
       "    }\n",
       "</style>\n",
       "<table border=\"1\" class=\"dataframe\">\n",
       "  <thead>\n",
       "    <tr style=\"text-align: right;\">\n",
       "      <th></th>\n",
       "      <th>SelectKBest</th>\n",
       "      <th>Randome Forest</th>\n",
       "    </tr>\n",
       "  </thead>\n",
       "  <tbody>\n",
       "    <tr>\n",
       "      <th>first important</th>\n",
       "      <td>Salary in euros</td>\n",
       "      <td>Salary in euros</td>\n",
       "    </tr>\n",
       "    <tr>\n",
       "      <th>second important</th>\n",
       "      <td>RecruitmentCosts</td>\n",
       "      <td>RecruitmentCosts</td>\n",
       "    </tr>\n",
       "    <tr>\n",
       "      <th>third important</th>\n",
       "      <td>YearsInCurrentRole</td>\n",
       "      <td>Age</td>\n",
       "    </tr>\n",
       "  </tbody>\n",
       "</table>\n",
       "</div>"
      ],
      "text/plain": [
       "                         SelectKBest    Randome Forest\n",
       "first important      Salary in euros   Salary in euros\n",
       "second important    RecruitmentCosts  RecruitmentCosts\n",
       "third important   YearsInCurrentRole               Age"
      ]
     },
     "execution_count": 528,
     "metadata": {},
     "output_type": "execute_result"
    }
   ],
   "source": [
    "u = pd.DataFrame([SelectKBest,mod.head(3).index]).T\n",
    "u.index=['first important','second important','third important']\n",
    "u.columns=['SelectKBest','Randome Forest']\n",
    "u"
   ]
  }
 ],
 "metadata": {
  "kernelspec": {
   "display_name": "Python 3",
   "language": "python",
   "name": "python3"
  },
  "language_info": {
   "codemirror_mode": {
    "name": "ipython",
    "version": 3
   },
   "file_extension": ".py",
   "mimetype": "text/x-python",
   "name": "python",
   "nbconvert_exporter": "python",
   "pygments_lexer": "ipython3",
   "version": "3.8.5"
  }
 },
 "nbformat": 4,
 "nbformat_minor": 4
}
